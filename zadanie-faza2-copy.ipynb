{
 "cells": [
  {
   "metadata": {},
   "cell_type": "markdown",
   "source": [
    "#   IAU Zadanie - II. fáza - COPY\n",
    "\n",
    "### Autori: Peter Brandajsky - 50%, Frederik Duvač - 50%"
   ],
   "id": "a5ee4c1ca082713d"
  },
  {
   "metadata": {},
   "cell_type": "markdown",
   "source": [
    "# 2.1 Realizácia predspracovania dát\n",
    "\n",
    "## 2.1.A"
   ],
   "id": "866cff14e6e51a42"
  },
  {
   "metadata": {},
   "cell_type": "code",
   "outputs": [],
   "execution_count": null,
   "source": "",
   "id": "1aeb47422083e2d3"
  },
  {
   "metadata": {},
   "cell_type": "markdown",
   "source": "## 2.1.B",
   "id": "6c552986de2fc481"
  },
  {
   "cell_type": "code",
   "execution_count": null,
   "id": "initial_id",
   "metadata": {
    "collapsed": true
   },
   "outputs": [],
   "source": [
    ""
   ]
  },
  {
   "metadata": {},
   "cell_type": "markdown",
   "source": "## 2.1.C",
   "id": "159cf8a9a1d40fb4"
  },
  {
   "metadata": {},
   "cell_type": "code",
   "outputs": [],
   "execution_count": null,
   "source": "",
   "id": "68e9a701c00693b5"
  },
  {
   "metadata": {},
   "cell_type": "markdown",
   "source": "## 2.1.D",
   "id": "34c765e676448a41"
  },
  {
   "metadata": {},
   "cell_type": "code",
   "outputs": [],
   "execution_count": null,
   "source": "",
   "id": "501185d66c3d73bc"
  },
  {
   "metadata": {},
   "cell_type": "markdown",
   "source": [
    "# 2.2 Výber atribútov pre strojové učenie\n",
    "\n",
    "## 2.2.A"
   ],
   "id": "8d79ba6151c3cfed"
  },
  {
   "metadata": {},
   "cell_type": "code",
   "outputs": [],
   "execution_count": null,
   "source": "",
   "id": "e1d221fb928cf0f"
  },
  {
   "metadata": {},
   "cell_type": "markdown",
   "source": "## 2.2.B",
   "id": "df8a51510a32c000"
  },
  {
   "metadata": {},
   "cell_type": "code",
   "outputs": [],
   "execution_count": null,
   "source": "",
   "id": "c002bddce4dfd874"
  },
  {
   "metadata": {},
   "cell_type": "markdown",
   "source": "## 2.2.C",
   "id": "41ecfb277824f53"
  },
  {
   "metadata": {},
   "cell_type": "code",
   "outputs": [],
   "execution_count": null,
   "source": "",
   "id": "8c4c77f1fb845cb"
  },
  {
   "metadata": {},
   "cell_type": "markdown",
   "source": [
    "# 2.3 Replikovateľnosť predspracovania\n",
    "\n",
    "## 2.3.A"
   ],
   "id": "4826cee2830d481a"
  },
  {
   "metadata": {},
   "cell_type": "code",
   "outputs": [],
   "execution_count": null,
   "source": "",
   "id": "94ebbf94e15dd93d"
  },
  {
   "metadata": {},
   "cell_type": "markdown",
   "source": "## 2.3.B",
   "id": "ce18ad3de12a13b2"
  },
  {
   "metadata": {},
   "cell_type": "code",
   "outputs": [],
   "execution_count": null,
   "source": "",
   "id": "b3125b8807e4b3ef"
  }
 ],
 "metadata": {
  "kernelspec": {
   "display_name": "Python 3",
   "language": "python",
   "name": "python3"
  },
  "language_info": {
   "codemirror_mode": {
    "name": "ipython",
    "version": 2
   },
   "file_extension": ".py",
   "mimetype": "text/x-python",
   "name": "python",
   "nbconvert_exporter": "python",
   "pygments_lexer": "ipython2",
   "version": "2.7.6"
  }
 },
 "nbformat": 4,
 "nbformat_minor": 5
}
