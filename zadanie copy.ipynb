{
 "cells": [
  {
   "cell_type": "markdown",
   "metadata": {},
   "source": [
    "#   IAU Zadanie - I. fáza\n",
    "\n",
    "### Autori: Peter Brandajsky - 50%, Frederik Duvač - 50%"
   ]
  },
  {
   "cell_type": "markdown",
   "metadata": {},
   "source": [
    "## Opis dát v jednotlivych datasetoch\n",
    "\n",
    "### Vysvetlenie hlavičiek v *connections.csv* súbore:\n",
    "Tento dataset zaznamenáva informácie o sieťových pripojeniach mobilných zariadení. Ide o dáta zbierané v pravidelných časových intervaloch s cieľom sledovať aktivitu aplikácií a identifikovať potenciálne škodlivé správanie.\n",
    "\n",
    "- **ts** - Časová pečiatka (timestamp) udáva čas záznamu, napríklad „2018-05-05 10:00:00“. Zobrazuje presný dátum a čas, kedy bol údaj zaznamenaný.\n",
    "\n",
    "- **imei** - Toto je unikátne identifikačné číslo zariadenia (IMEI). Každé mobilné zariadenie má svoje vlastné IMEI, ktoré je jedinečné pre každé zariadenie.\n",
    "\n",
    "- **mwra** - Závislá premenná (malware-related-activity), ktorá označuje, či v danom časovom intervale bola zaznamenaná aktivita spojená s malvérom, ktorá má hodnoty v číselnom rozsahu (0.00000 alebo 1.00000).\n",
    "\n",
    "- **c.android.gm** - Táto hlavička pravdepodobne odkazuje na aplikáciu Gmail na Androide. Hodnota za ňou môže označovať nejaký druh použitia alebo prenosu dát (napríklad množstvo prenesených dát).\n",
    "\n",
    "- **c.android.chrome** - Odkazuje na prehliadač Google Chrome na Androide. Hodnota môže označovať aktivitu alebo použitie aplikácie.\n",
    "\n",
    "- **c.dogalize** - Odkazuje na konkrétnu aplikáciu s názvom \"Dogalize\". Môže to byť aplikácia súvisiaca so starostlivosťou o zvieratá alebo sociálna sieť pre majiteľov psov. Hodnoty môžu opäť predstavovať objem prenesených dát.\n",
    "\n",
    "- **c.katana** - Pravdepodobne odkazuje na aplikáciu Facebook, ktorá má vnútorný názov „katana“ v kóde.\n",
    "\n",
    "- **c.android.youtube** - Odkazuje na aplikáciu YouTube na Androide. Hodnoty môžu predstavovať dátové prenosy alebo čas strávený v aplikácii.\n",
    "\n",
    "- **c.android.vending** - Toto je interné označenie pre Google Play Store, kde „vending“ znamená distribúciu aplikácií. Hodnota môže reprezentovať aktivitu súvisiacu so sťahovaním alebo inštaláciou aplikácií.\n",
    "\n",
    "- **c.updateassist** - Pravdepodobne odkazuje na asistenčný nástroj pre aktualizácie, ktorý sa stará o aktualizácie systému alebo aplikácií.\n",
    "\n",
    "- **c.UCMobile.intl** - Pravdepodobne odkazuje na medzinárodnú verziu prehliadača UC Browser. Hodnoty opäť môžu predstavovať prenesené dáta alebo používanie.\n",
    "\n",
    "- **c.raider** - Môže ísť o špecifickú aplikáciu alebo hru, ktorá má v názve \"raider\". Bez konkrétneho kontextu je ťažké určiť, ktorá aplikácia to presne je.\n",
    "\n",
    "- **c.UCMobile.x86** - Toto môže byť ďalšia verzia prehliadača UC Browser, optimalizovaná pre zariadenia s procesormi x86.\n",
    "\n",
    "## Vysvetlenie hlavičiek v súbore *devices.csv*:\n",
    "Dataset obsahuje geografické údaje o mobilných zariadeniach, spolu s informáciami o mieste, kde boli zariadenia registrované alebo zakúpené, a v akom časovom pásme sa nachádzajú.\n",
    "\n",
    "- **latitude** - Zemepisná šírka, ktorá určuje geografickú polohu zariadenia na sever od rovníka. Napríklad hodnota 4.73245 znamená, že zariadenie sa nachádza na mieste s touto zemepisnou šírkou.\n",
    "\n",
    "- **longitude** - Zemepisná dĺžka, ktorá určuje polohu na východ alebo západ od nultého poludníka (Greenwich). Napríklad hodnota -74.26419 znamená, že zariadenie sa nachádza na západ od nultého poludníka.\n",
    "\n",
    "- **store_name** - Názov miesta alebo predajne, kde je zariadenie pravdepodobne registrované alebo bolo zakúpené. Napríklad \"Madrid\" naznačuje, že zariadenie bolo registrované alebo zakúpené v Madridu.\n",
    "\n",
    "- **code** - Kód krajiny, ktorý označuje, kde sa zariadenie nachádza. Napríklad \"CO\" znamená Kolumbia, \"US\" znamená Spojené štáty, \"DE\" znamená Nemecko.\n",
    "\n",
    "- **location** - Časové pásmo, v ktorom sa zariadenie nachádza. Napríklad \"America/Bogota\" znamená, že zariadenie sa nachádza v časovom pásme Bogotá v Kolumbii, zatiaľ čo \"Europe/Berlin\" znamená časové pásmo Berlín v Nemecku.\n",
    "\n",
    "- **imei** - Unikátne identifikačné číslo zariadenia (IMEI), ktoré identifikuje mobilné zariadenie. Toto číslo je jedinečné pre každé zariadenie a je rovnaké ako v predchádzajúcom súbore.\n",
    "\n",
    "## Vysvetlenie hlavičiek v súbore *processes.csv*:\n",
    "Obsahuje údaje o procesoch, ktoré bežia na mobilných zariadeniach, vrátane systémových procesov a používateľských aplikácií. Zaznamenáva sa pravidelne, čo vedie k určitým redundanciám.\n",
    "\n",
    "- **ts** - Čas, kedy bol proces zaznamenaný.\n",
    "\n",
    "- **imei** - Unikátne identifikačné číslo zariadenia (IMEI), ktoré identifikuje konkrétne mobilné zariadenie.\n",
    "\n",
    "- **mwra** - Indikátor malvérovej aktivity, ktorý je cieľom predikcie.\n",
    "\n",
    "- **p.android.documentsui** - Tento proces pravdepodobne odkazuje na správcu súborov Androidu, ktorý umožňuje používateľom spravovať svoje dokumenty a súbory.\n",
    "\n",
    "- **p.system** - Odkazuje na základný systémový proces Androidu. Tento proces je súčasťou operačného systému a je nevyhnutný pre fungovanie zariadenia.\n",
    "\n",
    "- **p.android.settings** - Tento proces je zodpovedný za aplikáciu Nastavenia na Android zariadení.\n",
    "\n",
    "- **p.android.chrome** - Odkazuje na prehliadač Google Chrome na Androide.\n",
    "\n",
    "- **p.android.externalstorage** - Proces súvisiaci s externým úložiskom na zariadení, ako je napríklad prístup k SD karte alebo USB úložisku.\n",
    "\n",
    "- **p.android.gm** - Tento proces odkazuje na Gmail aplikáciu v systéme Android.\n",
    "\n",
    "- **p.android.packageinstaller** - Tento proces je zodpovedný za inštaláciu aplikácií v systéme Android.\n",
    "\n",
    "- **p.inputmethod.latin** - Proces súvisiaci so vstupnou metódou (klávesnicou) v latinskom jazyku na Androide.\n",
    "\n",
    "- **p.olauncher** - Proces, ktorý pravdepodobne súvisí s konkrétnym launcherom (hlavnou obrazovkou a spúšťačom aplikácií) na zariadení.\n",
    "\n",
    "- **p.google** - Odkazuje na proces súvisiaci s Google aplikáciami alebo službami.\n",
    "\n",
    "- **p.process.gapps** - Tento proces súvisí s Google Apps (GApps), balíčkom aplikácií a služieb od Google, ktoré bežia na Android zariadeniach.\n",
    "\n",
    "- **p.katana** - Odkazuje na proces aplikácie Facebook, ktorá má vnútorný názov \"katana\".\n",
    "\n",
    "- **p.gms.persistent** - Proces spojený s Google Mobile Services (GMS), ktorý zabezpečuje rôzne služby od Google na zariadeniach s Androidom.\n",
    "\n",
    "- **p.android.defcontainer** - Tento proces je súčasťou Androidu a zabezpečuje operácie súvisiace s prístupom k dátovým balíkom aplikácií.\n",
    "\n",
    "- **p.browser.provider** - Odkazuje na poskytovateľa údajov pre prehliadače, ktorý môže zahŕňať prístup k uloženým záložkám, histórii atď.\n",
    "\n",
    "- **p.simulator** - Tento proces môže byť spojený so simulátorom, ktorý napodobňuje určité správanie zariadenia alebo aplikácie.\n",
    "\n",
    "- **p.notifier** - Proces zodpovedný za notifikácie na zariadení.\n",
    "\n",
    "- **p.android.vending** - Tento proces je spojený s Google Play Store, ktorý je zodpovedný za distribúciu aplikácií.\n",
    "\n",
    "- **p.dogalize** - Pravdepodobne ide o proces aplikácie Dogalize, ktorá môže byť sociálnou sieťou pre milovníkov zvierat.\n",
    "\n",
    "- **p.android.gms** - Tento proces súvisí s Google Mobile Services, kľúčovou službou pre zariadenia s Androidom.\n",
    "\n",
    "## Vysvetlenie hlavičiek v súbore *profiles.csv*:\n",
    "Dataset obsahuje profilové informácie o používateľoch mobilných zariadení, vrátane kontaktov a osobných údajov.\n",
    "\n",
    "- **mail** - E-mailová adresa používateľa. Napríklad „gperez@gmail.com“ je e-mailová adresa používateľa.\n",
    "\n",
    "- **address** - Adresa, na ktorej používateľ žije alebo má trvalé bydlisko. Napríklad „5545 Amy Walk, North Johnnymouth, VI 16727“.\n",
    "\n",
    "- **ssn** - Sociálne poistenie (Social Security Number), používané v USA na identifikáciu občanov a rezidentov. Napríklad \"465-13-3266\" je príkladom SSN.\n",
    "\n",
    "- **residence** - Adresa pobytu používateľa, ak sa líši od address. Nie všetky záznamy majú túto hodnotu vyplnenú, ale v niektorých prípadoch môže byť používateľ registrovaný na inom mieste než býva.\n",
    "\n",
    "- **company** - Názov spoločnosti, kde používateľ pracuje alebo s ktorou je spojený. Napríklad „Brown Inc“ alebo „Smith, Jones and Hall“.\n",
    "\n",
    "- **registration** - Dátum, kedy sa používateľ zaregistroval. Napríklad „2024-01-24“ znamená, že používateľ sa registroval 24. januára 2024. Formát dátumu môže byť rôzny.\n",
    "\n",
    "- **user_id** - Unikátny identifikačný kód používateľa v systéme. Napríklad \"830\" je ID používateľa.\n",
    "\n",
    "- **job** - Pracovná pozícia alebo povolanie používateľa. Napríklad „Physiotherapist“ znamená, že používateľ pracuje ako fyzioterapeut. Niektoré záznamy môžu mať túto hodnotu prázdnu.\n",
    "\n",
    "- **name** - Meno používateľa. Napríklad „Nancy Brown“ je meno používateľa.\n",
    "\n",
    "- **birthdate** - Dátum narodenia používateľa. Napríklad „1979-11-07“ znamená, že používateľ sa narodil 7. novembra 1979.\n",
    "\n",
    "- **username** - Používateľské meno, ktoré používateľ používa v systéme. Napríklad „albert50“ je používateľské meno.\n",
    "\n",
    "- **imei** - Unikátne identifikačné číslo zariadenia (IMEI), ktoré identifikuje konkrétne mobilné zariadenie používané týmto používateľom.\n",
    "\n",
    "---"
   ]
  },
  {
   "cell_type": "markdown",
   "metadata": {},
   "source": [
    "### Načítanie údajov z datasetov"
   ]
  },
  {
   "cell_type": "code",
   "execution_count": null,
   "metadata": {},
   "outputs": [],
   "source": [
    "import numpy as np\n",
    "import pandas as pd\n",
    "import matplotlib.pyplot as plt\n",
    "import seaborn as sns\n",
    "import scipy.stats as stats\n",
    "import statsmodels.api as sm\n",
    "import pingouin as pg\n",
    "\n",
    "connections = pd.read_csv('dataset/connections.csv', sep='\\t')\n",
    "devices = pd.read_csv('dataset/devices.csv', sep='\\t')\n",
    "processes = pd.read_csv('dataset/processes.csv', sep='\\t')\n",
    "profiles = pd.read_csv('dataset/profiles.csv', sep='\\t')"
   ]
  },
  {
   "cell_type": "markdown",
   "metadata": {},
   "source": [
    "Import vsetkych potrebnych kniznic a nacitavanie vsetkych csv datasetov"
   ]
  },
  {
   "cell_type": "markdown",
   "metadata": {},
   "source": [
    "### Náhlad na dáta"
   ]
  },
  {
   "cell_type": "code",
   "execution_count": null,
   "metadata": {},
   "outputs": [],
   "source": [
    "connections.head()"
   ]
  },
  {
   "cell_type": "code",
   "execution_count": null,
   "metadata": {},
   "outputs": [],
   "source": [
    "devices.head()"
   ]
  },
  {
   "cell_type": "code",
   "execution_count": null,
   "metadata": {},
   "outputs": [],
   "source": [
    "processes.head()"
   ]
  },
  {
   "cell_type": "code",
   "execution_count": null,
   "metadata": {},
   "outputs": [],
   "source": [
    "profiles.head()"
   ]
  },
  {
   "cell_type": "markdown",
   "metadata": {},
   "source": [
    "---\n",
    "\n",
    "# 1.1 Základný opis dát spolu s ich charakteristikami\n",
    "\n",
    "## 1.1.A - Analýza štruktúr dát\n",
    "### Štruktúra dátových súborov"
   ]
  },
  {
   "cell_type": "markdown",
   "metadata": {},
   "source": [
    "#### Dataset: **connections.csv**"
   ]
  },
  {
   "cell_type": "code",
   "execution_count": null,
   "metadata": {},
   "outputs": [],
   "source": [
    "rec, attr = connections.shape\n",
    "print(f'Records (rows): {rec}\\nAttributes (columns): {attr}')"
   ]
  },
  {
   "cell_type": "code",
   "execution_count": null,
   "metadata": {},
   "outputs": [],
   "source": [
    "connections.info()"
   ]
  },
  {
   "cell_type": "markdown",
   "metadata": {},
   "source": [
    "Základné informácie o súbore connections.csv. Nultý column je objekt v ktorom je uložený dátum, prvý je celočíselná hodnota IMEI, mwra, ktorý je float64, ale môže byť len 1.0 alebo 0.0 a ostatné columns znázorňujú čas strávený používaním rôznych aplikácií."
   ]
  },
  {
   "cell_type": "markdown",
   "metadata": {},
   "source": [
    "#### Dataset: **devices.csv**"
   ]
  },
  {
   "cell_type": "code",
   "execution_count": null,
   "metadata": {},
   "outputs": [],
   "source": [
    "rec, attr = devices.shape\n",
    "print(f'Records (rows): {rec}\\nAttributes (columns): {attr}')"
   ]
  },
  {
   "cell_type": "code",
   "execution_count": null,
   "metadata": {},
   "outputs": [],
   "source": [
    "devices.info()"
   ]
  },
  {
   "cell_type": "markdown",
   "metadata": {},
   "source": [
    "Základné informácie o súbore devices.csv. Nultý column znázorňuje zemepisnú šírku a prvý zemepisnú šírku. Druhý znázorňuje obchod, v ktorom bol kúpený, tretí znázorňuje označenie krajiny pôvodu, štvrtý obsahuje hodnoty \"Kontinent/Mesto\". Piatý column znázorňuje imei telefónu."
   ]
  },
  {
   "cell_type": "markdown",
   "metadata": {},
   "source": [
    "#### Dataset: **processes.csv**"
   ]
  },
  {
   "cell_type": "code",
   "execution_count": null,
   "metadata": {},
   "outputs": [],
   "source": [
    "rec, attr = processes.shape\n",
    "print(f'Records (rows): {rec}\\nAttributes (columns): {attr}')"
   ]
  },
  {
   "cell_type": "code",
   "execution_count": null,
   "metadata": {},
   "outputs": [],
   "source": [
    "processes.info()"
   ]
  },
  {
   "cell_type": "markdown",
   "metadata": {},
   "source": [
    "Základné informácie o súbore processes.csv. Nultý column je objekt, na ktorý sa pozrieme neskôr. Column 1 obsahuje hodnoty imei(ID telefónu) a zostávajúce stĺpce súvisia s rôznymi procesmi alebo aplikáciami systému Android. Názov každého stĺpca začína písmenom „p“. nasleduje názov procesu alebo aplikácie. Hodnoty v týchto stĺpcoch sú čísla, ktoré pravdepodobne predstavujú určitú formu použitia alebo metriky aktivity."
   ]
  },
  {
   "cell_type": "markdown",
   "metadata": {},
   "source": [
    "#### Dataset: **profiles.csv**"
   ]
  },
  {
   "cell_type": "code",
   "execution_count": null,
   "metadata": {},
   "outputs": [],
   "source": [
    "rec, attr = profiles.shape\n",
    "print(f'Records (rows): {rec}\\nAttributes (columns): {attr}')"
   ]
  },
  {
   "cell_type": "code",
   "execution_count": null,
   "metadata": {},
   "outputs": [],
   "source": [
    "profiles.info()"
   ]
  },
  {
   "cell_type": "markdown",
   "metadata": {},
   "source": [
    "V nultom stĺpci sa nachádza objekt, ktorý obsahuje emailové adresy používateľov. V prvom stĺpci sa nachádza objekt, ktorý obsahuje adresu používateľa, ktorý môže byť aj prázdna. Druhý stĺpec obsahuje hodnotu ssn(Social Security Number), čo je unikátne číslo, ktoré je pridelené obyvateľom USA."
   ]
  },
  {
   "cell_type": "markdown",
   "metadata": {},
   "source": [
    "### Vztahy medzi súbormi\n",
    "\n",
    "Kľúčový identifikátor na prepojenie dát:\n",
    "\n",
    "**IMEI** (International Mobile Equipment Identity) je jedinečné identifikačné číslo, ktoré sa vyskytuje vo všetkých štyroch datasetoch (connections.csv, devices.csv, processes.csv, profiles.csv). IMEI číslo umožňuje spojiť záznamy o sieťových pripojeniach, procesoch, polohe zariadenia a profilových informáciách používateľa.\n",
    "\n",
    "Kombinovanie záznamov na získanie uceleného pohľadu:\n",
    "\n",
    "Jednotný dataset vytvorime napríklad spojením nasledujucich suborov:\n",
    "\n",
    "- Prepojenie connections.csv s devices.csv\n",
    "\n",
    "    - Kombinovaním týchto súborov môžeme získať údaje o tom, kde sa zariadenie nachádzalo v čase konkrétnej sieťovej aktivity.\n",
    "\n",
    "- Prepojenie connections.csv s processes.csv\n",
    "\n",
    "    - Spájaním týchto údajov získame pohľad na to, ktoré procesy a aplikácie bežali v čase, keď bola zaznamenaná určitá sieťová aktivita.\n",
    "\n",
    "- Prepojenie devices.csv s profiles.csv\n",
    "\n",
    "    - Tu mozeme pouziť IMEI ako identifikátor na spojenie geografických údajov o zariadení s profilovými informáciami o používateľovi.\n",
    "\n",
    "- Spoločné prepojenie všetkých štyroch datasetov\n",
    "\n",
    "    - Použitím IMEI môžeme spojiť všetky štyri datasetové zdroje.\n",
    "\n",
    "Spojením vieme získať tieto informácie:\n",
    "- Časová pečiatka, ktorá spája sieťovú aktivitu s aktívnymi procesmi.\n",
    "- Zemepisná poloha zariadenia v čase aktivity.\n",
    "- Informácie o používateľovi, ktorý zariadenie používa, vrátane demografických údajov a pracovného pozadia.\n",
    "- Závislá premenná mwra, ktorá indikuje prítomnosť malvérovej aktivity, umožní skúmať, aké faktory alebo kombinácie atribútov sú spojené s rizikom malvéru.\n",
    "\n",
    "Výhody kombinovaného datasetu su najmä **komplexná analýza**, **zlepšenie presnosti modelu** a **flexibilita pri výbere atribútov**"
   ]
  },
  {
   "cell_type": "markdown",
   "metadata": {},
   "source": [
    "## 1.1.B - Analýza jednotlivých atribútov"
   ]
  },
  {
   "cell_type": "code",
   "execution_count": null,
   "metadata": {},
   "outputs": [],
   "source": [
    "connections.describe(include='all')"
   ]
  },
  {
   "cell_type": "code",
   "execution_count": null,
   "metadata": {},
   "outputs": [],
   "source": [
    "sns.histplot(data=connections.mwra)"
   ]
  },
  {
   "cell_type": "code",
   "execution_count": null,
   "metadata": {},
   "outputs": [],
   "source": [
    "sns.histplot(connections['c.raider'])"
   ]
  },
  {
   "cell_type": "code",
   "execution_count": null,
   "metadata": {},
   "outputs": [],
   "source": [
    "sns.boxplot(data=connections['c.android.chrome'], orient='h')"
   ]
  },
  {
   "cell_type": "code",
   "execution_count": null,
   "metadata": {},
   "outputs": [],
   "source": [
    "sns.histplot(data=connections['c.katana'], kde=True)"
   ]
  },
  {
   "cell_type": "code",
   "execution_count": null,
   "metadata": {},
   "outputs": [],
   "source": [
    "sns.histplot(data=connections['c.android.chrome'], kde=True)"
   ]
  },
  {
   "cell_type": "code",
   "execution_count": null,
   "metadata": {},
   "outputs": [],
   "source": [
    "sns.histplot(data=connections['c.UCMobile.intl'])"
   ]
  },
  {
   "cell_type": "code",
   "execution_count": null,
   "metadata": {},
   "outputs": [],
   "source": [
    "devices.describe(include='all')"
   ]
  },
  {
   "cell_type": "code",
   "execution_count": null,
   "metadata": {},
   "outputs": [],
   "source": [
    "sns.histplot(data=devices['latitude'], kde=True)"
   ]
  },
  {
   "cell_type": "code",
   "execution_count": null,
   "metadata": {},
   "outputs": [],
   "source": [
    "sns.histplot(data=devices['longitude'], kde=True)"
   ]
  },
  {
   "cell_type": "code",
   "execution_count": null,
   "metadata": {},
   "outputs": [],
   "source": [
    "processes.describe(include='all')"
   ]
  },
  {
   "cell_type": "code",
   "execution_count": null,
   "metadata": {},
   "outputs": [],
   "source": [
    "sns.histplot(data=processes['mwra'])"
   ]
  },
  {
   "cell_type": "code",
   "execution_count": null,
   "metadata": {},
   "outputs": [],
   "source": [
    "sns.histplot(data=processes['p.katana'])"
   ]
  },
  {
   "cell_type": "code",
   "execution_count": null,
   "metadata": {},
   "outputs": [],
   "source": [
    "sns.histplot(data=processes['p.android.documentsui'], kde=True)"
   ]
  },
  {
   "cell_type": "code",
   "execution_count": null,
   "metadata": {},
   "outputs": [],
   "source": [
    "profiles.describe(include='all')"
   ]
  },
  {
   "cell_type": "code",
   "execution_count": null,
   "metadata": {},
   "outputs": [],
   "source": [
    "sns.histplot(data=profiles['user_id'])"
   ]
  },
  {
   "cell_type": "markdown",
   "metadata": {},
   "source": [
    "## 1.1.C - Párová analýza dát\n"
   ]
  },
  {
   "cell_type": "code",
   "execution_count": null,
   "metadata": {},
   "outputs": [],
   "source": [
    "connections_pairs = connections.loc[:,\n",
    "                    ['mwra', 'c.android.gm', 'c.android.chrome', 'c.dogalize', 'c.katana', 'c.android.youtube',\n",
    "                     'c.android.vending', 'c.updateassist', 'c.UCMobile.intl', 'c.raider', 'c.UCMobile.x86']]\n",
    "\n",
    "figure, ax = plt.subplots(figsize=(20, 16))\n",
    "sns.heatmap(connections_pairs.corr(), annot=True, fmt=\".2f\", cmap='coolwarm', ax=ax)"
   ]
  },
  {
   "cell_type": "markdown",
   "metadata": {},
   "source": [
    "### Analýza:\n",
    "Atribúty, ktoré majú určitú koreláciu s inými atribútmi:\n",
    "* mwra\n",
    "* c.android.gm\n",
    "* c.android.chrome\n",
    "* c.dogalize\n",
    "* c.katana\n",
    "* c.android.youtube\n",
    "\n",
    "Stredne silné korelácie:\n",
    "* mwra a c.android.chrome (0.31)\n",
    "* c.android.gm a c.android.youtube (0.41)\n",
    "* c.katana a c.android.chrome (0.35)\n",
    "\n",
    "Silné korelácie:\n",
    "* mrwa a c.katana (0.55)\n",
    "\n",
    "Atribúty s nízkymi alebo žiadnymi koreláciami:\n",
    "* c.android.vending\n",
    "* c.updateassist\n",
    "* c.UCMobile.intl\n",
    "* c.raider\n",
    "* c.UCMobile.x86"
   ]
  },
  {
   "cell_type": "code",
   "execution_count": null,
   "metadata": {},
   "outputs": [],
   "source": [
    "processes_pairs = processes.loc[:, ['mwra', 'p.android.documentsui', 'p.system', 'p.android.settings',\n",
    "                                    'p.android.chrome', 'p.android.externalstorage', 'p.android.gm',\n",
    "                                    'p.android.packageinstaller', 'p.inputmethod.latin', 'p.olauncher',\n",
    "                                    'p.google', 'p.process.gapps', 'p.katana', 'p.gms.persistent',\n",
    "                                    'p.android.defcontainer', 'p.browser.provider', 'p.simulator',\n",
    "                                    'p.notifier', 'p.android.vending', 'p.dogalize', 'p.android.gms']]\n",
    "\n",
    "figure, ax = plt.subplots(figsize=(20, 16))\n",
    "sns.heatmap(processes_pairs.corr(), annot=True, fmt=\".2f\", cmap='coolwarm', ax=ax)"
   ]
  },
  {
   "cell_type": "markdown",
   "metadata": {},
   "source": [
    "### Analýza:\n",
    "Atribúty, ktoré majú určitú koreláciu s inými atribútmi:\n",
    "* mwra\n",
    "* p.android.documentsui\n",
    "* p.system\n",
    "* p.android.chrome\n",
    "* p.android.externalstorage\n",
    "* p.android.gm\n",
    "* p.android.packageinstaller\n",
    "* p.olauncher\n",
    "\n",
    "Stredne silné korelácie:\n",
    "* p.android.documentsui a p.olauncher (0.37)\n",
    "* p.system a p.android.externalstorage (0.37)\n",
    "* p.android.gm a p.android.packageinstaller (0.41)\n",
    "\n",
    "Silné korelácie:\n",
    "* p.system a p.android.chrome (0.50)"
   ]
  },
  {
   "cell_type": "markdown",
   "metadata": {},
   "source": [
    "#### Pre ostatné datasety sme analýzu nerobili, lebo nemajú skoro žiadne číselné hodnoty a nie su potrebné na ďalšiu analýzu."
   ]
  },
  {
   "cell_type": "markdown",
   "metadata": {},
   "source": [
    "## 1.1.D - Párová analýza dát so závislou premennou"
   ]
  },
  {
   "cell_type": "markdown",
   "metadata": {},
   "source": [
    "### Korelácie mwra s atributmi z **connections.csv**\n",
    "\n",
    "Koreláca mwra s atributmi z **processes.csv** nebola z predchadzajucej heatmapy dostatocne silna."
   ]
  },
  {
   "cell_type": "code",
   "execution_count": null,
   "metadata": {},
   "outputs": [],
   "source": [
    "correlation_data = connections[\n",
    "    ['mwra', 'c.android.gm', 'c.android.chrome', 'c.dogalize', 'c.katana', 'c.android.youtube']]\n",
    "\n",
    "corr_matrix = correlation_data.corr()\n",
    "\n",
    "plt.figure(figsize=(10, 8))\n",
    "sns.heatmap(corr_matrix, annot=True, fmt=\".2f\", cmap='coolwarm')\n",
    "plt.title('Korelačná matica: mwra a prediktory', fontsize=16)\n",
    "plt.show()"
   ]
  },
  {
   "cell_type": "markdown",
   "metadata": {},
   "source": [
    "### Korelácia mwra s atributmi\n",
    "\n",
    "Stredne silná korelácia:\n",
    "* c.android.chrome (0.31)\n",
    "\n",
    "Silná korelácia:\n",
    "* c.katana (0.55)"
   ]
  },
  {
   "cell_type": "code",
   "execution_count": null,
   "metadata": {},
   "outputs": [],
   "source": [
    "sns.pairplot(correlation_data, diag_kind='kde', hue='mwra', palette={0.0: 'green', 1.0: 'red'})\n",
    "plt.suptitle('Párová analýza: mwra a prediktory', fontsize=16, y=1.02)\n",
    "plt.show()"
   ]
  },
  {
   "cell_type": "code",
   "execution_count": null,
   "metadata": {},
   "outputs": [],
   "source": [
    "plt.figure(figsize=(14, 8))\n",
    "\n",
    "for i, predictor in enumerate(['c.android.gm', 'c.android.chrome', 'c.dogalize', 'c.katana'], start=1):\n",
    "    plt.subplot(2, 2, i)\n",
    "    sns.boxplot(data=connections, x='mwra', y=predictor)\n",
    "    plt.title(f'Boxplot pre {predictor}')\n",
    "\n",
    "plt.tight_layout()\n",
    "plt.show()"
   ]
  },
  {
   "cell_type": "markdown",
   "metadata": {},
   "source": [
    "## MWRA svetové lokácie"
   ]
  },
  {
   "cell_type": "code",
   "execution_count": null,
   "metadata": {},
   "outputs": [],
   "source": [
    "print(f'Devices data size: {len(devices)}')\n",
    "devices_unique = devices.drop_duplicates(subset='imei')\n",
    "print(f'Devices without duplicates data size: {len(devices_unique)}')\n",
    "\n",
    "data = pd.merge(connections.drop_duplicates(), devices_unique, on='imei')\n",
    "\n",
    "data.drop(columns='mwra')\n",
    "\n",
    "print(f'Data size: {len(data)}')\n",
    "print(f'MWRA count: {len(data[data.mwra == 1])}')\n",
    "print(f'Without MWRA: {len(data[data.mwra == 0])}')"
   ]
  },
  {
   "cell_type": "code",
   "execution_count": null,
   "metadata": {},
   "outputs": [],
   "source": [
    "plt.figure(figsize=(14, 8))\n",
    "\n",
    "scatter = plt.scatter(\n",
    "    x=data['longitude'],\n",
    "    y=data['latitude'],\n",
    "    c=data['mwra'],\n",
    "    cmap='coolwarm',\n",
    "    alpha=0.7\n",
    ")\n",
    "\n",
    "plt.colorbar(scatter, label='Malware-Related Activity (mwra)')\n",
    "\n",
    "plt.xlabel('Longitude', fontsize=14)\n",
    "plt.ylabel('Latitude', fontsize=14)\n",
    "plt.title('Scatterplot s heatmapou - Geografické rozloženie malvérovej aktivity', fontsize=16)\n",
    "\n",
    "plt.show()"
   ]
  },
  {
   "cell_type": "code",
   "execution_count": null,
   "metadata": {},
   "outputs": [],
   "source": [
    "connections_filtered = connections[connections['mwra'] == 1].drop_duplicates()\n",
    "processes_filtered = processes[processes['mwra'] == 1].drop_duplicates()\n",
    "\n",
    "merged_data = pd.merge(connections_filtered, devices_unique, on='imei')\n",
    "merged_data = pd.merge(merged_data, processes_filtered, on=['imei', 'ts'])\n",
    "\n",
    "location_mwra_activity = merged_data.groupby(['latitude', 'longitude']).size().reset_index(\n",
    "    name='malware_activity_count')\n",
    "\n",
    "plt.figure(figsize=(14, 8))\n",
    "heatmap = sns.scatterplot(\n",
    "    data=location_mwra_activity,\n",
    "    x='longitude',\n",
    "    y='latitude',\n",
    "    size='malware_activity_count',\n",
    "    hue='malware_activity_count',\n",
    "    palette='viridis',\n",
    "    sizes=(20, 400),\n",
    "    alpha=0.6,\n",
    "    legend=True\n",
    ")\n",
    "\n",
    "heatmap.set_title('Počet malvérovej aktivity podľa geografickej lokality', fontsize=16)\n",
    "heatmap.set_xlabel('Longitude', fontsize=14)\n",
    "heatmap.set_ylabel('Latitude', fontsize=14)\n",
    "\n",
    "plt.legend(title='Počet mwra aktivít')\n",
    "\n",
    "plt.show()"
   ]
  },
  {
   "cell_type": "markdown",
   "metadata": {},
   "source": [
    "#### GPS lokácie s najväším počtom malvérovej aktivity boli z oblasti juhovýchodnej Azie, Indie, Európy, Východného pobrežia USA, Mexika a Venezueli"
   ]
  },
  {
   "cell_type": "code",
   "execution_count": null,
   "metadata": {},
   "outputs": [],
   "source": [
    "location_mwra_activity = pd.merge(location_mwra_activity, devices_unique, on=['latitude', 'longitude'])\n",
    "location_mwra_activity = location_mwra_activity.sort_values(\n",
    "    by=['malware_activity_count', 'store_name'], ascending=False)\n",
    "\n",
    "location_mwra_activity"
   ]
  },
  {
   "cell_type": "code",
   "execution_count": null,
   "metadata": {},
   "outputs": [],
   "source": [
    "location_mwra_activity = location_mwra_activity.drop_duplicates(subset=['latitude', 'longitude'])\n",
    "\n",
    "location_mwra_activity = location_mwra_activity.drop(columns='imei')\n",
    "\n",
    "print(f\"Total mwra: {location_mwra_activity.malware_activity_count.sum()}\")  # jeden zaznam ma nan country code\n",
    "\n",
    "countries_attack_counts = location_mwra_activity.groupby('code').agg({'malware_activity_count': 'sum'}).reset_index()\n",
    "\n",
    "countries_attack_counts_sorted = countries_attack_counts.sort_values(by='malware_activity_count', ascending=False)\n",
    "\n",
    "countries_attack_counts_sorted.reset_index(drop=True)"
   ]
  },
  {
   "cell_type": "markdown",
   "metadata": {},
   "source": [
    "5 krajín s najväčším počtom malvérovej aktivity sú: USA, India, Rusko, Nemecko a Brazília"
   ]
  },
  {
   "cell_type": "code",
   "execution_count": null,
   "metadata": {},
   "outputs": [],
   "source": [
    "location_mwra_activity.describe()"
   ]
  },
  {
   "cell_type": "markdown",
   "metadata": {},
   "source": [
    "## 1.1.E - Prvotné zamyslenie k riešeniu projektu"
   ]
  },
  {
   "cell_type": "markdown",
   "metadata": {},
   "source": [
    "### Connections.csv pairplot s atributmi, ktore maju urcitu korelaciu s inymi atributmi"
   ]
  },
  {
   "cell_type": "code",
   "execution_count": null,
   "metadata": {},
   "outputs": [],
   "source": [
    "sns.pairplot(connections, vars=['c.android.gm', 'c.android.chrome', 'c.dogalize', 'c.katana', 'c.android.youtube'],\n",
    "             hue=\"mwra\", diag_kind=\"kde\", palette={0.0: 'blue', 1.0: 'red'})"
   ]
  },
  {
   "cell_type": "markdown",
   "metadata": {},
   "source": [
    "### Processes.csv pairplot s atributmi, ktore maju urcitu korelaciu s inymi atributmi"
   ]
  },
  {
   "cell_type": "code",
   "execution_count": null,
   "metadata": {},
   "outputs": [],
   "source": [
    "sns.pairplot(processes, vars=['p.android.documentsui', 'p.system', 'p.android.chrome', 'p.android.externalstorage',\n",
    "                              'p.android.gm', 'p.android.packageinstaller', 'p.olauncher'], hue=\"mwra\", diag_kind=\"kde\",\n",
    "             palette={0.0: 'blue', 1.0: 'red'})"
   ]
  },
  {
   "cell_type": "markdown",
   "metadata": {},
   "source": [
    "Nasledujúce atribúty majú najväčší potenciál pre predikciu \"mwra\":\n",
    "* c.katana (0.55)\n",
    "* c.android.chrome (0.31)\n",
    "* c.dogalize (0.29)\n",
    "* p.android.gm (0.27)\n",
    "\n",
    "<br>\n",
    "Pre analýzu miest, v ktorých sa malware vyskytol najviac, bolo treba spojiť súbory connections.csv a devices.csv."
   ]
  },
  {
   "cell_type": "markdown",
   "metadata": {},
   "source": [
    " # 1.2 Identifikácia problémov, integrácia a čistenie dát"
   ]
  },
  {
   "cell_type": "markdown",
   "metadata": {},
   "source": [
    "## 1.2.A - Identifikácia nevhodných dát\n"
   ]
  },
  {
   "cell_type": "markdown",
   "metadata": {},
   "source": [
    "### Zistovanie nevhodnej struktury dat"
   ]
  },
  {
   "cell_type": "markdown",
   "metadata": {},
   "source": [
    "#### V súbore profiles.csv v tabulke \"registration\" nie sú dátumy v rovnakých formátoch, tak ich ideme dať na rovnaký formát."
   ]
  },
  {
   "cell_type": "code",
   "execution_count": null,
   "metadata": {},
   "outputs": [],
   "source": [
    "from datetime import datetime\n",
    "\n",
    "\n",
    "def convert_registration_date(date_val):\n",
    "    # Skontrolujeme, či ide o reťazec, alebo už o Timestamp\n",
    "    if isinstance(date_val, pd.Timestamp):\n",
    "        return date_val.strftime('%Y-%m-%d')  # Ak je to Timestamp, rovno ho formátujeme\n",
    "\n",
    "    # Ak je to reťazec, pracujeme s ním\n",
    "    if isinstance(date_val, str):\n",
    "        # Odstránenie časovej zložky, ak je prítomná\n",
    "        date_val = date_val.split(',')[0]\n",
    "\n",
    "        formats = [\n",
    "            '%Y-%m-%d',  # Formát: 2024-01-24\n",
    "            '%m/%d/%Y',  # Formát: 08/17/2022\n",
    "            '%d %b %Y',  # Formát: 09 Dec 2017\n",
    "            '%Y/%m/%d',  # Formát: 2022/09/25\n",
    "            '%d %b %Y',  # Formát: 06 May 2020\n",
    "        ]\n",
    "\n",
    "        for fmt in formats:\n",
    "            try:\n",
    "                # Skúšame rôzne formáty, až kým nenájdeme ten správny\n",
    "                new_date = datetime.strptime(date_val, fmt).strftime('%Y-%m-%d')\n",
    "                return new_date\n",
    "            except ValueError:\n",
    "                continue\n",
    "\n",
    "    # Ak sa žiadny formát nehodí alebo je to niečo iné, vráti pôvodnú hodnotu\n",
    "    return date_val\n",
    "\n",
    "\n",
    "profiles['registration'] = profiles['registration'].apply(convert_registration_date)\n",
    "profiles.registration.head()"
   ]
  },
  {
   "cell_type": "markdown",
   "metadata": {},
   "source": [
    "#### Konverzia na dateType"
   ]
  },
  {
   "cell_type": "code",
   "execution_count": null,
   "metadata": {},
   "outputs": [],
   "source": [
    "profiles['registration'] = pd.to_datetime(profiles['registration'])\n",
    "profiles.registration.head()"
   ]
  },
  {
   "cell_type": "markdown",
   "metadata": {},
   "source": [
    "#### Konverzia stĺpcov \"ts\" v súboroch connections.csv a processes.csv na dateType"
   ]
  },
  {
   "cell_type": "code",
   "execution_count": null,
   "metadata": {},
   "outputs": [],
   "source": [
    "connections['ts'] = pd.to_datetime(connections['ts'])\n",
    "processes['ts'] = pd.to_datetime(processes['ts'])\n",
    "print(connections.ts.head())\n",
    "print(processes.ts.head())"
   ]
  },
  {
   "cell_type": "markdown",
   "metadata": {},
   "source": [
    "### Pocet zaznamov v jednotlivych suboroch"
   ]
  },
  {
   "cell_type": "code",
   "execution_count": null,
   "metadata": {},
   "outputs": [],
   "source": [
    "print(f\"V subore connections.csv sa nachadza {connections.shape[0]} zaznamov\")\n",
    "print(f\"V subore devices.csv sa nachadza {devices.shape[0]} zaznamov\")\n",
    "print(f\"V subore processes.csv sa nachadza {processes.shape[0]} zaznamov\")\n",
    "print(f\"V subore profiles.csv sa nachadza {profiles.shape[0]} zaznamov\")"
   ]
  },
  {
   "cell_type": "markdown",
   "metadata": {},
   "source": [
    "### Pocet duplikatov v jednotlivych suboroch"
   ]
  },
  {
   "cell_type": "code",
   "execution_count": null,
   "metadata": {},
   "outputs": [],
   "source": [
    "print(f\"V subore connections.csv sa nachadza {connections.duplicated().sum()} duplikatov\")\n",
    "print(f\"V subore devices.csv sa nachadza {devices.duplicated().sum()} duplikatov\")\n",
    "print(f\"V subore processes.csv sa nachadza {processes.duplicated().sum()} duplikatov\")\n",
    "print(f\"V subore profiles.csv sa nachadza {profiles.duplicated().sum()} duplikatov\")"
   ]
  },
  {
   "cell_type": "markdown",
   "metadata": {},
   "source": [
    "### Odstranenie duplikatov"
   ]
  },
  {
   "cell_type": "code",
   "execution_count": null,
   "metadata": {},
   "outputs": [],
   "source": [
    "devices.nunique()"
   ]
  },
  {
   "cell_type": "markdown",
   "metadata": {},
   "source": [
    "Pri datasete **devices.csv** máme jeden zvláštny problém a to, že počet unikátnych **imei** je 499 a počet záznamov je 2884 čo znamená, že dataset má viaceré rôzne záznamy lokácie, miesta registrácie atd. pre rovnaké zariadenia a preto nevieme určiť presnú lokáciu malvérovych aktivit, dataset **devices.csv** je pre nás nepodstatný a predošlé mapky považujme za zábavku :)."
   ]
  },
  {
   "cell_type": "code",
   "execution_count": null,
   "metadata": {},
   "outputs": [],
   "source": [
    "connections = connections.drop_duplicates()\n",
    "devices = devices.drop_duplicates()\n",
    "processes = processes.drop_duplicates()\n",
    "profiles = profiles.drop_duplicates()\n",
    "print(f\"V subore connections.csv sa nachadza {connections.duplicated().sum()} duplikatov\")\n",
    "print(f\"V subore devices.csv sa nachadza {devices.duplicated().sum()} duplikatov\")\n",
    "print(f\"V subore processes.csv sa nachadza {processes.duplicated().sum()} duplikatov\")\n",
    "print(f\"V subore profiles.csv sa nachadza {profiles.duplicated().sum()} duplikatov\")"
   ]
  },
  {
   "cell_type": "code",
   "execution_count": null,
   "metadata": {},
   "outputs": [],
   "source": [
    "devices"
   ]
  },
  {
   "cell_type": "markdown",
   "metadata": {},
   "source": [
    "### Chybajuce hodnoty"
   ]
  },
  {
   "cell_type": "code",
   "execution_count": null,
   "metadata": {},
   "outputs": [],
   "source": [
    "print(f\"V subore connections.csv sa nachadza {connections.isnull().sum().sum()} chybajucich hodnot\")\n",
    "print(f\"V subore devices.csv sa nachadza {devices.isnull().sum().sum()} chybajucich hodnot\")\n",
    "print(f\"V subore processes.csv sa nachadza {processes.isnull().sum().sum()} chybajucich hodnot\")\n",
    "print(f\"V subore profiles.csv sa nachadza {profiles.isnull().sum().sum()} chybajucich hodnot\")"
   ]
  },
  {
   "cell_type": "code",
   "execution_count": null,
   "metadata": {},
   "outputs": [],
   "source": [
    "connections.isnull().sum()"
   ]
  },
  {
   "cell_type": "code",
   "execution_count": null,
   "metadata": {},
   "outputs": [],
   "source": [
    "devices.isnull().sum()"
   ]
  },
  {
   "cell_type": "markdown",
   "metadata": {},
   "source": [
    "V subore devices.csv sú v stlpci code 2 chybajuce hodnoty"
   ]
  },
  {
   "cell_type": "code",
   "execution_count": null,
   "metadata": {},
   "outputs": [],
   "source": [
    "devices[devices['code'].isnull()]"
   ]
  },
  {
   "cell_type": "markdown",
   "metadata": {},
   "source": [
    "V stlpci code chybaju hodnoty lokacie Africa/Windhoek. Tieto hodnoty mozme jednoducho nahradit, lebo suradnice ukazuju do mesta Okahandja, ktoré je nedaleko mesta Windhoek, to je hlavne mesto Namíbie a Namibia ma code \"NA\"."
   ]
  },
  {
   "cell_type": "code",
   "execution_count": null,
   "metadata": {},
   "outputs": [],
   "source": [
    "processes.isnull().sum()"
   ]
  },
  {
   "cell_type": "code",
   "execution_count": null,
   "metadata": {},
   "outputs": [],
   "source": [
    "profiles.isnull().sum()"
   ]
  },
  {
   "cell_type": "markdown",
   "metadata": {},
   "source": [
    "V subore profiles.csv su chýbajúce hodnoty v stĺpcoch address, residence, job a birthplace, čo sú pravdepodobne hodnoty, ktoré používateľ nemusí zadávať. To znamená, že tieto stĺpce nemáme ako nahradiť, tak ich zmeníme v dalšej úlohe na \"Unknown\"."
   ]
  },
  {
   "cell_type": "markdown",
   "metadata": {},
   "source": [
    "### Vychýlené hodnoty"
   ]
  },
  {
   "cell_type": "markdown",
   "metadata": {},
   "source": [
    "#### Nájdenie a odstránenie vychýlených hodnôt v subore connections.csv pomocou IRQ metódy."
   ]
  },
  {
   "cell_type": "code",
   "execution_count": null,
   "metadata": {},
   "outputs": [],
   "source": [
    "connections_with_removed_outliers = connections.copy()\n",
    "\n",
    "numeric_columns = connections_with_removed_outliers.select_dtypes(include=['float64', 'int64']).columns\n",
    "\n",
    "\n",
    "def remove_outliers_iqr(df, column):\n",
    "    Q1 = df[column].quantile(0.25)\n",
    "    Q3 = df[column].quantile(0.75)\n",
    "    IQR = Q3 - Q1\n",
    "    lower_bound = Q1 - 1.5 * IQR\n",
    "    upper_bound = Q3 + 1.5 * IQR\n",
    "\n",
    "    filtered_df = df[(df[column] >= lower_bound) & (df[column] <= upper_bound)]\n",
    "    outliers_removed_count = len(df) - len(filtered_df)\n",
    "    return filtered_df, outliers_removed_count\n",
    "\n",
    "\n",
    "for column in numeric_columns:\n",
    "    cleaned_df, outliers_removed_count = remove_outliers_iqr(connections_with_removed_outliers, column)\n",
    "\n",
    "    if outliers_removed_count > 0:\n",
    "        print(f'Column {column}: {outliers_removed_count} outliers removed')\n",
    "\n",
    "        # Pôvodný boxplot\n",
    "        plt.figure(figsize=(10, 6))\n",
    "        plt.subplot(1, 2, 1)\n",
    "        sns.boxplot(x=connections_with_removed_outliers[column])\n",
    "        plt.title(f'{column} (Before removing outliers)')\n",
    "\n",
    "        # Boxplot po odstránení outliers\n",
    "        plt.subplot(1, 2, 2)\n",
    "        sns.boxplot(x=cleaned_df[column])\n",
    "        plt.title(f'{column} (After removing outliers)')\n",
    "\n",
    "        plt.tight_layout()\n",
    "        plt.show()\n",
    "\n",
    "        # Aktualizácia datasetu bez outlierov\n",
    "        connections_with_removed_outliers.loc[connections_with_removed_outliers.index, column] = cleaned_df[column]\n"
   ]
  },
  {
   "cell_type": "markdown",
   "metadata": {},
   "source": [
    "#### Nájdenie a odstránenie vychýlených hodnôt v subore processes.csv pomocou IRQ metódy."
   ]
  },
  {
   "cell_type": "code",
   "execution_count": null,
   "metadata": {},
   "outputs": [],
   "source": [
    "processes_with_removed_outliers = processes.copy()\n",
    "\n",
    "numeric_columns = processes_with_removed_outliers.select_dtypes(include=['float64', 'int64']).columns\n",
    "\n",
    "\n",
    "def remove_outliers_iqr(df, column):\n",
    "    Q1 = df[column].quantile(0.25)\n",
    "    Q3 = df[column].quantile(0.75)\n",
    "    IQR = Q3 - Q1\n",
    "    lower_bound = Q1 - 1.5 * IQR\n",
    "    upper_bound = Q3 + 1.5 * IQR\n",
    "\n",
    "    filtered_df = df[(df[column] >= lower_bound) & (df[column] <= upper_bound)]\n",
    "    outliers_removed_count = len(df) - len(filtered_df)\n",
    "    return filtered_df, outliers_removed_count\n",
    "\n",
    "\n",
    "for column in numeric_columns:\n",
    "    cleaned_df, outliers_removed_count = remove_outliers_iqr(processes_with_removed_outliers, column)\n",
    "\n",
    "    if outliers_removed_count > 0:\n",
    "        print(f'Column {column}: {outliers_removed_count} outliers removed')\n",
    "\n",
    "        # Pôvodný boxplot\n",
    "        plt.figure(figsize=(10, 6))\n",
    "        plt.subplot(1, 2, 1)\n",
    "        sns.boxplot(x=processes_with_removed_outliers[column])\n",
    "        plt.title(f'{column} (Before removing outliers)')\n",
    "\n",
    "        # Boxplot po odstránení outliers\n",
    "        plt.subplot(1, 2, 2)\n",
    "        sns.boxplot(x=cleaned_df[column])\n",
    "        plt.title(f'{column} (After removing outliers)')\n",
    "\n",
    "        plt.tight_layout()\n",
    "        plt.show()\n",
    "\n",
    "        # Aktualizácia datasetu bez outlierov\n",
    "        processes_with_removed_outliers.loc[processes_with_removed_outliers.index, column] = cleaned_df[column]"
   ]
  },
  {
   "cell_type": "code",
   "execution_count": null,
   "metadata": {},
   "outputs": [],
   "source": [
    "def identify_outliers(d):\n",
    "    lower_bound = d.quantile(0.25) - 1.5 * stats.iqr(d)\n",
    "    upper_bound = d.quantile(0.75) + 1.5 * stats.iqr(d)\n",
    "\n",
    "    return d[(d > upper_bound) | (d < lower_bound)]\n",
    "\n",
    "\n",
    "outliers = identify_outliers(processes_with_removed_outliers['p.process.gapps'])\n",
    "outliers.info()"
   ]
  },
  {
   "cell_type": "markdown",
   "metadata": {},
   "source": [
    "## 1.2.B - Riešenie chýbajúcich hodnôt"
   ]
  },
  {
   "cell_type": "markdown",
   "metadata": {},
   "source": [
    "### Nahradenie chýbajucich kategorických hodnôt"
   ]
  },
  {
   "cell_type": "code",
   "execution_count": null,
   "metadata": {},
   "outputs": [],
   "source": [
    "devices.isnull().sum()"
   ]
  },
  {
   "cell_type": "code",
   "execution_count": null,
   "metadata": {},
   "outputs": [],
   "source": [
    "devices.code = devices.code.fillna(\"NA\")\n",
    "\n",
    "devices[devices.code == 'NA']"
   ]
  },
  {
   "cell_type": "code",
   "execution_count": null,
   "metadata": {},
   "outputs": [],
   "source": [
    "profiles.isnull().sum()"
   ]
  },
  {
   "cell_type": "code",
   "execution_count": null,
   "metadata": {},
   "outputs": [],
   "source": [
    "profiles[['address', 'job', 'residence', 'birthdate']] = profiles[['address', 'job', 'residence', 'birthdate']].fillna(\n",
    "    \"Unknown\")\n",
    "\n",
    "profiles[['address', 'job', 'residence', 'birthdate']].head(10)"
   ]
  },
  {
   "cell_type": "markdown",
   "metadata": {},
   "source": [
    "### Nahradenie chýbajucich numerických hodnôt"
   ]
  },
  {
   "cell_type": "code",
   "execution_count": null,
   "metadata": {},
   "outputs": [],
   "source": [
    "connections_with_removed_outliers.isnull().sum()"
   ]
  },
  {
   "cell_type": "code",
   "execution_count": null,
   "metadata": {},
   "outputs": [],
   "source": [
    "processes_with_removed_outliers.isnull().sum()\n"
   ]
  },
  {
   "cell_type": "markdown",
   "metadata": {},
   "source": [
    "#### Kedze nase datasety obsahuju chybajuce numericke hodnoty po odstraneni outlierov, popiseme si kedy je dobre ake techniky pouzit a uvedieme priklad kódu."
   ]
  },
  {
   "cell_type": "code",
   "execution_count": null,
   "metadata": {},
   "outputs": [],
   "source": [
    "connections_with_removed_outliers[connections_with_removed_outliers['c.android.gm'].isnull()]"
   ]
  },
  {
   "cell_type": "markdown",
   "metadata": {},
   "source": [
    "### Odstránenie pozorovaní s chýbajúcimi hodnotami\n",
    "\n",
    "- Táto metóda je vhodná, keď je počet chýbajúcich hodnôt malý a nemá významný dopad na veľkosť dátového súboru."
   ]
  },
  {
   "cell_type": "code",
   "execution_count": null,
   "metadata": {},
   "outputs": [],
   "source": [
    "connections_nan_dropped = connections_with_removed_outliers.dropna()\n",
    "\n",
    "print(f'Počet riadkov pred odstránením: {len(connections_with_removed_outliers)}')\n",
    "print(f'Počet riadkov po odstránení: {len(connections_nan_dropped)}')"
   ]
  },
  {
   "cell_type": "code",
   "execution_count": null,
   "metadata": {},
   "outputs": [],
   "source": [
    "processes_nan_dropped = processes_with_removed_outliers.dropna()\n",
    "\n",
    "print(f'Počet riadkov pred odstránením: {len(processes_with_removed_outliers)}')\n",
    "print(f'Počet riadkov po odstránení: {len(processes_nan_dropped)}')"
   ]
  },
  {
   "cell_type": "markdown",
   "metadata": {},
   "source": [
    "### Nahradenie chýbajúcich hodnôt (imputácia)\n",
    "\n",
    "- Chýbajúce hodnoty môžeme nahradiť rôznymi spôsobmi, ako je napríklad:\n",
    "    - **Priemerom (mean)**: Vhodné pre numerické atribúty s normálnym rozdelením.\n",
    "    - **Mediánom (median)**: Odporúčané pre numerické atribúty s asymetrickým rozdelením.\n",
    "    - **Interpoláciou**: Vhodné pre časové rady, kde je možné predpokladať lineárnu zmenu.\n",
    "    - **k-Nearest Neighbors (kNN)**: Nahradenie na základe najbližších susedov, vhodné pre komplexné vzory."
   ]
  },
  {
   "cell_type": "code",
   "execution_count": null,
   "metadata": {},
   "outputs": [],
   "source": [
    "connections_with_removed_outliers"
   ]
  },
  {
   "cell_type": "code",
   "execution_count": null,
   "metadata": {},
   "outputs": [],
   "source": [
    "processes_with_removed_outliers"
   ]
  },
  {
   "cell_type": "markdown",
   "metadata": {},
   "source": [
    "Zo znalostí datasetu alebo po zobrazení detailu dát v PyCharme vidíme, že skoro všetky atribúty s chýbajucimi hodnotami majú normálovú distribúciu, a preto bude možné nahradiť chýbajúce hodnody priemerom a v prípade **p.olauncher** zvolíme medián."
   ]
  },
  {
   "cell_type": "code",
   "execution_count": null,
   "metadata": {},
   "outputs": [],
   "source": [
    "connections_mean_median = connections_with_removed_outliers.copy()\n",
    "\n",
    "connections_mean_median.loc[connections_mean_median.index, 'c.android.gm'] = connections_mean_median[\n",
    "    'c.android.gm'].fillna(connections_mean_median['c.android.gm'].mean())\n",
    "connections_mean_median.loc[connections_mean_median.index, 'c.android.chrome'] = connections_mean_median[\n",
    "    'c.android.chrome'].fillna(connections_mean_median['c.android.chrome'].median())\n",
    "connections_mean_median.loc[connections_mean_median.index, 'c.dogalize'] = connections_mean_median['c.dogalize'].fillna(\n",
    "    connections_mean_median['c.dogalize'].mean())\n",
    "connections_mean_median.loc[connections_mean_median.index, 'c.katana'] = connections_mean_median['c.katana'].fillna(\n",
    "    connections_mean_median['c.katana'].mean())\n",
    "connections_mean_median.loc[connections_mean_median.index, 'c.android.youtube'] = connections_mean_median[\n",
    "    'c.android.youtube'].fillna(connections_mean_median['c.android.youtube'].mean())\n",
    "connections_mean_median.loc[connections_mean_median.index, 'c.android.vending'] = connections_mean_median[\n",
    "    'c.android.vending'].fillna(connections_mean_median['c.android.vending'].mean())\n",
    "connections_mean_median.loc[connections_mean_median.index, 'c.updateassist'] = connections_mean_median[\n",
    "    'c.updateassist'].fillna(connections_mean_median['c.updateassist'].mean())\n",
    "\n",
    "print('Počet chýbajúcich hodnôt pred nahradením:')\n",
    "print(connections_with_removed_outliers.isna().sum().sum())\n",
    "print('Počet chýbajúcich hodnôt po nahradení mediánom:')\n",
    "print(connections_mean_median.isna().sum().sum())"
   ]
  },
  {
   "cell_type": "code",
   "execution_count": null,
   "metadata": {},
   "outputs": [],
   "source": [
    "connections_mean_median.describe()"
   ]
  },
  {
   "cell_type": "code",
   "execution_count": null,
   "metadata": {},
   "outputs": [],
   "source": [
    "processes_mean_median = processes_with_removed_outliers.copy()\n",
    "\n",
    "processes_mean_median.loc[processes_mean_median.index, 'p.android.documentsui'] = processes_mean_median[\n",
    "    'p.android.documentsui'].fillna(processes_mean_median['p.android.documentsui'].mean())\n",
    "processes_mean_median.loc[processes_mean_median.index, 'p.system'] = processes_mean_median['p.system'].fillna(\n",
    "    processes_mean_median['p.system'].mean())\n",
    "processes_mean_median.loc[processes_mean_median.index, 'p.android.settings'] = processes_mean_median[\n",
    "    'p.android.settings'].fillna(processes_mean_median['p.android.settings'].mean())\n",
    "processes_mean_median.loc[processes_mean_median.index, 'p.android.chrome'] = processes_mean_median[\n",
    "    'p.android.chrome'].fillna(processes_mean_median['p.android.chrome'].mean())\n",
    "processes_mean_median.loc[processes_mean_median.index, 'p.android.externalstorage'] = processes_mean_median[\n",
    "    'p.android.externalstorage'].fillna(processes_mean_median['p.android.externalstorage'].mean())\n",
    "processes_mean_median.loc[processes_mean_median.index, 'p.android.gm'] = processes_mean_median['p.android.gm'].fillna(\n",
    "    processes_mean_median['p.android.gm'].mean())\n",
    "processes_mean_median.loc[processes_mean_median.index, 'p.android.packageinstaller'] = processes_mean_median[\n",
    "    'p.android.packageinstaller'].fillna(processes_mean_median['p.android.packageinstaller'].mean())\n",
    "processes_mean_median.loc[processes_mean_median.index, 'p.inputmethod.latin'] = processes_mean_median[\n",
    "    'p.inputmethod.latin'].fillna(processes_mean_median['p.inputmethod.latin'].mean())\n",
    "processes_mean_median.loc[processes_mean_median.index, 'p.olauncher'] = processes_mean_median['p.olauncher'].fillna(\n",
    "    processes_mean_median['p.olauncher'].median())\n",
    "processes_mean_median.loc[processes_mean_median.index, 'p.google'] = processes_mean_median['p.google'].fillna(\n",
    "    processes_mean_median['p.google'].mean())\n",
    "processes_mean_median.loc[processes_mean_median.index, 'p.process.gapps'] = processes_mean_median[\n",
    "    'p.process.gapps'].fillna(processes_mean_median['p.process.gapps'].mean())\n",
    "\n",
    "print('Počet chýbajúcich hodnôt pred nahradením:')\n",
    "print(processes_with_removed_outliers.isna().sum().sum())\n",
    "print('Počet chýbajúcich hodnôt po nahradení mediánom:')\n",
    "print(processes_mean_median.isna().sum().sum())"
   ]
  },
  {
   "cell_type": "code",
   "execution_count": null,
   "metadata": {},
   "outputs": [],
   "source": [
    "processes_mean_median.describe()"
   ]
  },
  {
   "cell_type": "markdown",
   "metadata": {},
   "source": [
    "## 1.2.C - Riešenie vychýlených hodnôt"
   ]
  },
  {
   "cell_type": "markdown",
   "metadata": {},
   "source": [
    "### Odstránenie outlierov sme spravili už uz v bode 1.2.A a dropli sme ich v bode 1.2.B"
   ]
  },
  {
   "cell_type": "markdown",
   "metadata": {},
   "source": [
    "### Nahradenie hodnotami na 5. alebo 95. percentile (trimming)"
   ]
  },
  {
   "cell_type": "code",
   "execution_count": null,
   "metadata": {},
   "outputs": [],
   "source": [
    "connections_outliers_trimmed = connections.copy()\n",
    "\n",
    "\n",
    "def trim_outliers(df, column):\n",
    "    lower_bound = df[column].quantile(0.05)\n",
    "    upper_bound = df[column].quantile(0.95)\n",
    "\n",
    "    df.loc[df[column] < lower_bound, column] = lower_bound\n",
    "    df.loc[df[column] > upper_bound, column] = upper_bound\n",
    "\n",
    "    return df\n",
    "\n",
    "\n",
    "numeric_columns = connections_outliers_trimmed.select_dtypes(include=['float64', 'int64']).columns\n",
    "\n",
    "for column in numeric_columns:\n",
    "    connections_outliers_trimmed = trim_outliers(connections_outliers_trimmed, column)\n",
    "\n",
    "connections_outliers_trimmed"
   ]
  },
  {
   "cell_type": "code",
   "execution_count": null,
   "metadata": {},
   "outputs": [],
   "source": [
    "connections_outliers_trimmed.describe()"
   ]
  },
  {
   "cell_type": "code",
   "execution_count": null,
   "metadata": {},
   "outputs": [],
   "source": [
    "processes_outliers_trimmed = processes.copy()\n",
    "\n",
    "\n",
    "def trim_outliers(df, column):\n",
    "    lower_bound = df[column].quantile(0.05)\n",
    "    upper_bound = df[column].quantile(0.95)\n",
    "\n",
    "    df.loc[df[column] < lower_bound, column] = lower_bound\n",
    "    df.loc[df[column] > upper_bound, column] = upper_bound\n",
    "\n",
    "    return df\n",
    "\n",
    "\n",
    "numeric_columns = processes_outliers_trimmed.select_dtypes(include=['float64', 'int64']).columns\n",
    "\n",
    "for column in numeric_columns:\n",
    "    processes_outliers_trimmed = trim_outliers(processes_outliers_trimmed, column)\n",
    "\n",
    "processes_outliers_trimmed"
   ]
  },
  {
   "cell_type": "code",
   "execution_count": null,
   "metadata": {},
   "outputs": [],
   "source": [
    "processes_outliers_trimmed.describe()"
   ]
  },
  {
   "cell_type": "markdown",
   "metadata": {},
   "source": [
    "Vzhladom na velky počet otlierov za hohdnotami 5% a 95% sa nase distribucie zmenili."
   ]
  },
  {
   "cell_type": "code",
   "execution_count": null,
   "metadata": {},
   "outputs": [],
   "source": [
    "sns.histplot(connections_outliers_trimmed['c.katana'], kde=True)"
   ]
  },
  {
   "cell_type": "code",
   "execution_count": null,
   "metadata": {},
   "outputs": [],
   "source": [
    "sns.histplot(processes_outliers_trimmed['p.android.chrome'], kde=True)"
   ]
  },
  {
   "cell_type": "markdown",
   "metadata": {},
   "source": [
    "# 1.3 Formulácia a štatistické overenie hypotéz o dátach"
   ]
  },
  {
   "cell_type": "markdown",
   "metadata": {},
   "source": [
    "## 1.3.A - Hypotézy\n",
    "\n",
    "### Hypotéza 1: \"Aplikácia c.android.chrome má v stave malvérovej aktivity (mwra = 1) v priemere vyššiu hodnotu aktivity ako v normálnom stave (mwra = 0).\"\n",
    "\n",
    "- Formulácia hypotéz:\n",
    "    - **Nulová hypotéza (H0)**: Priemerná aktivita aplikácie **c.android.chrome** v stave malvérovej aktivity je rovnaká ako v normálnom stave.\n",
    "    - **Alternatívna hypotéza (H1)**: Priemerná aktivita aplikácie **c.android.chrome** v stave malvérovej aktivity je vyššia ako v normálnom stave."
   ]
  },
  {
   "cell_type": "code",
   "execution_count": null,
   "metadata": {},
   "outputs": [],
   "source": [
    "chrome_malware_data = connections_mean_median[connections_mean_median['mwra'] == 1]['c.android.chrome']\n",
    "chrome_normal_data = connections_mean_median[connections_mean_median['mwra'] == 0]['c.android.chrome']"
   ]
  },
  {
   "cell_type": "code",
   "execution_count": null,
   "metadata": {},
   "outputs": [],
   "source": [
    "sns.boxplot(data=connections_mean_median, x='mwra', y='c.android.chrome')\n",
    "plt.title(f'Boxplot pre c.android.chrome vs mwra')\n",
    "plt.tight_layout()\n",
    "plt.show()"
   ]
  },
  {
   "cell_type": "markdown",
   "metadata": {},
   "source": [
    "V datesete mame opat nejakych outlierov tak sme sa ich rozhodli odstranit pre dokaz nasej hypotezy  "
   ]
  },
  {
   "cell_type": "code",
   "execution_count": null,
   "metadata": {},
   "outputs": [],
   "source": [
    "chrome_malware_data = chrome_malware_data.drop(identify_outliers(chrome_malware_data).index)\n",
    "chrome_normal_data = chrome_normal_data.drop(identify_outliers(chrome_normal_data).index)\n",
    "\n",
    "plt.figure(figsize=(14, 6))\n",
    "plt.subplot(1, 2, 1)\n",
    "plt.hist(chrome_malware_data, bins=30, color='red', label='Malware Activity')\n",
    "plt.title('Histogram: Malware Activity (c.android.chrome)')\n",
    "plt.xlabel('Activity Level')\n",
    "plt.ylabel('Frequency')\n",
    "\n",
    "plt.subplot(1, 2, 2)\n",
    "plt.hist(chrome_normal_data, bins=30, color='green', label='Normal Activity')\n",
    "plt.title('Histogram: Normal Activity (c.android.chrome)')\n",
    "plt.xlabel('Activity Level')\n",
    "plt.ylabel('Frequency')\n",
    "\n",
    "plt.tight_layout()\n",
    "plt.show()"
   ]
  },
  {
   "cell_type": "markdown",
   "metadata": {},
   "source": [
    "## Normality check with QQplot"
   ]
  },
  {
   "cell_type": "code",
   "execution_count": null,
   "metadata": {},
   "outputs": [],
   "source": [
    "plt.figure(figsize=(14, 6))\n",
    "plt.subplot(1, 2, 1)\n",
    "stats.probplot(chrome_malware_data, plot=plt)\n",
    "plt.title('QQ Plot: Malware Activity (c.android.chrome)')\n",
    "\n",
    "plt.subplot(1, 2, 2)\n",
    "stats.probplot(chrome_normal_data, plot=plt)\n",
    "plt.title('QQ Plot: Normal Activity (c.android.chrome)')\n",
    "\n",
    "plt.tight_layout()\n",
    "plt.show()"
   ]
  },
  {
   "cell_type": "markdown",
   "metadata": {},
   "source": [
    "Ľavý graf (Malware Activity):\n",
    "\n",
    "- Väčšina dát sa síce nachádza blízko červenej priamky, čo indikuje, že by mohli byť normálne rozdelené, ale na okrajoch (vľavo aj vpravo) sa od tejto priamky odchyľujú.\n",
    "Táto odchýlka na konci naznačuje prítomnosť odľahlých hodnôt alebo \"ťažkých chvostov\", čo môže naznačovať, že dáta nie sú presne normálne rozdelené.\n",
    "\n",
    "Pravý graf (Normal Activity):\n",
    "\n",
    "- Podobne ako v prvom grafe, väčšina dát sa zhoduje s teoretickými kvantilmi, ale na extrémoch je odchýlka od červenej priamky.\n",
    "Tento vzor opäť poukazuje na to, že dáta nie sú presne normálne rozdelené, čo môže byť spôsobené odľahlými hodnotami alebo asymetriou v dátach.\n",
    "\n",
    "Oba grafy ukazujú, že hoci väčšina dát je blízko teoretickej priamky, odchýlky na koncoch naznačujú, že rozdelenie nie je úplne normálne. Pre presné overenie by sme mali vykonať ďalšie štatistické testy, avšak pre **Shapiro-Wilk's test issue** - velkost datasetu viac ako 5k nemozeme pouzit **Shapiro-Wilk normality test**, a preto použijeme testy ako je Anderson-Darling alebo Kolmogorov-Smirnov test, aby sme potvrdili alebo vyvrátili normálne rozdelenie."
   ]
  },
  {
   "cell_type": "markdown",
   "metadata": {},
   "source": [
    "## Anderson-Darling & Kolmogorov-Smirnov normality tests\n",
    "\n",
    "- $H_0$: Data su z normalovej disribucie\n",
    "- $H_A$: Data nie su z normalovej distribucie\n",
    "\n",
    "Ak $p < 0.05$ zamietneme $H_0$, inak ak $p > 0.05$ tak nezamietneme $H_0$ a nemozeme povedat na zaklade dat, ze prisli z inej ako normalovej distribucie."
   ]
  },
  {
   "cell_type": "code",
   "execution_count": null,
   "metadata": {},
   "outputs": [],
   "source": [
    "# Anderson-Darling test pre malware_data\n",
    "result_malware_ad = stats.anderson(chrome_malware_data, dist='norm')\n",
    "print(f\"Anderson-Darling test pre Malware Activity (c.android.chrome): Statistika = {result_malware_ad.statistic:.4f}\")\n",
    "\n",
    "for i, (cv, sig_level) in enumerate(zip(result_malware_ad.critical_values, result_malware_ad.significance_level)):\n",
    "    print(f\"Kritická hodnota pre hladinu významnosti {sig_level}%: {cv:.4f}\")\n",
    "\n",
    "if result_malware_ad.statistic > result_malware_ad.critical_values[2]: # Pre hladinu významnosti 5%\n",
    "    print(\"\\nAnderson-Darling test zamieta H0: Údaje nie sú normálne rozdelené (hladina významnosti 5%).\")\n",
    "else:\n",
    "    print(\"\\nAnderson-Darling test neodmieta H0: Údaje sú normálne rozdelené (hladina významnosti 5%).\")"
   ]
  },
  {
   "cell_type": "code",
   "execution_count": null,
   "metadata": {},
   "outputs": [],
   "source": [
    "# Anderson-Darling test pre normal_data\n",
    "result_normal_ad = stats.anderson(chrome_normal_data, dist='norm')\n",
    "print(f\"\\nAnderson-Darling test pre Normal Activity (c.android.chrome): Statistika = {result_normal_ad.statistic:.4f}\")\n",
    "for i, (cv, sig_level) in enumerate(zip(result_normal_ad.critical_values, result_normal_ad.significance_level)):\n",
    "    print(f\"Kritická hodnota pre hladinu významnosti {sig_level}%: {cv:.4f}\")\n",
    "\n",
    "if result_normal_ad.statistic > result_normal_ad.critical_values[2]: # Pre hladinu významnosti 5%\n",
    "    print(\"\\nAnderson-Darling test zamieta H0: Údaje nie sú normálne rozdelené (hladina významnosti 5%).\")\n",
    "else:\n",
    "    print(\"\\nAnderson-Darling test neodmieta H0: Údaje sú normálne rozdelené (hladina významnosti 5%).\")"
   ]
  },
  {
   "cell_type": "code",
   "execution_count": null,
   "metadata": {},
   "outputs": [],
   "source": [
    "ks_stat_malware, p_value_malware = stats.kstest(chrome_malware_data, 'norm', args=(chrome_malware_data.mean(), chrome_malware_data.std()))\n",
    "ks_stat_normal, p_value_normal = stats.kstest(chrome_normal_data, 'norm', args=(chrome_normal_data.mean(), chrome_normal_data.std()))\n",
    "\n",
    "print(f\"\\nKolmogorov-Smirnov test pre Malware Activity: Statistika = {ks_stat_malware:.4f}, P-hodnota = {p_value_malware:.4f}\")\n",
    "print(f\"Kolmogorov-Smirnov test pre Normal Activity: Statistika = {ks_stat_normal:.4f}, P-hodnota = {p_value_normal:.4f}\\n\")\n",
    "\n",
    "if p_value_malware < 0.05:\n",
    "    print(\"Kolmogorov-Smirnov test zamieta H0 pre Malware Activity: Údaje nie sú normálne rozdelené.\")\n",
    "else:\n",
    "    print(\"Kolmogorov-Smirnov test neodmieta H0 pre Malware Activity: Údaje sú normálne rozdelené.\")\n",
    "\n",
    "if p_value_normal < 0.05:\n",
    "    print(\"Kolmogorov-Smirnov test zamieta H0 pre Normal Activity: Údaje nie sú normálne rozdelené.\")\n",
    "else:\n",
    "    print(\"Kolmogorov-Smirnov test neodmieta H0 pre Normal Activity: Údaje sú normálne rozdelené.\")"
   ]
  },
  {
   "cell_type": "markdown",
   "metadata": {},
   "source": [
    "## Similarity of variance\n",
    "- $H_0$: Data su z disribucie s rovnakou varianciou\n",
    "- $H_A$: Data nie su z distribucie s rovnakou varianciou\n",
    "\n",
    "Ak $p < 0.05$ zamietneme $H_0$, inak ak $p > 0.05$ tak nezamietneme $H_0$ a nemozeme povedat na zaklade dat, ze prisli z distribucie s inou varianciou. "
   ]
  },
  {
   "cell_type": "code",
   "execution_count": null,
   "metadata": {},
   "outputs": [],
   "source": [
    "stat, p_value = stats.levene(chrome_malware_data, chrome_normal_data)\n",
    "print(f\"\\nLeveneov test: Statistika = {stat:.4f}, P-hodnota = {p_value:.4f}\")\n",
    "\n",
    "if p_value < 0.05:\n",
    "    print(\"P-hodnota je menšia ako 0.05, variancie nie sú rovnaké.\")\n",
    "else:\n",
    "    print(\"P-hodnota je väčšia alebo rovná 0.05, variancie sú rovnaké.\")"
   ]
  },
  {
   "cell_type": "markdown",
   "metadata": {},
   "source": [
    "## Mann-Whitney U test\n",
    "\n",
    "Kedze sme zistili, ze data nie su z normalovej distribucie a ani variance nemaju rovnaky, preto pouzijeme non-parametric test **Mann-Whitney U Test**\n"
   ]
  },
  {
   "cell_type": "code",
   "execution_count": null,
   "metadata": {},
   "outputs": [],
   "source": [
    "u_stat, p_value_u = stats.mannwhitneyu(chrome_malware_data, chrome_normal_data, alternative='greater')\n",
    "print(f\"Mann-Whitney U test: Statistika = {u_stat:.4f}, P-hodnota = {p_value_u:.4f}\")"
   ]
  },
  {
   "cell_type": "markdown",
   "metadata": {},
   "source": [
    "#### Po použití **Mann-Whitney U testu** sme dostali p-hodnotu menšiu ako 0.05, to znamená, že zamietame $H_0$ a tvrdíme, že existuje štatisticky významný rozdiel medzi stavmi, t.j. **c.android.chrome** má v stave malvérovej aktivity vyššiu aktivitu."
   ]
  },
  {
   "cell_type": "markdown",
   "metadata": {},
   "source": [
    "### Hypotéza 2: \"Počet malvérovej aktivity závisí od aplikácie c.katana (Facebook).\"\n",
    "\n",
    "- Formulácia hypotéz:\n",
    "    - **Nulová hypotéza (H0)**: Aktivita aplikácie **c.katana** nemá významný vplyv na výskyt malvérovej aktivity.\n",
    "    - **Alternatívna hypotéza (H1)**: Aktivita aplikácie **c.katana** má významný vplyv na výskyt malvérovej aktivity."
   ]
  },
  {
   "cell_type": "code",
   "execution_count": null,
   "metadata": {},
   "outputs": [],
   "source": [
    "katana_malware_data = connections_mean_median[connections_mean_median['mwra'] == 1]['c.katana']\n",
    "katana_normal_data = connections_mean_median[connections_mean_median['mwra'] == 0]['c.katana']"
   ]
  },
  {
   "cell_type": "code",
   "execution_count": null,
   "metadata": {},
   "outputs": [],
   "source": [
    "sns.boxplot(data=connections_mean_median, x='mwra', y='c.katana')\n",
    "plt.title(f'Boxplot pre c.katana vs mwra')\n",
    "plt.tight_layout()\n",
    "plt.show()"
   ]
  },
  {
   "cell_type": "markdown",
   "metadata": {},
   "source": [
    "Už na základe vizuálneho zobrazenia môžeme vidieť istý rozdiel, ale ak chceme overiť, či je štatisticky významný, musíme použiť štatistický test."
   ]
  },
  {
   "cell_type": "markdown",
   "metadata": {},
   "source": [
    "Pre lepšie dokazovanie hypotézy pomocou štatistických testov, odstránime outlier hodnoty."
   ]
  },
  {
   "cell_type": "code",
   "execution_count": null,
   "metadata": {},
   "outputs": [],
   "source": [
    "katana_malware_data = katana_malware_data.drop(identify_outliers(katana_malware_data).index)\n",
    "katana_normal_data = katana_normal_data.drop(identify_outliers(katana_normal_data).index)\n",
    "\n",
    "plt.figure(figsize=(14, 6))\n",
    "plt.subplot(1, 2, 1)\n",
    "plt.hist(katana_malware_data, bins=30, color='red', label='Malware Activity')\n",
    "plt.title('Histogram: Malware Activity (c.katana)')\n",
    "plt.xlabel('Activity Level')\n",
    "plt.ylabel('Frequency')\n",
    "\n",
    "plt.subplot(1, 2, 2)\n",
    "plt.hist(katana_normal_data, bins=30, color='green', label='Normal Activity')\n",
    "plt.title('Histogram: Normal Activity (c.katana)')\n",
    "plt.xlabel('Activity Level')\n",
    "plt.ylabel('Frequency')\n",
    "\n",
    "plt.tight_layout()\n",
    "plt.show()"
   ]
  },
  {
   "cell_type": "markdown",
   "metadata": {},
   "source": [
    "## Normality check with QQplot"
   ]
  },
  {
   "cell_type": "code",
   "execution_count": null,
   "metadata": {},
   "outputs": [],
   "source": [
    "plt.figure(figsize=(14, 6))\n",
    "plt.subplot(1, 2, 1)\n",
    "stats.probplot(katana_malware_data, plot=plt)\n",
    "plt.title('QQ Plot: Malware Activity (c.katana)')\n",
    "\n",
    "plt.subplot(1, 2, 2)\n",
    "stats.probplot(katana_normal_data, plot=plt)\n",
    "plt.title('QQ Plot: Normal Activity (c.katana)')\n",
    "\n",
    "plt.tight_layout()\n",
    "plt.show()"
   ]
  },
  {
   "cell_type": "markdown",
   "metadata": {},
   "source": [
    "Ľavý graf (Malware Activity):\n",
    "\n",
    "- V tomto prípade body približne sledujú priamku, čo naznačuje, že dáta môžu mať blízke normálne rozdelenie. Na extrémoch sú však určité odchýlky, čo by mohlo naznačovať, že na konci rozdelenia sa od normálneho rozdelenia líšia.\n",
    "\n",
    "Pravý graf (Normal Activity):\n",
    "\n",
    "- Dáta z tohto grafu majú výraznejšiu odchýlku od normálneho rozdelenia v porovnaní s malware aktivitou, čo naznačuje, že distribúcia normálnej aktivity nemusí byť úplne normálna, najmä pri extrémoch.\n",
    "\n",
    "Opäť ako v prvej hypotéze, oba grafy ukazujú, že väčšina dát je blízko teoretickej priamky, odchýlky na koncoch naznačujú, že rozdelenie nie je úplne normálne. Pre presné overenie by sme mali vykonať ďalšie štatistické testy, ako je Anderson-Darling alebo Kolmogorov-Smirnov test, aby sme potvrdili alebo vyvrátili normálne rozdelenie."
   ]
  },
  {
   "cell_type": "markdown",
   "metadata": {},
   "source": [
    "## Anderson-Darling & Kolmogorov-Smirnov normality tests\n",
    "\n",
    "- $H_0$: Data su z normalovej disribucie\n",
    "- $H_A$: Data nie su z normalovej distribucie\n",
    "\n",
    "Ak $p < 0.05$ zamietneme $H_0$, inak ak $p > 0.05$ tak nezamietneme $H_0$ a nemozeme povedat na zaklade dat, ze prisli z inej ako normalovej distribucie."
   ]
  },
  {
   "cell_type": "markdown",
   "metadata": {},
   "source": [
    "#### Andreson-Darling test pre malware data"
   ]
  },
  {
   "cell_type": "code",
   "execution_count": null,
   "metadata": {},
   "outputs": [],
   "source": [
    "result_malware_ad = stats.anderson(katana_malware_data, dist='norm')\n",
    "print(f\"Anderson-Darling test pre Malware Activity (c.katana): Statistika = {result_malware_ad.statistic:.4f}\")\n",
    "\n",
    "for i, (cv, sig_level) in enumerate(zip(result_malware_ad.critical_values, result_malware_ad.significance_level)):\n",
    "    print(f\"Kritická hodnota pre hladinu významnosti {sig_level}%: {cv:.4f}\")\n",
    "\n",
    "if result_malware_ad.statistic > result_malware_ad.critical_values[2]: # Pre hladinu významnosti 5%\n",
    "    print(\"\\nAnderson-Darling test zamieta H0: Údaje nie sú normálne rozdelené (hladina významnosti 5%).\")\n",
    "else:\n",
    "    print(\"\\nAnderson-Darling test neodmieta H0: Údaje sú normálne rozdelené (hladina významnosti 5%).\")"
   ]
  },
  {
   "cell_type": "markdown",
   "metadata": {},
   "source": [
    "#### Andreson-Darling test pre normalne data"
   ]
  },
  {
   "cell_type": "code",
   "execution_count": null,
   "metadata": {},
   "outputs": [],
   "source": [
    "result_normal_ad = stats.anderson(katana_normal_data, dist='norm')\n",
    "print(f\"\\nAnderson-Darling test pre Normal Activity (c.katana): Statistika = {result_normal_ad.statistic:.4f}\")\n",
    "for i, (cv, sig_level) in enumerate(zip(result_normal_ad.critical_values, result_normal_ad.significance_level)):\n",
    "    print(f\"Kritická hodnota pre hladinu významnosti {sig_level}%: {cv:.4f}\")\n",
    "\n",
    "if result_normal_ad.statistic > result_normal_ad.critical_values[2]: # Pre hladinu významnosti 5%\n",
    "    print(\"\\nAnderson-Darling test zamieta H0: Údaje nie sú normálne rozdelené (hladina významnosti 5%).\")\n",
    "else:\n",
    "    print(\"\\nAnderson-Darling test neodmieta H0: Údaje sú normálne rozdelené (hladina významnosti 5%).\")"
   ]
  },
  {
   "cell_type": "markdown",
   "metadata": {},
   "source": [
    "#### Kolmogorov-Smirnov normality test"
   ]
  },
  {
   "cell_type": "code",
   "execution_count": null,
   "metadata": {},
   "outputs": [],
   "source": [
    "ks_stat_malware, p_value_malware = stats.kstest(katana_malware_data, 'norm', args=(katana_malware_data.mean(), katana_malware_data.std()))\n",
    "ks_stat_normal, p_value_normal = stats.kstest(katana_normal_data, 'norm', args=(katana_normal_data.mean(), katana_normal_data.std()))\n",
    "\n",
    "print(f\"\\nKolmogorov-Smirnov test pre Malware Activity: Statistika = {ks_stat_malware:.4f}, P-hodnota = {p_value_malware:.4f}\")\n",
    "print(f\"Kolmogorov-Smirnov test pre Normal Activity: Statistika = {ks_stat_normal:.4f}, P-hodnota = {p_value_normal:.4f}\\n\")\n",
    "\n",
    "if p_value_malware < 0.05:\n",
    "    print(\"Kolmogorov-Smirnov test zamieta H0 pre Malware Activity: Údaje nie sú normálne rozdelené.\")\n",
    "else:\n",
    "    print(\"Kolmogorov-Smirnov test neodmieta H0 pre Malware Activity: Údaje sú normálne rozdelené.\")\n",
    "\n",
    "if p_value_normal < 0.05:\n",
    "    print(\"Kolmogorov-Smirnov test zamieta H0 pre Normal Activity: Údaje nie sú normálne rozdelené.\")\n",
    "else:\n",
    "    print(\"Kolmogorov-Smirnov test neodmieta H0 pre Normal Activity: Údaje sú normálne rozdelené.\")"
   ]
  },
  {
   "cell_type": "markdown",
   "metadata": {},
   "source": [
    "## Similarity of variance\n",
    "- $H_0$: Data su z disribucie s rovnakou varianciou\n",
    "- $H_A$: Data nie su z distribucie s rovnakou varianciou\n",
    "\n",
    "Ak $p < 0.05$ zamietneme $H_0$, inak ak $p > 0.05$ tak nezamietneme $H_0$ a nemozeme povedat na zaklade dat, ze prisli z distribucie s inou varianciou. "
   ]
  },
  {
   "cell_type": "code",
   "execution_count": null,
   "metadata": {},
   "outputs": [],
   "source": [
    "stat, p_value = stats.levene(katana_malware_data, katana_normal_data)\n",
    "print(f\"\\nLeveneov test: Statistika = {stat:.4f}, P-hodnota = {p_value:.4f}\")\n",
    "\n",
    "if p_value < 0.05:\n",
    "    print(\"P-hodnota je menšia ako 0.05, variancie nie sú rovnaké.\")\n",
    "else:\n",
    "    print(\"P-hodnota je väčšia alebo rovná 0.05, variancie sú rovnaké.\")"
   ]
  },
  {
   "cell_type": "markdown",
   "metadata": {},
   "source": [
    "## Mann-Whitney U test\n",
    "\n",
    "Kedze sme zistili, ze data nie su z normalovej distribucie a ani variance nemaju rovnaky, preto pouzijeme non-parametric test **Mann-Whitney U Test**\n"
   ]
  },
  {
   "cell_type": "code",
   "execution_count": null,
   "metadata": {},
   "outputs": [],
   "source": [
    "u_stat, p_value_u = stats.mannwhitneyu(katana_malware_data, katana_normal_data, alternative='greater')\n",
    "print(f\"Mann-Whitney U test: Statistika = {u_stat:.4f}, P-hodnota = {p_value_u:.4f}\")"
   ]
  },
  {
   "cell_type": "markdown",
   "metadata": {},
   "source": [
    "#### Po použití **Mann-Whitney U testu** sme dostali p-hodnotu menšiu ako 0.05, to znamená, že zamietame $H_0$ a tvrdíme, že existuje štatisticky významný rozdiel medzi stavmi, t.j. **c.katana** má v stave malvérovej aktivity vyššiu aktivitu."
   ]
  },
  {
   "cell_type": "markdown",
   "metadata": {},
   "source": [
    "## 1.3.B - Overenie štatistickej sily"
   ]
  },
  {
   "cell_type": "markdown",
   "metadata": {},
   "source": [
    "Pretože vzorky podľa testov nie sú z gaussian distribution použijeme na effect size rozdiel priemerov podľa $Hedge's g$ namiesto $Cohen’s d$."
   ]
  },
  {
   "cell_type": "code",
   "execution_count": null,
   "metadata": {},
   "outputs": [],
   "source": [
    "effect_size = pg.compute_effsize(chrome_malware_data, chrome_normal_data, eftype='hedges')\n",
    "\n",
    "power_analysis = pg.power_ttest(d=effect_size, n=len(chrome_malware_data), alpha=0.05)\n",
    "print(f'Štatistická sila: {power_analysis:.3f}')"
   ]
  },
  {
   "cell_type": "code",
   "execution_count": null,
   "metadata": {},
   "outputs": [],
   "source": [
    "effect_size = pg.compute_effsize(katana_malware_data, katana_normal_data, eftype='hedges')\n",
    "\n",
    "power_analysis = pg.power_ttest(d=effect_size, n=len(katana_malware_data), alpha=0.05)\n",
    "print(f'Štatistická sila: {power_analysis:.3f}')"
   ]
  },
  {
   "cell_type": "markdown",
   "metadata": {},
   "source": [
    "### Vypočítaná štatistická sila je väčšia ako 0.8, to znamená, že testy majú dostatočnú štatistickú silu."
   ]
  },
  {
   "cell_type": "markdown",
   "metadata": {},
   "source": [
    "# Záver"
   ]
  },
  {
   "cell_type": "markdown",
   "metadata": {},
   "source": [
    "## Zistené výsledky:\n",
    "- **Úprava dát**: Počas analýzy sme narazili na nevhodný formát niektorých dát. Pre numerické hodnoty sme nahradili chýbajúce hodnoty priemerom alebo medianom ostatných prítomných hodnôt. Kategorické hodnoty sme buď opravili na jednotný formát, alebo sme ich zmenili na jednotnu hodnotu, keže ich nepotrebujeme a nevieme nahradiť.\n",
    "\n",
    "- **Korelácie medzi atribútmi**: Pri analýze korelácií sme zistili, že mnohé atribúty majú pozitívnu koreláciu s inými, zatiaľ čo niektoré vykazovali negatívnu alebo žiadnu koreláciu. Tieto informácie nám pomohli lepšie porozumieť vzťahom medzi premennými v našich dátach.\n",
    "\n",
    "- **Párová analýza**: Vykonali sme párovú analýzu údajov na viacerých dvojiciach atribútov, čo nám umožnilo lepšie identifikovať vzory a potenciálne anomálie v dátach.\n",
    "\n",
    "- **Štatistické testy**: Naše formulované hypotézy sme overili pomocou vhodných štatistických testov, pričom sme zistili, že distribúcia dát nebola normálna, čo nás viedlo k použitiu Mann-Whitney U testu. Výsledky ukázali rozdiely medzi skupinami, čím sme potvrdili platnosť našich hypotéz.\n",
    "\n",
    "- **Analýza štatistickej sily**: Na zistenie štatistickej sily našich testov sme využili Hedgesov d test. Tento prístup nám pomohol určiť, či vzorky mali dostatočnú silu na zistenie efektu, pričom sme zabezpečili, že výsledky našich testov sú interpretovateľné a spoľahlivé.\n",
    "\n",
    "- **Budúce kroky**: Ďalšie prípadné problémy s údajmi v datasete budeme riešiť v budúcich fázach podľa potreby."
   ]
  },
  {
   "cell_type": "markdown",
   "metadata": {},
   "source": [
    "# Spojenenie potrebnych dat do jednej tabulky"
   ]
  },
  {
   "cell_type": "markdown",
   "metadata": {},
   "source": [
    "Exportneme do dalsej fazy mergnuty dataset z connections_mean_median a processes_mean_median, kedze sme zistili ze ostatne su pre nas nepotrebne"
   ]
  },
  {
   "cell_type": "code",
   "execution_count": null,
   "metadata": {},
   "outputs": [],
   "source": [
    "new_dataset = pd.merge(connections_mean_median, processes_mean_median, on=['imei', 'ts'])"
   ]
  },
  {
   "cell_type": "code",
   "execution_count": null,
   "metadata": {},
   "outputs": [],
   "source": [
    "new_dataset.head()"
   ]
  },
  {
   "cell_type": "code",
   "execution_count": null,
   "metadata": {},
   "outputs": [],
   "source": [
    "new_dataset.drop(columns='mwra_y', inplace=True)"
   ]
  },
  {
   "cell_type": "code",
   "execution_count": null,
   "metadata": {},
   "outputs": [],
   "source": [
    "new_dataset"
   ]
  },
  {
   "cell_type": "code",
   "execution_count": null,
   "metadata": {},
   "outputs": [],
   "source": [
    "new_dataset.rename(columns={'mwra_x':'mwra'},inplace=True)"
   ]
  },
  {
   "cell_type": "code",
   "execution_count": null,
   "metadata": {},
   "outputs": [],
   "source": [
    "new_dataset.info()"
   ]
  },
  {
   "cell_type": "code",
   "execution_count": null,
   "metadata": {},
   "outputs": [],
   "source": [
    "new_dataset.isna().sum()"
   ]
  },
  {
   "cell_type": "code",
   "execution_count": null,
   "metadata": {},
   "outputs": [],
   "source": [
    "new_dataset.shape"
   ]
  },
  {
   "cell_type": "code",
   "execution_count": null,
   "metadata": {},
   "outputs": [],
   "source": [
    "new_dataset.to_csv('dataset/dataset_phase_2.csv', sep='\\t', index=False, encoding='utf-8')"
   ]
  }
 ],
 "metadata": {
  "kernelspec": {
   "display_name": ".venv",
   "language": "python",
   "name": "python3"
  },
  "language_info": {
   "codemirror_mode": {
    "name": "ipython",
    "version": 3
   },
   "file_extension": ".py",
   "mimetype": "text/x-python",
   "name": "python",
   "nbconvert_exporter": "python",
   "pygments_lexer": "ipython3",
   "version": "3.11.5"
  }
 },
 "nbformat": 4,
 "nbformat_minor": 2
}
