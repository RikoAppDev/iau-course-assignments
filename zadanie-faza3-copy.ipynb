{
 "cells": [
  {
   "cell_type": "markdown",
   "id": "7e2d584e",
   "metadata": {},
   "source": [
    "#   IAU Zadanie - III. fáza\n",
    "\n",
    "### Autori: Peter Brandajsky - 50%, Frederik Duvač - 50%"
   ]
  },
  {
   "cell_type": "markdown",
   "id": "fb1bfb7e",
   "metadata": {},
   "source": [
    "#### Kedze bolo predosle zadanie chaoticky napisane ohladom toho co mame exportnut, tak sme upravili export kde transformujeme aj testovaci dataset pomocou nasej pipeline. Upraveny kod vyzeral takto:\n"
   ]
  },
  {
   "cell_type": "code",
   "execution_count": null,
   "id": "65a4c5b7",
   "metadata": {},
   "outputs": [],
   "source": [
    "'''\n",
    "from sklearn.compose import make_column_transformer\n",
    "from sklearn.pipeline import Pipeline\n",
    "from sklearn.preprocessing import QuantileTransformer, PowerTransformer, StandardScaler, MinMaxScaler, FunctionTransformer\n",
    "import pandas as pd\n",
    "\n",
    "# Definícia stĺpcov\n",
    "normal_columns = [\n",
    "    'c.android.gm', 'c.android.chrome', 'c.dogalize', 'c.katana',\n",
    "    'c.android.youtube', 'p.android.documentsui', 'p.system',\n",
    "    'p.android.chrome', 'p.android.externalstorage', 'p.android.gm',\n",
    "    'p.android.packageinstaller'\n",
    "]\n",
    "skewed_column = ['p.olauncher']\n",
    "\n",
    "X_train = train_data.drop(columns=['mwra'])\n",
    "y_train = train_data['mwra']\n",
    "X_test = test_data.drop(columns=['mwra'])\n",
    "y_test = test_data['mwra']\n",
    "\n",
    "# Krok 1: Quantile Transformácia pre šikmý stĺpec\n",
    "quantile_transformer = Pipeline(steps=[\n",
    "    ('transform', make_column_transformer(\n",
    "        (QuantileTransformer(output_distribution=\"normal\", random_state=42), skewed_column),\n",
    "        remainder='passthrough')),\n",
    "    ('to_dataframe', FunctionTransformer(lambda x: pd.DataFrame(x, columns=X_train.columns)))\n",
    "])\n",
    "\n",
    "# Krok 2: Power Transformácia pre normálne stĺpce\n",
    "power_transformer = Pipeline(steps=[\n",
    "    ('transform', make_column_transformer(\n",
    "        (PowerTransformer(method='yeo-johnson', standardize=True), normal_columns),\n",
    "        remainder='passthrough')),\n",
    "    ('to_dataframe', FunctionTransformer(lambda x: pd.DataFrame(x, columns=X_train.columns)))\n",
    "])\n",
    "\n",
    "# Krok 3: Standard Scaling pre normálne stĺpce\n",
    "standard_scaler = Pipeline(steps=[\n",
    "    ('transform', make_column_transformer(\n",
    "        (StandardScaler(), normal_columns),\n",
    "        remainder='passthrough')),\n",
    "    ('to_dataframe', FunctionTransformer(lambda x: pd.DataFrame(x, columns=X_train.columns)))\n",
    "])\n",
    "\n",
    "# Krok 4: Min-Max Scaling pre šikmý stĺpec\n",
    "minmax_scaler = Pipeline(steps=[\n",
    "    ('transform', make_column_transformer(\n",
    "        (MinMaxScaler(), skewed_column),\n",
    "        remainder='passthrough')),\n",
    "    ('to_dataframe', FunctionTransformer(lambda x: pd.DataFrame(x, columns=X_train.columns)))\n",
    "])\n",
    "\n",
    "# Vytvorenie hlavnej Pipeline s každým krokom zvlášť\n",
    "pipeline = Pipeline(steps=[\n",
    "    ('quantile', quantile_transformer),\n",
    "    ('power', power_transformer),\n",
    "    ('scaler', standard_scaler),\n",
    "    ('minmax', minmax_scaler),\n",
    "], verbose=True)\n",
    "\n",
    "# Aplikácia pipeline na trénovacie dáta bez 'mwra'\n",
    "X_train_transformed = pipeline.fit_transform(X_train)\n",
    "X_test_transformed = pipeline.transform(X_test)\n",
    "\n",
    "# Spojenie transformovaných dát s cieľovým stĺpcom 'mwra'\n",
    "train_transformed = pd.concat([y_train.reset_index(drop=True), X_train_transformed], axis=1)\n",
    "test_transformed = pd.concat([y_test.reset_index(drop=True), pd.DataFrame(X_test_transformed, columns=X_test.columns)], axis=1)\n",
    "\n",
    "train_transformed\n",
    "test_transformed\n",
    "\n",
    "train_transformed.to_csv('dataset/train_transformed.csv', sep='\\t', index=False, encoding='utf-8')\n",
    "test_transformed.to_csv('dataset/test_transformed.csv', sep='\\t', index=False, encoding='utf-8')\n",
    "\n",
    "train_data.to_csv('dataset/train_data.csv', sep='\\t', index=False, encoding='utf-8')\n",
    "test_data.to_csv('dataset/test_data.csv', sep='\\t', index=False, encoding='utf-8')\n",
    "'''"
   ]
  },
  {
   "cell_type": "markdown",
   "id": "6f7000dc",
   "metadata": {},
   "source": [
    "# Načítanie údajov z datasetu\n"
   ]
  },
  {
   "cell_type": "code",
   "execution_count": null,
   "id": "7c79ecec",
   "metadata": {},
   "outputs": [],
   "source": [
    "import numpy as np\n",
    "import pandas as pd\n",
    "import matplotlib.pyplot as plt\n",
    "import seaborn as sns\n",
    "from collections import Counter\n",
    "from sklearn.metrics import accuracy_score, precision_score, recall_score, classification_report\n",
    "\n",
    "train_data = pd.read_csv('dataset/train_transformed.csv', sep='\\t')\n",
    "test_data = pd.read_csv('dataset/test_transformed.csv', sep='\\t')"
   ]
  },
  {
   "cell_type": "code",
   "execution_count": null,
   "id": "8c0d90d3",
   "metadata": {},
   "outputs": [],
   "source": [
    "print(\"Train Data:\")\n",
    "print(train_data.head())\n",
    "print(\"\\nTest Data:\")\n",
    "print(test_data.head())\n",
    "\n",
    "# Kontrola rozmerov\n",
    "print(f\"Train Data Shape: {train_data.shape}\")\n",
    "print(f\"Test Data Shape: {test_data.shape}\")"
   ]
  },
  {
   "cell_type": "code",
   "execution_count": null,
   "id": "d4685815",
   "metadata": {},
   "outputs": [],
   "source": [
    "train_data.describe()"
   ]
  },
  {
   "cell_type": "code",
   "execution_count": null,
   "id": "27c61032",
   "metadata": {},
   "outputs": [],
   "source": [
    "test_data.describe()"
   ]
  },
  {
   "cell_type": "code",
   "execution_count": null,
   "id": "e73e708c",
   "metadata": {},
   "outputs": [],
   "source": [
    "# Rozdelenie na atributy a cielovu premennu\n",
    "X_train = train_data.drop(columns=['mwra'])\n",
    "y_train = train_data['mwra']\n",
    "\n",
    "X_test = test_data.drop(columns=['mwra'])\n",
    "y_test = test_data['mwra']\n",
    "\n",
    "# Vyber features s top korelaciou z fazy 2 - moznosti: 'all', 'top_3', 'top_5', 'top_9'\n",
    "selected_features = 'all'\n",
    "\n",
    "top_3_features = ['p.android.chrome', 'c.katana', 'p.system']\n",
    "top_5_features = ['p.android.chrome', 'c.katana', 'p.system', 'c.android.chrome', 'p.android.gm']\n",
    "top_9_features = ['p.android.chrome', 'c.katana', 'p.system', 'c.android.chrome', 'p.android.gm', 'c.android.youtube',\n",
    "                  'c.dogalize', 'p.android.externalstorage', 'c.android.gm']\n",
    "\n",
    "# Prisposobenie X_train a X_test podla vyberu\n",
    "if selected_features == 'all':\n",
    "    pass  # Vsetky stlpce v X_train a X_test\n",
    "elif selected_features == 'top_3':\n",
    "    X_train = X_train[top_3_features]\n",
    "    X_test = X_test[top_3_features]\n",
    "elif selected_features == 'top_5':\n",
    "    X_train = X_train[top_5_features]\n",
    "    X_test = X_test[top_5_features]\n",
    "elif selected_features == 'top_9':\n",
    "    X_train = X_train[top_9_features]\n",
    "    X_test = X_test[top_9_features]\n",
    "else:\n",
    "    raise ValueError(\"Neznáma možnosť pre výber features: vyberte 'all', 'top_3' alebo 'top_5'.\")\n",
    "\n",
    "# Vystup informacii o pouzitych vlastnostiach\n",
    "print(\"Použité features:\", X_train.columns)\n",
    "\n",
    "# Kontrola rozmerov\n",
    "print(f\"X_train Shape: {X_train.shape}, y_train Shape: {y_train.shape}\")\n",
    "print(f\"X_test Shape: {X_test.shape}, y_test Shape: {y_test.shape}\")"
   ]
  },
  {
   "cell_type": "markdown",
   "id": "ff62b84a",
   "metadata": {},
   "source": [
    "- Pri možnosti all (12 atribútov), čiže všetkych ktoré sme exportli z fazy 2 sme dostali najlepši výsledok.\n",
    "- Tieto modely sú schopné zohľadniť viac vzorcov a získať lepšie výsledky, čo znamená, že niektoré z týchto pridaných atribútov poskytujú dôležité informácie, ktoré pomáhajú pri rozlíšení medzi triedami."
   ]
  },
  {
   "cell_type": "code",
   "execution_count": null,
   "id": "35a52ac0",
   "metadata": {},
   "outputs": [],
   "source": [
    "# Kontrola distribucie tried\n",
    "print(\"Distribúcia v trénovacom datasete:\")\n",
    "print(y_train.value_counts(normalize=True))\n",
    "\n",
    "print(\"\\nDistribúcia v testovacom datasete:\")\n",
    "print(y_test.value_counts(normalize=True))"
   ]
  },
  {
   "cell_type": "markdown",
   "id": "c59b774e",
   "metadata": {},
   "source": [
    "# 3.1 Jednoduchý klasikátor na základe závislosti v dátach\n",
    "\n",
    "## 3.1.A Implementácia ID3 klasifikátora"
   ]
  },
  {
   "cell_type": "code",
   "execution_count": null,
   "id": "b0361756",
   "metadata": {},
   "outputs": [],
   "source": [
    "# Rekurzivne rozdelenie dat do podmnozin na zaklade najlepsieho atributu\n",
    "class DecisionNode:\n",
    "    def __init__(self, feature=None, threshold=None, left=None, right=None, value=None):\n",
    "        self.feature = feature\n",
    "        self.threshold = threshold\n",
    "        self.left = left\n",
    "        self.right = right\n",
    "        self.value = value\n",
    "\n",
    "\n",
    "# Funkcia na vypocet entropie aktualnej datovej mnoziny\n",
    "def calculate_entropy(y):\n",
    "    counts = Counter(y)\n",
    "    total = len(y)\n",
    "    entropy = -sum((count / total) * np.log2(count / total) for count in counts.values())\n",
    "    return entropy\n",
    "\n",
    "\n",
    "# Funkcia na vypocet informacneho zisku pre numericke atributy\n",
    "def information_gain(X, y, feature):\n",
    "    parent_entropy = calculate_entropy(y)\n",
    "\n",
    "    # Pre numericke atributy potrebujeme vypocitat prahove hodnoty\n",
    "    thresholds = X[feature].sort_values().unique()\n",
    "    best_gain = 0\n",
    "    best_threshold = None\n",
    "\n",
    "    for threshold in thresholds:\n",
    "        left_y = y[X[feature] <= threshold]\n",
    "        right_y = y[X[feature] > threshold]\n",
    "\n",
    "        # Vypocitame vazenu entropiu pre dany prah\n",
    "        weighted_entropy = (\n",
    "                (len(left_y) / len(y)) * calculate_entropy(left_y)\n",
    "                + (len(right_y) / len(y)) * calculate_entropy(right_y)\n",
    "        )\n",
    "\n",
    "        gain = parent_entropy - weighted_entropy\n",
    "        if gain > best_gain:\n",
    "            best_gain = gain\n",
    "            best_threshold = threshold\n",
    "\n",
    "    return best_gain, best_threshold\n",
    "\n",
    "\n",
    "# Trieda ID3Classifier s podporou numerickych dat\n",
    "class ID3Classifier:\n",
    "    def __init__(self, max_depth=2):\n",
    "        self.max_depth = max_depth\n",
    "        self.tree = None\n",
    "\n",
    "    def fit(self, X, y, depth=0):\n",
    "        if len(set(y)) == 1:\n",
    "            return DecisionNode(value=y.iloc[0])\n",
    "\n",
    "        if depth == self.max_depth:\n",
    "            return DecisionNode(value=y.mode()[0])\n",
    "\n",
    "        # Najdeme najlepsi atribut a prah\n",
    "        best_feature = None\n",
    "        best_threshold = None\n",
    "        best_gain = -1\n",
    "\n",
    "        for feature in X.columns:\n",
    "            gain, threshold = information_gain(X, y, feature)\n",
    "            if gain > best_gain:\n",
    "                best_gain = gain\n",
    "                best_feature = feature\n",
    "                best_threshold = threshold\n",
    "\n",
    "        # Ak neexistuje ziadne delenie, vratime list\n",
    "        if best_feature is None:\n",
    "            return DecisionNode(value=y.mode()[0])\n",
    "\n",
    "        node = DecisionNode(feature=best_feature, threshold=best_threshold)\n",
    "        left_mask = X[best_feature] <= best_threshold\n",
    "        right_mask = X[best_feature] > best_threshold\n",
    "\n",
    "        node.left = self.fit(X[left_mask], y[left_mask], depth + 1)\n",
    "        node.right = self.fit(X[right_mask], y[right_mask], depth + 1)\n",
    "\n",
    "        return node\n",
    "\n",
    "    def predict_one(self, x, node):\n",
    "        if node.value is not None:\n",
    "            return node.value\n",
    "\n",
    "        if x[node.feature] <= node.threshold:\n",
    "            return self.predict_one(x, node.left)\n",
    "        else:\n",
    "            return self.predict_one(x, node.right)\n",
    "\n",
    "    def predict(self, X):\n",
    "        return X.apply(lambda x: self.predict_one(x, self.tree), axis=1)\n",
    "\n",
    "\n",
    "# Trenovanie ID3 modelu\n",
    "id3 = ID3Classifier(max_depth=3)\n",
    "id3.tree = id3.fit(X_train, y_train)\n",
    "\n",
    "# Predikcia na trenovacej a testovacej mnozine\n",
    "y_train_pred_id3 = id3.predict(X_train)\n",
    "y_test_pred_id3 = id3.predict(X_test)\n",
    "\n",
    "print(\"Train predikcie:\\n\", y_train_pred_id3)\n",
    "print(\"Test predikcie:\\n\", y_test_pred_id3)"
   ]
  },
  {
   "cell_type": "markdown",
   "id": "840abf13",
   "metadata": {},
   "source": [
    "## 3.1.B Vyhodnotenie modelu"
   ]
  },
  {
   "cell_type": "code",
   "execution_count": null,
   "id": "4d77e2e0",
   "metadata": {},
   "outputs": [],
   "source": [
    "print(\"Výsledky pre trénovaciu množinu:\")\n",
    "print(f\"Accuracy: {accuracy_score(y_train, y_train_pred_id3):.4f}\")\n",
    "print(f\"Precision: {precision_score(y_train, y_train_pred_id3, average='binary'):.4f}\")\n",
    "print(f\"Recall: {recall_score(y_train, y_train_pred_id3, average='binary'):.4f}\")\n",
    "print(\"\\nPodrobný report:\")\n",
    "print(classification_report(y_train, y_train_pred_id3))\n",
    "\n",
    "print(\"\\nVýsledky pre testovaciu množinu:\")\n",
    "print(f\"Accuracy: {accuracy_score(y_test, y_test_pred_id3):.4f}\")\n",
    "print(f\"Precision: {precision_score(y_test, y_test_pred_id3, average='binary'):.4f}\")\n",
    "print(f\"Recall: {recall_score(y_test, y_test_pred_id3, average='binary'):.4f}\")\n",
    "print(\"\\nPodrobný report:\")\n",
    "print(classification_report(y_test, y_test_pred_id3))"
   ]
  },
  {
   "cell_type": "markdown",
   "id": "645a7874",
   "metadata": {},
   "source": [
    "### Interpretácia výsledkov pre max depth 3 a 12 atributov:\n",
    "1. Presnosť (Accuracy):\n",
    "    - Trénovacia presnosť: 86.53 %\n",
    "    - Testovacia presnosť: 87.07 %\n",
    "    - Obidve sú veľmi dobré a pomerne stabilné medzi trénovacím a testovacím datasetom, čo naznačuje, že model dobre generalizuje.\n",
    "\n",
    "2. Presnosť (Precision):\n",
    "    - Trénovacia presnosť: 87.59 %\n",
    "    - Testovacia presnosť: 88.26 %\n",
    "    - Vysoká presnosť na oboch množinách znamená, že model minimalizuje počet falošných pozitív (t.j. nesprávne klasifikované pozitívne prípady).\n",
    "\n",
    "3. Recall (Revokovanie):\n",
    "    - Trénovacia revokácia: 91.46 %\n",
    "    - Testovacia revokácia: 91.53 %\n",
    "    - Model má veľmi vysokú recall hodnotu, čo znamená, že zachytáva väčšinu skutočných pozitívnych prípadov, čo je dôležité pre odhaľovanie malvéru.\n",
    "\n",
    "4. F1-Score:\n",
    "    - F1-Score (pre triedu 1.0): 0.89 (trénovacia) a 0.90 (testovacia)\n",
    "    - F1-Score je veľmi dobrá metrika pre nevyvážené dáta, ako je náš prípad, kde jedna trieda (1.0) je viac zastúpená. Tento výsledok ukazuje, že model má veľmi dobrý kompromis medzi presnosťou a recallom.\n",
    "\n",
    "5. Macro a weighted average:\n",
    "    - Macro avg (priemer medzi triedami):\n",
    "        - Trénovanie: Precision 0.86, Recall 0.85\n",
    "        - Testovanie: Precision 0.87, Recall 0.86\n",
    "    - Weighted avg (vážený priemer podľa počtu príkladov v každej triede):\n",
    "        - Trénovanie: Precision 0.86, Recall 0.87\n",
    "        - Testovanie: Precision 0.87, Recall 0.87\n",
    "    - Tieto hodnoty tiež naznačujú, že model je vyvážený medzi oboma triedami, bez výrazných sklonov."
   ]
  },
  {
   "cell_type": "markdown",
   "id": "973e3ae1",
   "metadata": {},
   "source": [
    "## 3.1.C Overenie overfittingu"
   ]
  },
  {
   "cell_type": "code",
   "execution_count": null,
   "id": "86cc03d2",
   "metadata": {},
   "outputs": [],
   "source": [
    "# Metriky pre trenovaciu a testovaciu mnozinu\n",
    "train_metrics = [accuracy_score(y_train, y_train_pred_id3), precision_score(y_train, y_train_pred_id3),\n",
    "                 recall_score(y_train, y_train_pred_id3)]\n",
    "test_metrics = [accuracy_score(y_test, y_test_pred_id3), precision_score(y_test, y_test_pred_id3),\n",
    "                recall_score(y_test, y_test_pred_id3)]\n",
    "\n",
    "metrics = ['Accuracy', 'Precision', 'Recall']\n",
    "\n",
    "x = np.arange(len(metrics))\n",
    "width = 0.35\n",
    "\n",
    "ficomp_g, ax = plt.subplots(figsize=(8, 6))\n",
    "\n",
    "# Stlpce pre trenovaciu a testovaciu mnozinu\n",
    "rects1 = ax.bar(x - width / 2, train_metrics, width, label='Train', color='b')\n",
    "rects2 = ax.bar(x + width / 2, test_metrics, width, label='Test', color='g')\n",
    "\n",
    "# Pridanie popisov, titulkov a zobrazenie\n",
    "ax.set_ylabel('Scores')\n",
    "ax.set_title('Comparison of metrics between Train and Test data')\n",
    "ax.set_xticks(x)\n",
    "ax.set_xticklabels(metrics)\n",
    "ax.legend()\n",
    "\n",
    "plt.tight_layout()\n",
    "plt.show()"
   ]
  },
  {
   "cell_type": "markdown",
   "id": "fdb973ea",
   "metadata": {},
   "source": [
    "#### Naše výsledky sú veľmi dobré! Máme vysokú presnosť, recall aj F1-skóre, ktoré naznačujú, že model funguje veľmi dobre na detekciu mwra aktivity. Z interpretácie výsledkov a z grafu vidíme, že metriky sú vyvážené a pre testovaciu množinu sú o niečo lepšie, preto náš model nie je preučený."
   ]
  },
  {
   "cell_type": "markdown",
   "id": "31f2e31f",
   "metadata": {},
   "source": [
    "# 3.2 Trénovanie a vyhodnotenie klasikátorov strojového učenia\n",
    "\n",
    "## 3.2.A Trénovanie stromového algoritmu - Decision Tree Classifier"
   ]
  },
  {
   "cell_type": "code",
   "execution_count": null,
   "id": "22725e2a",
   "metadata": {},
   "outputs": [],
   "source": [
    "from sklearn.tree import DecisionTreeClassifier\n",
    "\n",
    "dt_clf = DecisionTreeClassifier(max_depth=3, random_state=42, criterion='entropy')\n",
    "\n",
    "# model training\n",
    "dt_clf.fit(X_train, y_train)\n",
    "\n",
    "# prediction on test and train set\n",
    "y_train_pred_dt = dt_clf.predict(X_train)\n",
    "y_test_pred_dt = dt_clf.predict(X_test)\n",
    "\n",
    "# performance evaluation\n",
    "print(\"Decision Tree Classifier - Trénovacia množina:\")\n",
    "print(f\"Accuracy: {accuracy_score(y_train, y_train_pred_dt):.4f}\")\n",
    "print(f\"Precision: {precision_score(y_train, y_train_pred_dt, average='binary'):.4f}\")\n",
    "print(f\"Recall: {recall_score(y_train, y_train_pred_dt, average='binary'):.4f}\")\n",
    "print(\"\\nPodrobný report:\")\n",
    "print(classification_report(y_train, y_train_pred_dt))\n",
    "\n",
    "print(\"Decision Tree Classifier - Testovacia množina:\")\n",
    "print(f\"Accuracy: {accuracy_score(y_test, y_test_pred_dt):.4f}\")\n",
    "print(f\"Precision: {precision_score(y_test, y_test_pred_dt, average='binary'):.4f}\")\n",
    "print(f\"Recall: {recall_score(y_test, y_test_pred_dt, average='binary'):.4f}\")\n",
    "print(\"\\nPodrobný report:\")\n",
    "print(classification_report(y_test, y_test_pred_dt))"
   ]
  },
  {
   "cell_type": "markdown",
   "id": "46e293a1",
   "metadata": {},
   "source": [
    "## 3.2.B Trénovanie nestromového algoritmu - Logistic Regression"
   ]
  },
  {
   "cell_type": "code",
   "execution_count": null,
   "id": "1dfafa0a",
   "metadata": {},
   "outputs": [],
   "source": [
    "from sklearn.linear_model import LogisticRegression\n",
    "\n",
    "lr_clf = LogisticRegression(random_state=42, max_iter=1000)\n",
    "\n",
    "# model training\n",
    "lr_clf.fit(X_train, y_train)\n",
    "\n",
    "# prediction on test and train set\n",
    "y_train_pred_lr = lr_clf.predict(X_train)\n",
    "y_test_pred_lr = lr_clf.predict(X_test)\n",
    "\n",
    "# performance evaluation\n",
    "print(\"Logistic Regression - Trénovacia množina\")\n",
    "print(f\"Accuracy: {accuracy_score(y_train, y_train_pred_lr):.4f}\")\n",
    "print(f\"Precision: {precision_score(y_train, y_train_pred_lr, average='binary'):.4f}\")\n",
    "print(f\"Recall: {recall_score(y_train, y_train_pred_lr, average='binary'):.4f}\")\n",
    "print(\"\\nPodrobný report:\")\n",
    "print(classification_report(y_train, y_train_pred_lr))\n",
    "\n",
    "print(\"Logistic Regression - Testovacia množina\")\n",
    "print(f\"Accuracy: {accuracy_score(y_test, y_test_pred_lr):.4f}\")\n",
    "print(f\"Precision: {precision_score(y_test, y_test_pred_lr, average='binary'):.4f}\")\n",
    "print(f\"Recall: {recall_score(y_test, y_test_pred_lr, average='binary'):.4f}\")\n",
    "print(\"\\nPodrobný report:\")\n",
    "print(classification_report(y_test, y_test_pred_lr))"
   ]
  },
  {
   "cell_type": "markdown",
   "id": "444be60a",
   "metadata": {},
   "source": [
    "## 3.2.C Porovnanie s ID3 klasifikátorom na základe Classification Report pre jednotlive triedy 0 a 1"
   ]
  },
  {
   "cell_type": "markdown",
   "id": "528a9b2f",
   "metadata": {},
   "source": [
    "- Pre triedu 1 (pozitívnu) všetky modely dosahujú veľmi podobné výsledky, Logistic Regression disponuje mierne lepším výkonom.\n",
    "- Pre triedu 0 (negatívnu) Logistic Regression opäť vykazuje lepšie výsledky, najmä čo sa týka precision.\n",
    "\n",
    "- Toto porovnanie ukazuje, že Logistic Regression má lepší výkon na oboch triedach v porovnaní s ID3 a Decision Tree. ID3 a Decision Tree majú podobné výsledky, ale Logistic Regression je silnejší vo väčšine metrikách.\n",
    "\n",
    "#### Podrobnejšie metriky a vizualizácia je v bode 3.2.5"
   ]
  },
  {
   "cell_type": "markdown",
   "id": "74b2cd21",
   "metadata": {},
   "source": [
    "## 3.2.D Vizualizácia pravidiel stromového modelu a Logistic Regression"
   ]
  },
  {
   "cell_type": "code",
   "execution_count": null,
   "id": "33852e19",
   "metadata": {},
   "outputs": [],
   "source": [
    "from sklearn import tree\n",
    "import matplotlib.pyplot as plt\n",
    "\n",
    "plt.figure(figsize=(20, 10))\n",
    "tree.plot_tree(dt_clf, filled=True, feature_names=X_train.columns, class_names=['0', '1'], fontsize=12)\n",
    "plt.title(\"Decision Tree Visualization\")\n",
    "plt.show()"
   ]
  },
  {
   "cell_type": "markdown",
   "id": "9ac30403",
   "metadata": {},
   "source": [
    "#### Niektoré vlastnosti, ako documentsui, externalstorage, alebo gm, majú veľký vplyv na rozhodovanie modelu. Sú na vyšších úrovniach stromu, pretože najlepšie rozlišujú medzi triedami."
   ]
  },
  {
   "cell_type": "code",
   "execution_count": null,
   "id": "3943d7d5",
   "metadata": {},
   "outputs": [],
   "source": [
    "# coefficient extraction a sort by influence\n",
    "coefficients = pd.DataFrame({'Feature': X_train.columns, 'Coefficient': lr_clf.coef_[0]})\n",
    "coefficients = coefficients.sort_values(by='Coefficient', ascending=False)\n",
    "\n",
    "# coefficient visualisation\n",
    "plt.figure(figsize=(10, 6))\n",
    "coefficients.plot(kind='bar', x='Feature', y='Coefficient', legend=False, color='skyblue')\n",
    "plt.title('Logistic Regression Coefficients')\n",
    "plt.ylabel('Coefficient Value')\n",
    "plt.tight_layout()\n",
    "plt.show()"
   ]
  },
  {
   "cell_type": "markdown",
   "id": "162301e2",
   "metadata": {},
   "source": [
    "## 3.2.E Vyhodnotenie pomocou Accuracy, Precision, Recall"
   ]
  },
  {
   "cell_type": "code",
   "execution_count": null,
   "id": "aead90a9",
   "metadata": {},
   "outputs": [],
   "source": [
    "import numpy as np\n",
    "import pandas as pd\n",
    "import matplotlib.pyplot as plt\n",
    "from sklearn.metrics import accuracy_score, precision_score, recall_score\n",
    "\n",
    "# Metriky pre každý model\n",
    "metrics_train = {\n",
    "    'Model': ['ID3', 'Decision Tree', 'Logistic Regression'],\n",
    "    'Accuracy': [\n",
    "        accuracy_score(y_train, y_train_pred_id3),\n",
    "        accuracy_score(y_train, y_train_pred_dt),\n",
    "        accuracy_score(y_train, y_train_pred_lr)\n",
    "    ],\n",
    "    'Precision': [\n",
    "        precision_score(y_train, y_train_pred_id3),\n",
    "        precision_score(y_train, y_train_pred_dt),\n",
    "        precision_score(y_train, y_train_pred_lr)\n",
    "    ],\n",
    "    'Recall': [\n",
    "        recall_score(y_train, y_train_pred_id3),\n",
    "        recall_score(y_train, y_train_pred_dt),\n",
    "        recall_score(y_train, y_train_pred_lr)\n",
    "    ]\n",
    "}\n",
    "\n",
    "metrics_test = {\n",
    "    'Accuracy': [\n",
    "        accuracy_score(y_test, y_test_pred_id3),\n",
    "        accuracy_score(y_test, y_test_pred_dt),\n",
    "        accuracy_score(y_test, y_test_pred_lr)\n",
    "    ],\n",
    "    'Precision': [\n",
    "        precision_score(y_test, y_test_pred_id3),\n",
    "        precision_score(y_test, y_test_pred_dt),\n",
    "        precision_score(y_test, y_test_pred_lr)\n",
    "    ],\n",
    "    'Recall': [\n",
    "        recall_score(y_test, y_test_pred_id3),\n",
    "        recall_score(y_test, y_test_pred_dt),\n",
    "        recall_score(y_test, y_test_pred_lr)\n",
    "    ]\n",
    "}\n",
    "\n",
    "# Pretransformovanie do DataFrame\n",
    "metrics_train_df = pd.DataFrame(metrics_train)\n",
    "metrics_test_df = pd.DataFrame(metrics_test)\n",
    "\n",
    "# Vizualizácia všetkých metrík pre trénovacie a testovacie dáta\n",
    "models = ['ID3', 'Decision Tree', 'Logistic Regression']\n",
    "metrics = ['Accuracy', 'Precision', 'Recall']\n",
    "\n",
    "# Nastavenie pre graf\n",
    "x = np.arange(len(models))\n",
    "width = 0.15\n",
    "\n",
    "# Vytvorenie grafu\n",
    "comp_fig, ax = plt.subplots(figsize=(12, 8))\n",
    "\n",
    "# Stĺpce\n",
    "comp_rects1 = ax.bar(x - 2 * width, metrics_train_df['Accuracy'], width, label='Accuracy (Train)', color='green')\n",
    "comp_rects2 = ax.bar(x - width, metrics_test_df['Accuracy'], width, label='Accuracy (Test)', color='lightgreen')\n",
    "comp_rects3 = ax.bar(x, metrics_train_df['Precision'], width, label='Precision (Train)', color='skyblue')\n",
    "comp_rects4 = ax.bar(x + width, metrics_test_df['Precision'], width, label='Precision (Test)', color='lightblue')\n",
    "comp_rects5 = ax.bar(x + 2 * width, metrics_train_df['Recall'], width, label='Recall (Train)', color='darkred')\n",
    "comp_rects6 = ax.bar(x + 3 * width, metrics_test_df['Recall'], width, label='Recall (Test)', color='red')\n",
    "\n",
    "# Pridanie názvov a popisov\n",
    "ax.set_ylabel('Skóre')\n",
    "ax.set_title('Porovnanie metrík Accuracy, Precision a Recall medzi modelmi (Trénovacia a Testovacia množina)')\n",
    "ax.set_xticks(x + width * 0.5)\n",
    "ax.set_xticklabels(models)\n",
    "ax.legend(loc='lower right')\n",
    "\n",
    "\n",
    "# Funkcia pre pridanie hodnôt na stĺpce\n",
    "def add_labels(rects):\n",
    "    for rect in rects:\n",
    "        height = rect.get_height()\n",
    "        ax.annotate('%.4f' % height,\n",
    "                    xy=(rect.get_x() + rect.get_width() / 2, height),\n",
    "                    xytext=(0, 3),\n",
    "                    textcoords=\"offset points\",\n",
    "                    ha='center', va='bottom')\n",
    "\n",
    "\n",
    "# Pridanie hodnôt na stĺpce\n",
    "add_labels(comp_rects1)\n",
    "add_labels(comp_rects2)\n",
    "add_labels(comp_rects3)\n",
    "add_labels(comp_rects4)\n",
    "add_labels(comp_rects5)\n",
    "add_labels(comp_rects6)\n",
    "\n",
    "# Zobrazenie grafu\n",
    "plt.tight_layout()\n",
    "plt.show()"
   ]
  },
  {
   "cell_type": "markdown",
   "id": "6621da0e",
   "metadata": {},
   "source": [
    "### Výstup:\n",
    "\n",
    "Z výstupov môžeme vidieť, že Logistic Regression dosiahol najvyššiu presnosť a recall na trénovacej aj testovacej množine. Tento model je najpresnejší a má lepšiu schopnosť zachytiť pozitívne vzory (vysoký recall).\n",
    "\n",
    "ID3 a Decision Tree majú veľmi podobné výsledky, čo naznačuje, že Decision Tree model (ktorý je optimalizovaný v rámci scikit-learn) poskytuje porovnateľné alebo lepšie výsledky než ručne implementovaný ID3 model. Avšak, medzi ID3 a Decision Tree nie sú výrazné rozdiely, keďže oba modely sú v podstate rozhodovacími stromami.\n",
    "\n",
    "#### 1. ID3:\n",
    "\n",
    "- Funguje ako základný model, ktorý má stabilné výsledky, ale mierne zaostáva oproti ostatným modelom.\n",
    "- Precision, recall a F1-score sú rovnaké pre Decision Tree, čo indikuje podobnú štruktúru.\n",
    "\n",
    "#### 2. Decision Tree:\n",
    "\n",
    "- Zlepšenie oproti ID3 v testovacej množine, ale rozdiel je minimálny.\n",
    "- Lepšia flexibilita algoritmu nevedie k dramatickému zlepšeniu presnosti.\n",
    "\n",
    "#### 3. Logistic Regression:\n",
    "\n",
    "- Najvyššie výsledky pre všetky metriky (precision, recall, F1-score) v testovacej množine.\n",
    "- Model má výhodu v tom, že je vhodný pre tento typ úlohy."
   ]
  },
  {
   "cell_type": "markdown",
   "id": "dc23743a",
   "metadata": {},
   "source": [
    "# 3.3 Optimalizácia alias hyperparameter tuning\n",
    "\n",
    "## 3.3.A"
   ]
  },
  {
   "cell_type": "code",
   "execution_count": null,
   "id": "4276d878",
   "metadata": {},
   "outputs": [],
   "source": [
    "from sklearn.model_selection import GridSearchCV\n",
    "from sklearn.tree import DecisionTreeClassifier\n",
    "from sklearn.metrics import accuracy_score, classification_report\n",
    "import numpy as np\n",
    "import matplotlib.pyplot as plt\n",
    "\n",
    "# 1. Nastavenie parametrov pre grid search\n",
    "param_grid = {\n",
    "    'criterion': ['gini', 'entropy'],  \n",
    "    'max_depth': [3, 5, 7, 10],        \n",
    "    'min_samples_split': [2, 5, 10],   \n",
    "    'min_samples_leaf': [1, 2, 4],\n",
    "    'max_features': ['sqrt', 'log2', None] \n",
    "}\n",
    "\n",
    "# 2. Inicializácia modelu a GridSearchCV\n",
    "dt = DecisionTreeClassifier(random_state=42)\n",
    "grid_search = GridSearchCV(\n",
    "    estimator=dt,\n",
    "    param_grid=param_grid,\n",
    "    cv=5,\n",
    "    scoring='accuracy',\n",
    "    n_jobs=-1,\n",
    "    verbose=1\n",
    ")\n",
    "\n",
    "# 3. Trénovanie modelu\n",
    "print(\"Trénovanie Grid Search modelu...\")\n",
    "grid_search.fit(X_train, y_train)\n",
    "\n",
    "# 4. Výsledky a analýza\n",
    "print(\"\\nNajlepšie parametre:\", grid_search.best_params_)\n",
    "print(\"Najlepšie skóre:\", grid_search.best_score_)\n",
    "\n",
    "# 5. Predikcie najlepšieho modelu\n",
    "best_model = grid_search.best_estimator_\n",
    "y_train_pred = best_model.predict(X_train)\n",
    "y_test_pred = best_model.predict(X_test)\n",
    "\n",
    "# 6. Vyhodnotenie výkonu\n",
    "print(\"\\nVýsledky pre trénovaciu množinu:\")\n",
    "print(classification_report(y_train, y_train_pred))\n",
    "\n",
    "print(\"\\nVýsledky pre testovaciu množinu:\")\n",
    "print(classification_report(y_test, y_test_pred))\n",
    "\n",
    "# 7. Vizualizácia výsledkov pre rôzne kombinácie parametrov\n",
    "results = pd.DataFrame(grid_search.cv_results_)\n",
    "\n",
    "# Graf pre max_depth\n",
    "plt.figure(figsize=(15, 5))\n",
    "plt.subplot(1, 2, 1)\n",
    "depth_scores = {}\n",
    "\n",
    "for depth in param_grid['max_depth']:\n",
    "    mask = results['param_max_depth'] == depth\n",
    "    scores = results[mask]['mean_test_score']\n",
    "    depth_scores[depth] = {\n",
    "        'mean': scores.mean(),\n",
    "        'std': scores.std()\n",
    "    }\n",
    "\n",
    "depths = list(depth_scores.keys())\n",
    "means = [depth_scores[d]['mean'] for d in depths]\n",
    "stds = [depth_scores[d]['std'] for d in depths]\n",
    "\n",
    "plt.errorbar(depths, means, yerr=stds, marker='o')\n",
    "plt.title('Závislosť presnosti od hĺbky stromu')\n",
    "plt.xlabel('Maximálna hĺbka stromu')\n",
    "plt.ylabel('Priemerná presnosť')\n",
    "plt.grid(True)\n",
    "\n",
    "# Graf pre max_features\n",
    "plt.subplot(1, 2, 2)\n",
    "feature_scores = {}\n",
    "\n",
    "for feature in param_grid['max_features']:\n",
    "    mask = results['param_max_features'] == feature\n",
    "    scores = results[mask]['mean_test_score']\n",
    "    feature_scores[str(feature)] = {\n",
    "        'mean': scores.mean(),\n",
    "        'std': scores.std()\n",
    "    }\n",
    "\n",
    "features = list(feature_scores.keys())\n",
    "means = [feature_scores[f]['mean'] for f in features]\n",
    "stds = [feature_scores[f]['std'] for f in features]\n",
    "\n",
    "plt.bar(features, means, yerr=stds)\n",
    "plt.title('Závislosť presnosti od max_features')\n",
    "plt.xlabel('max_features')\n",
    "plt.ylabel('Priemerná presnosť')\n",
    "plt.grid(True)\n",
    "\n",
    "plt.tight_layout()\n",
    "plt.show()\n",
    "\n",
    "# 8. Analýza výsledkov\n",
    "print(\"\\nAnalýza výkonu pre rôzne nastavenia:\")\n",
    "print(\"\\nPre rôzne hĺbky stromu:\")\n",
    "for depth in depths:\n",
    "    print(f\"Hĺbka {depth}:\")\n",
    "    print(f\"Priemerná presnosť: {depth_scores[depth]['mean']:.4f}\")\n",
    "    print(f\"Štandardná odchýlka: {depth_scores[depth]['std']:.4f}\")\n",
    "\n",
    "print(\"\\nPre rôzne max_features:\")\n",
    "for feature in features:\n",
    "    print(f\"max_features={feature}:\")\n",
    "    print(f\"Priemerná presnosť: {feature_scores[feature]['mean']:.4f}\")\n",
    "    print(f\"Štandardná odchýlka: {feature_scores[feature]['std']:.4f}\")\n",
    "\n",
    "# 9. Kontrola underfittingu\n",
    "train_acc = accuracy_score(y_train, y_train_pred)\n",
    "test_acc = accuracy_score(y_test, y_test_pred)\n",
    "\n",
    "print(\"\\nKontrola kvality modelu:\")\n",
    "print(f\"Presnosť na trénovacej množine: {train_acc:.4f}\")\n",
    "print(f\"Presnosť na testovacej množine: {test_acc:.4f}\")\n",
    "print(f\"Rozdiel: {abs(train_acc - test_acc):.4f}\")\n",
    "\n",
    "if train_acc < 0.85:\n",
    "    print(\"VAROVANIE: Možný underfitting - model má nízku presnosť na trénovacích dátach\")\n",
    "elif abs(train_acc - test_acc) > 0.05:\n",
    "    print(\"VAROVANIE: Možný overfitting - veľký rozdiel medzi trénovacou a testovacou presnosťou\")\n",
    "else:\n",
    "    print(\"Model je dobre vyvážený - bez zjavného underfittingu alebo overfittingu\")"
   ]
  },
  {
   "cell_type": "markdown",
   "id": "5910aac0",
   "metadata": {},
   "source": [
    "## 3.3.B"
   ]
  },
  {
   "cell_type": "code",
   "execution_count": null,
   "id": "156e2848",
   "metadata": {},
   "outputs": [],
   "source": []
  },
  {
   "cell_type": "markdown",
   "id": "bb668569",
   "metadata": {},
   "source": [
    "## 3.3.C"
   ]
  },
  {
   "cell_type": "code",
   "execution_count": null,
   "id": "34a7c2ae",
   "metadata": {},
   "outputs": [],
   "source": []
  },
  {
   "cell_type": "markdown",
   "id": "64caea56",
   "metadata": {},
   "source": [
    "## 3.3.D"
   ]
  },
  {
   "cell_type": "code",
   "execution_count": null,
   "id": "deb50314",
   "metadata": {},
   "outputs": [],
   "source": []
  },
  {
   "cell_type": "markdown",
   "id": "24e790dc",
   "metadata": {},
   "source": [
    "# 3.4 Vyhodnotenie vplyvu zvolenej stratégie riešenia na klasikáciu\n",
    "\n",
    "## 3.4.A"
   ]
  },
  {
   "cell_type": "code",
   "execution_count": null,
   "id": "f18e44b9",
   "metadata": {},
   "outputs": [],
   "source": []
  },
  {
   "cell_type": "markdown",
   "id": "ab02358a",
   "metadata": {},
   "source": [
    "## 3.4.B"
   ]
  },
  {
   "cell_type": "code",
   "execution_count": null,
   "id": "cca0b24e",
   "metadata": {},
   "outputs": [],
   "source": []
  },
  {
   "cell_type": "markdown",
   "id": "c1fdbd2f",
   "metadata": {},
   "source": [
    "## 3.4.C"
   ]
  },
  {
   "cell_type": "code",
   "execution_count": null,
   "id": "3ed0dd04",
   "metadata": {},
   "outputs": [],
   "source": []
  },
  {
   "cell_type": "markdown",
   "id": "48ab3dfa",
   "metadata": {},
   "source": [
    "## 3.4.D"
   ]
  },
  {
   "cell_type": "code",
   "execution_count": null,
   "id": "b66b432b",
   "metadata": {},
   "outputs": [],
   "source": []
  },
  {
   "cell_type": "markdown",
   "id": "1c7614e8",
   "metadata": {},
   "source": [
    "## 3.4.E"
   ]
  },
  {
   "cell_type": "code",
   "execution_count": null,
   "id": "9d7ce9ac",
   "metadata": {},
   "outputs": [],
   "source": []
  },
  {
   "cell_type": "markdown",
   "id": "e7ba7180c3282794",
   "metadata": {},
   "source": [
    "# Načítanie údajov z datasetu\n"
   ]
  },
  {
   "cell_type": "code",
   "execution_count": null,
   "id": "7f3611945c94e8aa",
   "metadata": {},
   "outputs": [],
   "source": []
  },
  {
   "cell_type": "markdown",
   "id": "9b9deaf1bdc3b3c2",
   "metadata": {},
   "source": [
    "# 3.1 Jednoduchý klasikátor na základe závislosti v dátach\n",
    "\n",
    "## 3.1.A"
   ]
  },
  {
   "cell_type": "code",
   "execution_count": null,
   "id": "initial_id",
   "metadata": {
    "collapsed": true
   },
   "outputs": [],
   "source": []
  },
  {
   "cell_type": "markdown",
   "id": "6161752d6e9244c6",
   "metadata": {},
   "source": [
    "## 3.1.B"
   ]
  },
  {
   "cell_type": "code",
   "execution_count": null,
   "id": "ddff181c917916ab",
   "metadata": {},
   "outputs": [],
   "source": []
  },
  {
   "cell_type": "markdown",
   "id": "76d342cd290dc4e4",
   "metadata": {},
   "source": [
    "## 3.1.C"
   ]
  },
  {
   "cell_type": "code",
   "execution_count": null,
   "id": "261e2f47a13cd826",
   "metadata": {},
   "outputs": [],
   "source": []
  },
  {
   "cell_type": "markdown",
   "id": "734228173c535a5a",
   "metadata": {},
   "source": [
    "# 3.2 Trénovanie a vyhodnotenie klasikátorov strojového učenia\n",
    "\n",
    "## 3.2.A"
   ]
  },
  {
   "cell_type": "code",
   "execution_count": null,
   "id": "bd44cfb7f8692950",
   "metadata": {},
   "outputs": [],
   "source": []
  },
  {
   "cell_type": "markdown",
   "id": "e3c17ed7c7093724",
   "metadata": {},
   "source": [
    "## 3.2.B"
   ]
  },
  {
   "cell_type": "code",
   "execution_count": null,
   "id": "6ef3677d9c4d5776",
   "metadata": {},
   "outputs": [],
   "source": []
  },
  {
   "cell_type": "markdown",
   "id": "a070363aff9c8edf",
   "metadata": {},
   "source": [
    "## 3.2.C"
   ]
  },
  {
   "cell_type": "code",
   "execution_count": null,
   "id": "827ce17ae41a4b5e",
   "metadata": {},
   "outputs": [],
   "source": []
  },
  {
   "cell_type": "markdown",
   "id": "c57f5688f32febbb",
   "metadata": {},
   "source": [
    "## 3.2.D"
   ]
  },
  {
   "cell_type": "code",
   "execution_count": null,
   "id": "34a955a880c43546",
   "metadata": {},
   "outputs": [],
   "source": []
  },
  {
   "cell_type": "markdown",
   "id": "8b8da62e76058398",
   "metadata": {},
   "source": [
    "## 3.2.E"
   ]
  },
  {
   "cell_type": "code",
   "execution_count": null,
   "id": "32c7b55427ad9d65",
   "metadata": {},
   "outputs": [],
   "source": []
  },
  {
   "cell_type": "markdown",
   "id": "1e30f154d122f8c9",
   "metadata": {},
   "source": [
    "# 3.3 Optimalizácia alias hyperparameter tuning\n",
    "\n",
    "## 3.3.A"
   ]
  },
  {
   "cell_type": "code",
   "execution_count": null,
   "id": "23a7276e380c5b4e",
   "metadata": {},
   "outputs": [],
   "source": []
  },
  {
   "cell_type": "markdown",
   "id": "d567916c6ecd61b0",
   "metadata": {},
   "source": [
    "## 3.3.B"
   ]
  },
  {
   "cell_type": "code",
   "execution_count": null,
   "id": "696d74a0dfab1e40",
   "metadata": {},
   "outputs": [],
   "source": []
  },
  {
   "cell_type": "markdown",
   "id": "64e05cb44cf69c80",
   "metadata": {},
   "source": [
    "## 3.3.C"
   ]
  },
  {
   "cell_type": "code",
   "execution_count": null,
   "id": "a162d4ca91911553",
   "metadata": {},
   "outputs": [],
   "source": []
  },
  {
   "cell_type": "markdown",
   "id": "57839d6f07a0d5d7",
   "metadata": {},
   "source": [
    "## 3.3.D"
   ]
  },
  {
   "cell_type": "code",
   "execution_count": null,
   "id": "5c07f03d2e8fa4a8",
   "metadata": {},
   "outputs": [],
   "source": []
  },
  {
   "cell_type": "markdown",
   "id": "1673ab0fb8c1dbde",
   "metadata": {},
   "source": [
    "# 3.4 Vyhodnotenie vplyvu zvolenej stratégie riešenia na klasikáciu\n",
    "\n",
    "## 3.4.A"
   ]
  },
  {
   "cell_type": "code",
   "execution_count": null,
   "id": "9d12d9a5bf831907",
   "metadata": {},
   "outputs": [],
   "source": []
  },
  {
   "cell_type": "markdown",
   "id": "351de9be05e78b04",
   "metadata": {},
   "source": [
    "## 3.4.B"
   ]
  },
  {
   "cell_type": "code",
   "execution_count": null,
   "id": "dfba5b090d257a18",
   "metadata": {},
   "outputs": [],
   "source": []
  },
  {
   "cell_type": "markdown",
   "id": "3328ab2e73477b4c",
   "metadata": {},
   "source": [
    "## 3.4.C"
   ]
  },
  {
   "cell_type": "code",
   "execution_count": null,
   "id": "ddceacef4544e740",
   "metadata": {},
   "outputs": [],
   "source": []
  },
  {
   "cell_type": "markdown",
   "id": "1bcf16ba57289490",
   "metadata": {},
   "source": [
    "## 3.4.D"
   ]
  },
  {
   "cell_type": "code",
   "execution_count": null,
   "id": "df6188776eb62263",
   "metadata": {},
   "outputs": [],
   "source": []
  },
  {
   "cell_type": "markdown",
   "id": "e271a489d9acb7eb",
   "metadata": {},
   "source": [
    "## 3.4.E"
   ]
  },
  {
   "cell_type": "code",
   "execution_count": null,
   "id": "4be33d64e14798f6",
   "metadata": {},
   "outputs": [],
   "source": []
  }
 ],
 "metadata": {
  "kernelspec": {
   "display_name": ".venv",
   "language": "python",
   "name": "python3"
  },
  "language_info": {
   "codemirror_mode": {
    "name": "ipython",
    "version": 3
   },
   "file_extension": ".py",
   "mimetype": "text/x-python",
   "name": "python",
   "nbconvert_exporter": "python",
   "pygments_lexer": "ipython3",
   "version": "3.11.5"
  }
 },
 "nbformat": 4,
 "nbformat_minor": 5
}
