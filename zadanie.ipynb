{
 "cells": [
  {
   "cell_type": "markdown",
   "metadata": {},
   "source": [
    "# 1.1.A"
   ]
  },
  {
   "cell_type": "code",
   "execution_count": null,
   "metadata": {},
   "outputs": [],
   "source": [
    "import pandas as pd\n",
    "import matplotlib.pyplot as plt\n",
    "import seaborn as sns\n",
    "\n",
    "connections = pd.read_csv('dataset/connections.csv', sep='\\t')\n",
    "devices = pd.read_csv('dataset/devices.csv', sep='\\t')\n",
    "processes = pd.read_csv('dataset/processes.csv', sep='\\t')\n",
    "profiles = pd.read_csv('dataset/profiles.csv', sep='\\t')"
   ]
  },
  {
   "cell_type": "markdown",
   "metadata": {},
   "source": [
    "Import vsetkych potrebnych kniznic a acitavanie vsetkych suborov csv z datasetu"
   ]
  },
  {
   "cell_type": "code",
   "execution_count": null,
   "metadata": {},
   "outputs": [],
   "source": [
    "connections.info()"
   ]
  },
  {
   "cell_type": "markdown",
   "metadata": {},
   "source": [
    "Základné informácie o súbore connections.csv. Nultý column je objekt(na ktorý sa pozrieme neskôr), prvý je celočíselná hodnota IMEI, mwra, ktorý je float64, ale môže byť len 1.0 alebo 0.0 a ostatné columns znázorňujú čas strávený používaním rôznych aplikácií."
   ]
  },
  {
   "cell_type": "code",
   "execution_count": null,
   "metadata": {},
   "outputs": [],
   "source": [
    "print(connections['ts'])"
   ]
  },
  {
   "cell_type": "markdown",
   "metadata": {},
   "source": [
    "V nultom columne v súbore connections.csv sa nachádza hodnota dátumu a času."
   ]
  },
  {
   "cell_type": "code",
   "execution_count": null,
   "metadata": {},
   "outputs": [],
   "source": [
    "devices.info()"
   ]
  },
  {
   "cell_type": "markdown",
   "metadata": {},
   "source": [
    "Základné informácie o súbore devices.csv. Nultý column znázorňuje zemepisnú šírku a prvý zemepisnú šírku. Druhý znázorňuje obchod, v ktorom bol kúpený, tretí znázorňuje označenie krajiny pôvodu, štvrtý obsahuje hodnoty \"Kontinent/Mesto\". Piatý column znázorňuje imei telefónu."
   ]
  },
  {
   "cell_type": "code",
   "execution_count": null,
   "metadata": {},
   "outputs": [],
   "source": [
    "processes.info()"
   ]
  },
  {
   "cell_type": "markdown",
   "metadata": {},
   "source": []
  },
  {
   "cell_type": "code",
   "execution_count": null,
   "metadata": {},
   "outputs": [],
   "source": [
    "profiles.info()"
   ]
  }
 ],
 "metadata": {
  "kernelspec": {
   "display_name": ".venv",
   "language": "python",
   "name": "python3"
  },
  "language_info": {
   "codemirror_mode": {
    "name": "ipython",
    "version": 3
   },
   "file_extension": ".py",
   "mimetype": "text/x-python",
   "name": "python",
   "nbconvert_exporter": "python",
   "pygments_lexer": "ipython3",
   "version": "3.11.5"
  }
 },
 "nbformat": 4,
 "nbformat_minor": 2
}
