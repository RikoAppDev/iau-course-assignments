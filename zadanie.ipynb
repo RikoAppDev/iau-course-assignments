{
 "cells": [
  {
   "cell_type": "code",
   "execution_count": 1,
   "metadata": {},
   "outputs": [
    {
     "name": "stdout",
     "output_type": "stream",
     "text": [
      "                    ts                 imei  mwra  c.android.gm  \\\n",
      "0  2018-05-05 10:00:00  3590433799317661479   0.0       7.58999   \n",
      "1  2018-05-05 10:01:00  3590433799317661115   1.0      13.90744   \n",
      "2  2018-05-05 10:02:00   359043379931766155   0.0      12.07737   \n",
      "3  2018-05-05 10:03:00  3590433799317661040   0.0      11.93742   \n",
      "4  2018-05-05 10:04:00  8630330696303481669   1.0       7.91094   \n",
      "\n",
      "   c.android.chrome  c.dogalize  c.katana  c.android.youtube  \\\n",
      "0          10.10690    13.15797   9.38358           12.97598   \n",
      "1          11.08136    10.56072  11.35434           13.32609   \n",
      "2           9.28159    11.69018   9.33765           13.66042   \n",
      "3           9.87723    14.49817  10.41657           15.17780   \n",
      "4          14.34135    11.03992  16.50329            7.84216   \n",
      "\n",
      "   c.android.vending  c.updateassist  c.UCMobile.intl  c.raider  \\\n",
      "0           36.79370        93.07163         49.48807  49.89508   \n",
      "1           45.54295        25.35344         12.25272  40.96505   \n",
      "2           31.33313        57.10267         15.59104  10.05703   \n",
      "3           32.24723        67.04176         27.06914  91.52950   \n",
      "4           63.95286        65.50634         44.55535  79.41878   \n",
      "\n",
      "   c.UCMobile.x86  \n",
      "0        98.53288  \n",
      "1        89.22454  \n",
      "2        15.64089  \n",
      "3        67.54428  \n",
      "4        77.33712  \n"
     ]
    }
   ],
   "source": [
    "import pandas as pd\n",
    "import matplotlib.pyplot as plt\n",
    "import seaborn as sns\n",
    "\n",
    "connections = pd.read_csv('dataset/connections.csv', sep='\\t')\n",
    "devices = pd.read_csv('dataset/devices.csv', sep='\\t')\n",
    "processes = pd.read_csv('dataset/processes.csv', sep='\\t')\n",
    "profiles = pd.read_csv('dataset/profiles.csv', sep='\\t')\n",
    "\n",
    "\n",
    "\n",
    "\n"
   ]
  }
 ],
 "metadata": {
  "kernelspec": {
   "display_name": ".venv",
   "language": "python",
   "name": "python3"
  },
  "language_info": {
   "codemirror_mode": {
    "name": "ipython",
    "version": 3
   },
   "file_extension": ".py",
   "mimetype": "text/x-python",
   "name": "python",
   "nbconvert_exporter": "python",
   "pygments_lexer": "ipython3",
   "version": "3.11.5"
  }
 },
 "nbformat": 4,
 "nbformat_minor": 2
}
