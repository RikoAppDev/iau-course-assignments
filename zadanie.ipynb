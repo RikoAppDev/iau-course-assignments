{
 "cells": [
  {
   "metadata": {},
   "cell_type": "markdown",
   "source": [
    "#   IAU Zadanie - I. fáza\n",
    "\n",
    "### Autori: Peter Brendajsky, Frederik Duvač"
   ]
  },
  {
   "metadata": {},
   "cell_type": "code",
   "source": [
    "import pandas as pd\n",
    "import matplotlib.pyplot as plt\n",
    "import seaborn as sns"
   ],
   "outputs": [],
   "execution_count": null
  },
  {
   "metadata": {},
   "cell_type": "markdown",
   "source": "# Načítanie údajov z datasetov"
  },
  {
   "metadata": {},
   "cell_type": "code",
   "source": [
    "connections = pd.read_csv('dataset/connections.csv', sep='\\t')\n",
    "devices = pd.read_csv('dataset/devices.csv', sep='\\t')\n",
    "processes = pd.read_csv('dataset/processes.csv', sep='\\t')\n",
    "profiles = pd.read_csv('dataset/profiles.csv', sep='\\t')"
   ],
   "outputs": [],
   "execution_count": null
  },
  {
   "metadata": {},
   "cell_type": "markdown",
   "source": "### Náhlad na dáta"
  },
  {
   "metadata": {},
   "cell_type": "code",
   "source": "connections.head()",
   "outputs": [],
   "execution_count": null
  },
  {
   "metadata": {},
   "cell_type": "code",
   "source": "devices.head()",
   "outputs": [],
   "execution_count": null
  },
  {
   "metadata": {},
   "cell_type": "code",
   "source": "processes.head()",
   "outputs": [],
   "execution_count": null
  },
  {
   "metadata": {},
   "cell_type": "code",
   "source": "profiles.head()",
   "outputs": [],
   "execution_count": null
  },
  {
   "metadata": {},
   "cell_type": "markdown",
   "source": ""
  },
  {
   "metadata": {},
   "cell_type": "code",
   "source": "",
   "outputs": [],
   "execution_count": null
  }
 ],
 "metadata": {
  "kernelspec": {
   "display_name": ".venv",
   "language": "python",
   "name": "python3"
  },
  "language_info": {
   "codemirror_mode": {
    "name": "ipython",
    "version": 3
   },
   "file_extension": ".py",
   "mimetype": "text/x-python",
   "name": "python",
   "nbconvert_exporter": "python",
   "pygments_lexer": "ipython3",
   "version": "3.11.5"
  }
 },
 "nbformat": 4,
 "nbformat_minor": 2
}
