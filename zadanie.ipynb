{
 "cells": [
  {
   "cell_type": "markdown",
   "metadata": {},
   "source": [
    "# 1.1.A"
   ]
  },
  {
   "cell_type": "code",
   "execution_count": 1,
   "metadata": {},
   "outputs": [],
   "source": [
    "import pandas as pd\n",
    "import matplotlib.pyplot as plt\n",
    "import seaborn as sns\n",
    "\n",
    "connections = pd.read_csv('dataset/connections.csv', sep='\\t')\n",
    "devices = pd.read_csv('dataset/devices.csv', sep='\\t')\n",
    "processes = pd.read_csv('dataset/processes.csv', sep='\\t')\n",
    "profiles = pd.read_csv('dataset/profiles.csv', sep='\\t')"
   ]
  },
  {
   "cell_type": "markdown",
   "metadata": {},
   "source": [
    "Import vsetkych potrebnych kniznic a acitavanie vsetkych suborov csv z datasetu"
   ]
  },
  {
   "cell_type": "code",
   "execution_count": 2,
   "metadata": {},
   "outputs": [
    {
     "name": "stdout",
     "output_type": "stream",
     "text": [
      "<class 'pandas.core.frame.DataFrame'>\n",
      "RangeIndex: 15063 entries, 0 to 15062\n",
      "Data columns (total 13 columns):\n",
      " #   Column             Non-Null Count  Dtype  \n",
      "---  ------             --------------  -----  \n",
      " 0   ts                 15063 non-null  object \n",
      " 1   imei               15063 non-null  int64  \n",
      " 2   mwra               15063 non-null  float64\n",
      " 3   c.android.gm       15063 non-null  float64\n",
      " 4   c.android.chrome   15063 non-null  float64\n",
      " 5   c.dogalize         15063 non-null  float64\n",
      " 6   c.katana           15063 non-null  float64\n",
      " 7   c.android.youtube  15063 non-null  float64\n",
      " 8   c.android.vending  15063 non-null  float64\n",
      " 9   c.updateassist     15063 non-null  float64\n",
      " 10  c.UCMobile.intl    15063 non-null  float64\n",
      " 11  c.raider           15063 non-null  float64\n",
      " 12  c.UCMobile.x86     15063 non-null  float64\n",
      "dtypes: float64(11), int64(1), object(1)\n",
      "memory usage: 1.5+ MB\n"
     ]
    }
   ],
   "source": [
    "connections.info()"
   ]
  },
  {
   "cell_type": "markdown",
   "metadata": {},
   "source": [
    "Základné informácie o súbore connections.csv. Nultý column je objekt(na ktorý sa pozrieme neskôr), prvý je celočíselná hodnota int64 a ostatné sú float64."
   ]
  },
  {
   "cell_type": "code",
   "execution_count": 10,
   "metadata": {},
   "outputs": [
    {
     "name": "stdout",
     "output_type": "stream",
     "text": [
      "0        2018-05-05 10:00:00\n",
      "1        2018-05-05 10:01:00\n",
      "2        2018-05-05 10:02:00\n",
      "3        2018-05-05 10:03:00\n",
      "4        2018-05-05 10:04:00\n",
      "                ...         \n",
      "15058    2018-05-06 01:15:00\n",
      "15059    2018-05-08 13:40:00\n",
      "15060    2018-05-13 01:59:00\n",
      "15061    2018-05-09 09:01:00\n",
      "15062    2018-05-08 01:53:00\n",
      "Name: ts, Length: 15063, dtype: object\n"
     ]
    }
   ],
   "source": [
    "print(connections['ts'])"
   ]
  },
  {
   "cell_type": "markdown",
   "metadata": {},
   "source": [
    "V nultom columne v súbore connections.csv sa nachádza hodnota dátumu a času."
   ]
  },
  {
   "cell_type": "code",
   "execution_count": 3,
   "metadata": {},
   "outputs": [
    {
     "name": "stdout",
     "output_type": "stream",
     "text": [
      "<class 'pandas.core.frame.DataFrame'>\n",
      "RangeIndex: 2884 entries, 0 to 2883\n",
      "Data columns (total 6 columns):\n",
      " #   Column      Non-Null Count  Dtype  \n",
      "---  ------      --------------  -----  \n",
      " 0   latitude    2884 non-null   float64\n",
      " 1   longitude   2884 non-null   float64\n",
      " 2   store_name  2884 non-null   object \n",
      " 3   code        2882 non-null   object \n",
      " 4   location    2884 non-null   object \n",
      " 5   imei        2884 non-null   int64  \n",
      "dtypes: float64(2), int64(1), object(3)\n",
      "memory usage: 135.3+ KB\n"
     ]
    }
   ],
   "source": [
    "devices.info()"
   ]
  },
  {
   "cell_type": "markdown",
   "metadata": {},
   "source": [
    "Základné informácie o súbore devices.csv."
   ]
  },
  {
   "cell_type": "code",
   "execution_count": 4,
   "metadata": {},
   "outputs": [
    {
     "name": "stdout",
     "output_type": "stream",
     "text": [
      "<class 'pandas.core.frame.DataFrame'>\n",
      "RangeIndex: 15063 entries, 0 to 15062\n",
      "Data columns (total 23 columns):\n",
      " #   Column                      Non-Null Count  Dtype  \n",
      "---  ------                      --------------  -----  \n",
      " 0   ts                          15063 non-null  object \n",
      " 1   imei                        15063 non-null  int64  \n",
      " 2   mwra                        15063 non-null  float64\n",
      " 3   p.android.documentsui       15063 non-null  float64\n",
      " 4   p.system                    15063 non-null  float64\n",
      " 5   p.android.settings          15063 non-null  float64\n",
      " 6   p.android.chrome            15063 non-null  float64\n",
      " 7   p.android.externalstorage   15063 non-null  float64\n",
      " 8   p.android.gm                15063 non-null  float64\n",
      " 9   p.android.packageinstaller  15063 non-null  float64\n",
      " 10  p.inputmethod.latin         15063 non-null  float64\n",
      " 11  p.olauncher                 15063 non-null  float64\n",
      " 12  p.google                    15063 non-null  float64\n",
      " 13  p.process.gapps             15063 non-null  float64\n",
      " 14  p.katana                    15063 non-null  float64\n",
      " 15  p.gms.persistent            15063 non-null  float64\n",
      " 16  p.android.defcontainer      15063 non-null  float64\n",
      " 17  p.browser.provider          15063 non-null  float64\n",
      " 18  p.simulator                 15063 non-null  float64\n",
      " 19  p.notifier                  15063 non-null  float64\n",
      " 20  p.android.vending           15063 non-null  float64\n",
      " 21  p.dogalize                  15063 non-null  float64\n",
      " 22  p.android.gms               15063 non-null  float64\n",
      "dtypes: float64(21), int64(1), object(1)\n",
      "memory usage: 2.6+ MB\n"
     ]
    }
   ],
   "source": [
    "processes.info()"
   ]
  },
  {
   "cell_type": "markdown",
   "metadata": {},
   "source": []
  },
  {
   "cell_type": "code",
   "execution_count": 5,
   "metadata": {},
   "outputs": [
    {
     "name": "stdout",
     "output_type": "stream",
     "text": [
      "<class 'pandas.core.frame.DataFrame'>\n",
      "RangeIndex: 2616 entries, 0 to 2615\n",
      "Data columns (total 12 columns):\n",
      " #   Column        Non-Null Count  Dtype \n",
      "---  ------        --------------  ----- \n",
      " 0   mail          2616 non-null   object\n",
      " 1   address       2224 non-null   object\n",
      " 2   ssn           2616 non-null   object\n",
      " 3   residence     916 non-null    object\n",
      " 4   company       2616 non-null   object\n",
      " 5   registration  2616 non-null   object\n",
      " 6   user_id       2616 non-null   int64 \n",
      " 7   job           785 non-null    object\n",
      " 8   name          2616 non-null   object\n",
      " 9   birthdate     1439 non-null   object\n",
      " 10  username      2616 non-null   object\n",
      " 11  imei          2616 non-null   int64 \n",
      "dtypes: int64(2), object(10)\n",
      "memory usage: 245.4+ KB\n"
     ]
    }
   ],
   "source": [
    "profiles.info()"
   ]
  }
 ],
 "metadata": {
  "kernelspec": {
   "display_name": ".venv",
   "language": "python",
   "name": "python3"
  },
  "language_info": {
   "codemirror_mode": {
    "name": "ipython",
    "version": 3
   },
   "file_extension": ".py",
   "mimetype": "text/x-python",
   "name": "python",
   "nbconvert_exporter": "python",
   "pygments_lexer": "ipython3",
   "version": "3.11.5"
  }
 },
 "nbformat": 4,
 "nbformat_minor": 2
}
