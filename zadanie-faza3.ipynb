{
 "cells": [
  {
   "metadata": {},
   "cell_type": "markdown",
   "source": [
    "#   IAU Zadanie - III. fáza\n",
    "\n",
    "### Autori: Peter Brandajsky - 50%, Frederik Duvač - 50%"
   ],
   "id": "ef5d663fafadc6d4"
  },
  {
   "metadata": {},
   "cell_type": "markdown",
   "source": "#### Kedze bolo predosle zadanie chaoticky napisane ohladom toho co mame exportnut, tak sme upravili export kde transformujeme aj testovaci dataset pomocou nasej pipeline. Upraveny kod vyzeral takto:\n",
   "id": "c307967aa872ce01"
  },
  {
   "metadata": {
    "ExecuteTime": {
     "end_time": "2024-11-21T23:42:03.483602Z",
     "start_time": "2024-11-21T23:42:03.476760Z"
    }
   },
   "cell_type": "code",
   "source": [
    "'''\n",
    "from sklearn.compose import make_column_transformer\n",
    "from sklearn.pipeline import Pipeline\n",
    "from sklearn.preprocessing import QuantileTransformer, PowerTransformer, StandardScaler, MinMaxScaler, FunctionTransformer\n",
    "import pandas as pd\n",
    "\n",
    "# Definícia stĺpcov\n",
    "normal_columns = [\n",
    "    'c.android.gm', 'c.android.chrome', 'c.dogalize', 'c.katana',\n",
    "    'c.android.youtube', 'p.android.documentsui', 'p.system',\n",
    "    'p.android.chrome', 'p.android.externalstorage', 'p.android.gm',\n",
    "    'p.android.packageinstaller'\n",
    "]\n",
    "skewed_column = ['p.olauncher']\n",
    "\n",
    "X_train = train_data.drop(columns=['mwra'])\n",
    "y_train = train_data['mwra']\n",
    "X_test = test_data.drop(columns=['mwra'])\n",
    "y_test = test_data['mwra']\n",
    "\n",
    "# Krok 1: Quantile Transformácia pre šikmý stĺpec\n",
    "quantile_transformer = Pipeline(steps=[\n",
    "    ('transform', make_column_transformer(\n",
    "        (QuantileTransformer(output_distribution=\"normal\", random_state=42), skewed_column),\n",
    "        remainder='passthrough')),\n",
    "    ('to_dataframe', FunctionTransformer(lambda x: pd.DataFrame(x, columns=X_train.columns)))\n",
    "])\n",
    "\n",
    "# Krok 2: Power Transformácia pre normálne stĺpce\n",
    "power_transformer = Pipeline(steps=[\n",
    "    ('transform', make_column_transformer(\n",
    "        (PowerTransformer(method='yeo-johnson', standardize=True), normal_columns),\n",
    "        remainder='passthrough')),\n",
    "    ('to_dataframe', FunctionTransformer(lambda x: pd.DataFrame(x, columns=X_train.columns)))\n",
    "])\n",
    "\n",
    "# Krok 3: Standard Scaling pre normálne stĺpce\n",
    "standard_scaler = Pipeline(steps=[\n",
    "    ('transform', make_column_transformer(\n",
    "        (StandardScaler(), normal_columns),\n",
    "        remainder='passthrough')),\n",
    "    ('to_dataframe', FunctionTransformer(lambda x: pd.DataFrame(x, columns=X_train.columns)))\n",
    "])\n",
    "\n",
    "# Krok 4: Min-Max Scaling pre šikmý stĺpec\n",
    "minmax_scaler = Pipeline(steps=[\n",
    "    ('transform', make_column_transformer(\n",
    "        (MinMaxScaler(), skewed_column),\n",
    "        remainder='passthrough')),\n",
    "    ('to_dataframe', FunctionTransformer(lambda x: pd.DataFrame(x, columns=X_train.columns)))\n",
    "])\n",
    "\n",
    "# Vytvorenie hlavnej Pipeline s každým krokom zvlášť\n",
    "pipeline = Pipeline(steps=[\n",
    "    ('quantile', quantile_transformer),\n",
    "    ('power', power_transformer),\n",
    "    ('scaler', standard_scaler),\n",
    "    ('minmax', minmax_scaler),\n",
    "], verbose=True)\n",
    "\n",
    "# Aplikácia pipeline na trénovacie dáta bez 'mwra'\n",
    "X_train_transformed = pipeline.fit_transform(X_train)\n",
    "X_test_transformed = pipeline.transform(X_test)\n",
    "\n",
    "# Spojenie transformovaných dát s cieľovým stĺpcom 'mwra'\n",
    "train_transformed = pd.concat([y_train.reset_index(drop=True), X_train_transformed], axis=1)\n",
    "test_transformed = pd.concat([y_test.reset_index(drop=True), pd.DataFrame(X_test_transformed, columns=X_test.columns)], axis=1)\n",
    "\n",
    "train_transformed\n",
    "test_transformed\n",
    "\n",
    "train_transformed.to_csv('dataset/train_transformed.csv', sep='\\t', index=False, encoding='utf-8')\n",
    "test_transformed.to_csv('dataset/test_transformed.csv', sep='\\t', index=False, encoding='utf-8')\n",
    "\n",
    "train_data.to_csv('dataset/train_data.csv', sep='\\t', index=False, encoding='utf-8')\n",
    "test_data.to_csv('dataset/test_data.csv', sep='\\t', index=False, encoding='utf-8')\n",
    "'''"
   ],
   "id": "bddf67f262780d1a",
   "outputs": [
    {
     "data": {
      "text/plain": [
       "'\\nfrom sklearn.compose import make_column_transformer\\nfrom sklearn.pipeline import Pipeline\\nfrom sklearn.preprocessing import QuantileTransformer, PowerTransformer, StandardScaler, MinMaxScaler, FunctionTransformer\\nimport pandas as pd\\n\\n# Definícia stĺpcov\\nnormal_columns = [\\n    \\'c.android.gm\\', \\'c.android.chrome\\', \\'c.dogalize\\', \\'c.katana\\',\\n    \\'c.android.youtube\\', \\'p.android.documentsui\\', \\'p.system\\',\\n    \\'p.android.chrome\\', \\'p.android.externalstorage\\', \\'p.android.gm\\',\\n    \\'p.android.packageinstaller\\'\\n]\\nskewed_column = [\\'p.olauncher\\']\\n\\nX_train = train_data.drop(columns=[\\'mwra\\'])\\ny_train = train_data[\\'mwra\\']\\nX_test = test_data.drop(columns=[\\'mwra\\'])\\ny_test = test_data[\\'mwra\\']\\n\\n# Krok 1: Quantile Transformácia pre šikmý stĺpec\\nquantile_transformer = Pipeline(steps=[\\n    (\\'transform\\', make_column_transformer(\\n        (QuantileTransformer(output_distribution=\"normal\", random_state=42), skewed_column),\\n        remainder=\\'passthrough\\')),\\n    (\\'to_dataframe\\', FunctionTransformer(lambda x: pd.DataFrame(x, columns=X_train.columns)))\\n])\\n\\n# Krok 2: Power Transformácia pre normálne stĺpce\\npower_transformer = Pipeline(steps=[\\n    (\\'transform\\', make_column_transformer(\\n        (PowerTransformer(method=\\'yeo-johnson\\', standardize=True), normal_columns),\\n        remainder=\\'passthrough\\')),\\n    (\\'to_dataframe\\', FunctionTransformer(lambda x: pd.DataFrame(x, columns=X_train.columns)))\\n])\\n\\n# Krok 3: Standard Scaling pre normálne stĺpce\\nstandard_scaler = Pipeline(steps=[\\n    (\\'transform\\', make_column_transformer(\\n        (StandardScaler(), normal_columns),\\n        remainder=\\'passthrough\\')),\\n    (\\'to_dataframe\\', FunctionTransformer(lambda x: pd.DataFrame(x, columns=X_train.columns)))\\n])\\n\\n# Krok 4: Min-Max Scaling pre šikmý stĺpec\\nminmax_scaler = Pipeline(steps=[\\n    (\\'transform\\', make_column_transformer(\\n        (MinMaxScaler(), skewed_column),\\n        remainder=\\'passthrough\\')),\\n    (\\'to_dataframe\\', FunctionTransformer(lambda x: pd.DataFrame(x, columns=X_train.columns)))\\n])\\n\\n# Vytvorenie hlavnej Pipeline s každým krokom zvlášť\\npipeline = Pipeline(steps=[\\n    (\\'quantile\\', quantile_transformer),\\n    (\\'power\\', power_transformer),\\n    (\\'scaler\\', standard_scaler),\\n    (\\'minmax\\', minmax_scaler),\\n], verbose=True)\\n\\n# Aplikácia pipeline na trénovacie dáta bez \\'mwra\\'\\nX_train_transformed = pipeline.fit_transform(X_train)\\nX_test_transformed = pipeline.transform(X_test)\\n\\n# Spojenie transformovaných dát s cieľovým stĺpcom \\'mwra\\'\\ntrain_transformed = pd.concat([y_train.reset_index(drop=True), X_train_transformed], axis=1)\\ntest_transformed = pd.concat([y_test.reset_index(drop=True), pd.DataFrame(X_test_transformed, columns=X_test.columns)], axis=1)\\n\\ntrain_transformed\\ntest_transformed\\n\\ntrain_transformed.to_csv(\\'dataset/train_transformed.csv\\', sep=\\'\\t\\', index=False, encoding=\\'utf-8\\')\\ntest_transformed.to_csv(\\'dataset/test_transformed.csv\\', sep=\\'\\t\\', index=False, encoding=\\'utf-8\\')\\n\\ntrain_data.to_csv(\\'dataset/train_data.csv\\', sep=\\'\\t\\', index=False, encoding=\\'utf-8\\')\\ntest_data.to_csv(\\'dataset/test_data.csv\\', sep=\\'\\t\\', index=False, encoding=\\'utf-8\\')\\n'"
      ]
     },
     "execution_count": 1,
     "metadata": {},
     "output_type": "execute_result"
    }
   ],
   "execution_count": 1
  },
  {
   "metadata": {},
   "cell_type": "markdown",
   "source": "# Načítanie údajov z datasetu\n",
   "id": "e7ba7180c3282794"
  },
  {
   "metadata": {
    "ExecuteTime": {
     "end_time": "2024-11-21T23:42:03.755463Z",
     "start_time": "2024-11-21T23:42:03.509246Z"
    }
   },
   "cell_type": "code",
   "source": [
    "import numpy as np\n",
    "import pandas as pd\n",
    "import matplotlib.pyplot as plt\n",
    "import seaborn as sns\n",
    "import scipy.stats as stats\n",
    "from collections import Counter\n",
    "from sklearn.metrics import accuracy_score, precision_score, recall_score, classification_report\n",
    "from sklearn.model_selection import train_test_split\n",
    "\n",
    "train_data = pd.read_csv('dataset/train_transformed.csv', sep='\\t')\n",
    "test_data = pd.read_csv('dataset/test_transformed.csv', sep='\\t')"
   ],
   "id": "7f3611945c94e8aa",
   "outputs": [],
   "execution_count": 2
  },
  {
   "metadata": {
    "ExecuteTime": {
     "end_time": "2024-11-21T23:42:04.289801Z",
     "start_time": "2024-11-21T23:42:04.280388Z"
    }
   },
   "cell_type": "code",
   "source": [
    "print(\"Train Data:\")\n",
    "print(train_data.head())\n",
    "print(\"\\nTest Data:\")\n",
    "print(test_data.head())\n",
    "\n",
    "# Kontrola rozmerov\n",
    "print(f\"Train Data Shape: {train_data.shape}\")\n",
    "print(f\"Test Data Shape: {test_data.shape}\")"
   ],
   "id": "73dbcba632836df5",
   "outputs": [
    {
     "name": "stdout",
     "output_type": "stream",
     "text": [
      "Train Data:\n",
      "   mwra  c.android.gm  c.android.chrome  c.dogalize  c.katana  \\\n",
      "0   1.0      0.403027         -1.572328   -1.196035  2.301022   \n",
      "1   1.0      0.908776          0.707338    1.151811 -0.251835   \n",
      "2   1.0      0.351158          1.938269   -1.274725  0.809769   \n",
      "3   0.0      0.325842          0.640564   -0.361116 -0.864497   \n",
      "4   1.0      0.734380          0.059038   -0.449809 -0.117029   \n",
      "\n",
      "   c.android.youtube  p.android.documentsui  p.system  p.android.chrome  \\\n",
      "0          -0.703173               0.915003 -0.838687         -1.642949   \n",
      "1           2.136694               0.416367 -1.502387          0.676350   \n",
      "2          -0.008190               0.034201 -1.512423          1.091820   \n",
      "3          -0.427110              -1.567158  0.530647          0.571926   \n",
      "4          -0.569458               0.434554  0.497189          1.137384   \n",
      "\n",
      "   p.android.externalstorage  p.android.gm  p.android.packageinstaller  \\\n",
      "0                  -1.695976     -2.154663                   -0.424138   \n",
      "1                   0.513026     -0.679295                    0.230764   \n",
      "2                  -1.326632     -0.924884                   -1.121591   \n",
      "3                   0.766355      0.552102                    1.193831   \n",
      "4                  -1.113548     -1.387703                   -0.184408   \n",
      "\n",
      "   p.olauncher  \n",
      "0    -0.352913  \n",
      "1     0.595074  \n",
      "2    -0.060092  \n",
      "3     0.009804  \n",
      "4     1.295555  \n",
      "\n",
      "Test Data:\n",
      "   mwra  c.android.gm  c.android.chrome  c.dogalize  c.katana  \\\n",
      "0   0.0      0.373890          0.610156    0.285616 -0.429362   \n",
      "1   1.0      0.570203          0.059038    0.919906  0.228144   \n",
      "2   1.0      0.316465          0.546797   -1.477025  0.987384   \n",
      "3   0.0      0.781418          1.938269    1.060450 -0.385298   \n",
      "4   1.0      0.420852          1.938269   -2.326543  1.354522   \n",
      "\n",
      "   c.android.youtube  p.android.documentsui  p.system  p.android.chrome  \\\n",
      "0           0.341374              -1.150998 -0.121016          0.528376   \n",
      "1          -2.131389               1.152416  2.011829          1.428209   \n",
      "2           0.776343               0.508488 -0.924363          0.423277   \n",
      "3          -0.958971              -2.175391  0.286926          0.815169   \n",
      "4           0.416027               0.052360 -0.733951          0.903959   \n",
      "\n",
      "   p.android.externalstorage  p.android.gm  p.android.packageinstaller  \\\n",
      "0                   1.680453     -0.147005                    1.736916   \n",
      "1                  -0.767012     -1.411216                   -1.590002   \n",
      "2                   0.965801     -0.644948                   -0.596052   \n",
      "3                   0.963643      0.976594                   -0.574060   \n",
      "4                  -0.667167     -1.621530                   -0.369644   \n",
      "\n",
      "   p.olauncher  \n",
      "0    -0.633256  \n",
      "1     1.434012  \n",
      "2    -2.010336  \n",
      "3    -0.783502  \n",
      "4     0.595264  \n",
      "Train Data Shape: (11907, 13)\n",
      "Test Data Shape: (2977, 13)\n"
     ]
    }
   ],
   "execution_count": 3
  },
  {
   "metadata": {
    "ExecuteTime": {
     "end_time": "2024-11-21T23:42:04.331830Z",
     "start_time": "2024-11-21T23:42:04.300662Z"
    }
   },
   "cell_type": "code",
   "source": "train_data.describe()",
   "id": "a7a68ad3905cd4f1",
   "outputs": [
    {
     "data": {
      "text/plain": [
       "               mwra  c.android.gm  c.android.chrome    c.dogalize  \\\n",
       "count  11907.000000  11907.000000      1.190700e+04  1.190700e+04   \n",
       "mean       0.626522      0.501998      2.028929e-17 -1.581371e-17   \n",
       "std        0.483748      0.174433      1.000042e+00  1.000042e+00   \n",
       "min        0.000000      0.000000     -8.250101e+00 -2.566519e+00   \n",
       "25%        0.000000      0.374909     -5.331085e-01 -7.061476e-01   \n",
       "50%        1.000000      0.496021      5.903843e-02  2.406279e-02   \n",
       "75%        1.000000      0.624946      4.666989e-01  7.005522e-01   \n",
       "max        1.000000      1.000000      1.938269e+00  3.000127e+00   \n",
       "\n",
       "           c.katana  c.android.youtube  p.android.documentsui      p.system  \\\n",
       "count  1.190700e+04       1.190700e+04           1.190700e+04  1.190700e+04   \n",
       "mean   3.162742e-17      -2.386975e-18           2.983719e-17 -2.685347e-18   \n",
       "std    1.000042e+00       1.000042e+00           1.000042e+00  1.000042e+00   \n",
       "min   -3.747457e+00      -2.834789e+00          -2.926061e+00 -2.739135e+00   \n",
       "25%   -6.904017e-01      -7.120093e-01          -7.333529e-01 -7.427930e-01   \n",
       "50%   -4.729727e-02       2.060091e-02           2.744748e-02  3.552965e-02   \n",
       "75%    6.979867e-01       7.137299e-01           7.145480e-01  7.404522e-01   \n",
       "max    2.315489e+00       2.833192e+00           2.871607e+00  2.999376e+00   \n",
       "\n",
       "       p.android.chrome  p.android.externalstorage  p.android.gm  \\\n",
       "count      1.190700e+04               1.190700e+04  1.190700e+04   \n",
       "mean      -9.547899e-18               9.547899e-18 -3.580462e-18   \n",
       "std        1.000042e+00               1.000042e+00  1.000042e+00   \n",
       "min       -2.743906e+00              -3.295124e+00 -2.913980e+00   \n",
       "25%       -6.788563e-01              -7.034967e-01 -7.109043e-01   \n",
       "50%        1.104699e-02              -1.158652e-02 -5.105099e-03   \n",
       "75%        6.796264e-01               7.001055e-01  7.261543e-01   \n",
       "max        2.696656e+00               2.542503e+00  2.794550e+00   \n",
       "\n",
       "       p.android.packageinstaller   p.olauncher  \n",
       "count                1.190700e+04  1.190700e+04  \n",
       "mean                -1.641045e-17  2.864370e-17  \n",
       "std                  1.000042e+00  1.000042e+00  \n",
       "min                 -3.009567e+00 -2.903089e+00  \n",
       "25%                 -6.794619e-01 -7.157187e-01  \n",
       "50%                 -1.850603e-02 -4.326195e-03  \n",
       "75%                  6.924067e-01  7.231563e-01  \n",
       "max                  2.589904e+00  2.766666e+00  "
      ],
      "text/html": [
       "<div>\n",
       "<style scoped>\n",
       "    .dataframe tbody tr th:only-of-type {\n",
       "        vertical-align: middle;\n",
       "    }\n",
       "\n",
       "    .dataframe tbody tr th {\n",
       "        vertical-align: top;\n",
       "    }\n",
       "\n",
       "    .dataframe thead th {\n",
       "        text-align: right;\n",
       "    }\n",
       "</style>\n",
       "<table border=\"1\" class=\"dataframe\">\n",
       "  <thead>\n",
       "    <tr style=\"text-align: right;\">\n",
       "      <th></th>\n",
       "      <th>mwra</th>\n",
       "      <th>c.android.gm</th>\n",
       "      <th>c.android.chrome</th>\n",
       "      <th>c.dogalize</th>\n",
       "      <th>c.katana</th>\n",
       "      <th>c.android.youtube</th>\n",
       "      <th>p.android.documentsui</th>\n",
       "      <th>p.system</th>\n",
       "      <th>p.android.chrome</th>\n",
       "      <th>p.android.externalstorage</th>\n",
       "      <th>p.android.gm</th>\n",
       "      <th>p.android.packageinstaller</th>\n",
       "      <th>p.olauncher</th>\n",
       "    </tr>\n",
       "  </thead>\n",
       "  <tbody>\n",
       "    <tr>\n",
       "      <th>count</th>\n",
       "      <td>11907.000000</td>\n",
       "      <td>11907.000000</td>\n",
       "      <td>1.190700e+04</td>\n",
       "      <td>1.190700e+04</td>\n",
       "      <td>1.190700e+04</td>\n",
       "      <td>1.190700e+04</td>\n",
       "      <td>1.190700e+04</td>\n",
       "      <td>1.190700e+04</td>\n",
       "      <td>1.190700e+04</td>\n",
       "      <td>1.190700e+04</td>\n",
       "      <td>1.190700e+04</td>\n",
       "      <td>1.190700e+04</td>\n",
       "      <td>1.190700e+04</td>\n",
       "    </tr>\n",
       "    <tr>\n",
       "      <th>mean</th>\n",
       "      <td>0.626522</td>\n",
       "      <td>0.501998</td>\n",
       "      <td>2.028929e-17</td>\n",
       "      <td>-1.581371e-17</td>\n",
       "      <td>3.162742e-17</td>\n",
       "      <td>-2.386975e-18</td>\n",
       "      <td>2.983719e-17</td>\n",
       "      <td>-2.685347e-18</td>\n",
       "      <td>-9.547899e-18</td>\n",
       "      <td>9.547899e-18</td>\n",
       "      <td>-3.580462e-18</td>\n",
       "      <td>-1.641045e-17</td>\n",
       "      <td>2.864370e-17</td>\n",
       "    </tr>\n",
       "    <tr>\n",
       "      <th>std</th>\n",
       "      <td>0.483748</td>\n",
       "      <td>0.174433</td>\n",
       "      <td>1.000042e+00</td>\n",
       "      <td>1.000042e+00</td>\n",
       "      <td>1.000042e+00</td>\n",
       "      <td>1.000042e+00</td>\n",
       "      <td>1.000042e+00</td>\n",
       "      <td>1.000042e+00</td>\n",
       "      <td>1.000042e+00</td>\n",
       "      <td>1.000042e+00</td>\n",
       "      <td>1.000042e+00</td>\n",
       "      <td>1.000042e+00</td>\n",
       "      <td>1.000042e+00</td>\n",
       "    </tr>\n",
       "    <tr>\n",
       "      <th>min</th>\n",
       "      <td>0.000000</td>\n",
       "      <td>0.000000</td>\n",
       "      <td>-8.250101e+00</td>\n",
       "      <td>-2.566519e+00</td>\n",
       "      <td>-3.747457e+00</td>\n",
       "      <td>-2.834789e+00</td>\n",
       "      <td>-2.926061e+00</td>\n",
       "      <td>-2.739135e+00</td>\n",
       "      <td>-2.743906e+00</td>\n",
       "      <td>-3.295124e+00</td>\n",
       "      <td>-2.913980e+00</td>\n",
       "      <td>-3.009567e+00</td>\n",
       "      <td>-2.903089e+00</td>\n",
       "    </tr>\n",
       "    <tr>\n",
       "      <th>25%</th>\n",
       "      <td>0.000000</td>\n",
       "      <td>0.374909</td>\n",
       "      <td>-5.331085e-01</td>\n",
       "      <td>-7.061476e-01</td>\n",
       "      <td>-6.904017e-01</td>\n",
       "      <td>-7.120093e-01</td>\n",
       "      <td>-7.333529e-01</td>\n",
       "      <td>-7.427930e-01</td>\n",
       "      <td>-6.788563e-01</td>\n",
       "      <td>-7.034967e-01</td>\n",
       "      <td>-7.109043e-01</td>\n",
       "      <td>-6.794619e-01</td>\n",
       "      <td>-7.157187e-01</td>\n",
       "    </tr>\n",
       "    <tr>\n",
       "      <th>50%</th>\n",
       "      <td>1.000000</td>\n",
       "      <td>0.496021</td>\n",
       "      <td>5.903843e-02</td>\n",
       "      <td>2.406279e-02</td>\n",
       "      <td>-4.729727e-02</td>\n",
       "      <td>2.060091e-02</td>\n",
       "      <td>2.744748e-02</td>\n",
       "      <td>3.552965e-02</td>\n",
       "      <td>1.104699e-02</td>\n",
       "      <td>-1.158652e-02</td>\n",
       "      <td>-5.105099e-03</td>\n",
       "      <td>-1.850603e-02</td>\n",
       "      <td>-4.326195e-03</td>\n",
       "    </tr>\n",
       "    <tr>\n",
       "      <th>75%</th>\n",
       "      <td>1.000000</td>\n",
       "      <td>0.624946</td>\n",
       "      <td>4.666989e-01</td>\n",
       "      <td>7.005522e-01</td>\n",
       "      <td>6.979867e-01</td>\n",
       "      <td>7.137299e-01</td>\n",
       "      <td>7.145480e-01</td>\n",
       "      <td>7.404522e-01</td>\n",
       "      <td>6.796264e-01</td>\n",
       "      <td>7.001055e-01</td>\n",
       "      <td>7.261543e-01</td>\n",
       "      <td>6.924067e-01</td>\n",
       "      <td>7.231563e-01</td>\n",
       "    </tr>\n",
       "    <tr>\n",
       "      <th>max</th>\n",
       "      <td>1.000000</td>\n",
       "      <td>1.000000</td>\n",
       "      <td>1.938269e+00</td>\n",
       "      <td>3.000127e+00</td>\n",
       "      <td>2.315489e+00</td>\n",
       "      <td>2.833192e+00</td>\n",
       "      <td>2.871607e+00</td>\n",
       "      <td>2.999376e+00</td>\n",
       "      <td>2.696656e+00</td>\n",
       "      <td>2.542503e+00</td>\n",
       "      <td>2.794550e+00</td>\n",
       "      <td>2.589904e+00</td>\n",
       "      <td>2.766666e+00</td>\n",
       "    </tr>\n",
       "  </tbody>\n",
       "</table>\n",
       "</div>"
      ]
     },
     "execution_count": 4,
     "metadata": {},
     "output_type": "execute_result"
    }
   ],
   "execution_count": 4
  },
  {
   "metadata": {
    "ExecuteTime": {
     "end_time": "2024-11-21T23:42:04.389478Z",
     "start_time": "2024-11-21T23:42:04.366294Z"
    }
   },
   "cell_type": "code",
   "source": "test_data.describe()",
   "id": "c3160f9e98eea3db",
   "outputs": [
    {
     "data": {
      "text/plain": [
       "              mwra  c.android.gm  c.android.chrome   c.dogalize     c.katana  \\\n",
       "count  2977.000000   2977.000000       2977.000000  2977.000000  2977.000000   \n",
       "mean      0.626470      0.511347          0.024020     0.025745    -0.015024   \n",
       "std       0.483822      0.177849          1.010466     0.995494     0.992461   \n",
       "min       0.000000     -0.002998         -4.927564    -2.565571    -3.548448   \n",
       "25%       0.000000      0.379537         -0.495842    -0.660863    -0.677556   \n",
       "50%       1.000000      0.506209          0.059038     0.040588    -0.047297   \n",
       "75%       1.000000      0.638797          0.495437     0.716173     0.656435   \n",
       "max       1.000000      1.006502          1.938269     2.902259     2.335016   \n",
       "\n",
       "       c.android.youtube  p.android.documentsui     p.system  \\\n",
       "count        2977.000000            2977.000000  2977.000000   \n",
       "mean            0.036886              -0.008899    -0.011486   \n",
       "std             1.017747               1.016067     0.970615   \n",
       "min            -2.800601              -2.940977    -2.639229   \n",
       "25%            -0.666094              -0.753827    -0.698564   \n",
       "50%             0.058036              -0.002603     0.017328   \n",
       "75%             0.742826               0.738715     0.679082   \n",
       "max             2.825817               2.882211     2.955397   \n",
       "\n",
       "       p.android.chrome  p.android.externalstorage  p.android.gm  \\\n",
       "count       2977.000000                2977.000000   2977.000000   \n",
       "mean           0.038201                   0.002155     -0.000192   \n",
       "std            1.011245                   1.014653      0.983529   \n",
       "min           -2.747525                  -3.119693     -2.985954   \n",
       "25%           -0.638178                  -0.706477     -0.686200   \n",
       "50%            0.034836                  -0.018579     -0.004476   \n",
       "75%            0.729077                   0.727785      0.734095   \n",
       "max            2.727371                   2.566141      2.778743   \n",
       "\n",
       "       p.android.packageinstaller  p.olauncher  \n",
       "count                 2977.000000  2977.000000  \n",
       "mean                     0.014894    -0.000304  \n",
       "std                      0.998040     0.989041  \n",
       "min                     -2.980247    -2.911208  \n",
       "25%                     -0.683492    -0.687749  \n",
       "50%                      0.006095     0.017368  \n",
       "75%                      0.694419     0.733685  \n",
       "max                      2.604146     2.746311  "
      ],
      "text/html": [
       "<div>\n",
       "<style scoped>\n",
       "    .dataframe tbody tr th:only-of-type {\n",
       "        vertical-align: middle;\n",
       "    }\n",
       "\n",
       "    .dataframe tbody tr th {\n",
       "        vertical-align: top;\n",
       "    }\n",
       "\n",
       "    .dataframe thead th {\n",
       "        text-align: right;\n",
       "    }\n",
       "</style>\n",
       "<table border=\"1\" class=\"dataframe\">\n",
       "  <thead>\n",
       "    <tr style=\"text-align: right;\">\n",
       "      <th></th>\n",
       "      <th>mwra</th>\n",
       "      <th>c.android.gm</th>\n",
       "      <th>c.android.chrome</th>\n",
       "      <th>c.dogalize</th>\n",
       "      <th>c.katana</th>\n",
       "      <th>c.android.youtube</th>\n",
       "      <th>p.android.documentsui</th>\n",
       "      <th>p.system</th>\n",
       "      <th>p.android.chrome</th>\n",
       "      <th>p.android.externalstorage</th>\n",
       "      <th>p.android.gm</th>\n",
       "      <th>p.android.packageinstaller</th>\n",
       "      <th>p.olauncher</th>\n",
       "    </tr>\n",
       "  </thead>\n",
       "  <tbody>\n",
       "    <tr>\n",
       "      <th>count</th>\n",
       "      <td>2977.000000</td>\n",
       "      <td>2977.000000</td>\n",
       "      <td>2977.000000</td>\n",
       "      <td>2977.000000</td>\n",
       "      <td>2977.000000</td>\n",
       "      <td>2977.000000</td>\n",
       "      <td>2977.000000</td>\n",
       "      <td>2977.000000</td>\n",
       "      <td>2977.000000</td>\n",
       "      <td>2977.000000</td>\n",
       "      <td>2977.000000</td>\n",
       "      <td>2977.000000</td>\n",
       "      <td>2977.000000</td>\n",
       "    </tr>\n",
       "    <tr>\n",
       "      <th>mean</th>\n",
       "      <td>0.626470</td>\n",
       "      <td>0.511347</td>\n",
       "      <td>0.024020</td>\n",
       "      <td>0.025745</td>\n",
       "      <td>-0.015024</td>\n",
       "      <td>0.036886</td>\n",
       "      <td>-0.008899</td>\n",
       "      <td>-0.011486</td>\n",
       "      <td>0.038201</td>\n",
       "      <td>0.002155</td>\n",
       "      <td>-0.000192</td>\n",
       "      <td>0.014894</td>\n",
       "      <td>-0.000304</td>\n",
       "    </tr>\n",
       "    <tr>\n",
       "      <th>std</th>\n",
       "      <td>0.483822</td>\n",
       "      <td>0.177849</td>\n",
       "      <td>1.010466</td>\n",
       "      <td>0.995494</td>\n",
       "      <td>0.992461</td>\n",
       "      <td>1.017747</td>\n",
       "      <td>1.016067</td>\n",
       "      <td>0.970615</td>\n",
       "      <td>1.011245</td>\n",
       "      <td>1.014653</td>\n",
       "      <td>0.983529</td>\n",
       "      <td>0.998040</td>\n",
       "      <td>0.989041</td>\n",
       "    </tr>\n",
       "    <tr>\n",
       "      <th>min</th>\n",
       "      <td>0.000000</td>\n",
       "      <td>-0.002998</td>\n",
       "      <td>-4.927564</td>\n",
       "      <td>-2.565571</td>\n",
       "      <td>-3.548448</td>\n",
       "      <td>-2.800601</td>\n",
       "      <td>-2.940977</td>\n",
       "      <td>-2.639229</td>\n",
       "      <td>-2.747525</td>\n",
       "      <td>-3.119693</td>\n",
       "      <td>-2.985954</td>\n",
       "      <td>-2.980247</td>\n",
       "      <td>-2.911208</td>\n",
       "    </tr>\n",
       "    <tr>\n",
       "      <th>25%</th>\n",
       "      <td>0.000000</td>\n",
       "      <td>0.379537</td>\n",
       "      <td>-0.495842</td>\n",
       "      <td>-0.660863</td>\n",
       "      <td>-0.677556</td>\n",
       "      <td>-0.666094</td>\n",
       "      <td>-0.753827</td>\n",
       "      <td>-0.698564</td>\n",
       "      <td>-0.638178</td>\n",
       "      <td>-0.706477</td>\n",
       "      <td>-0.686200</td>\n",
       "      <td>-0.683492</td>\n",
       "      <td>-0.687749</td>\n",
       "    </tr>\n",
       "    <tr>\n",
       "      <th>50%</th>\n",
       "      <td>1.000000</td>\n",
       "      <td>0.506209</td>\n",
       "      <td>0.059038</td>\n",
       "      <td>0.040588</td>\n",
       "      <td>-0.047297</td>\n",
       "      <td>0.058036</td>\n",
       "      <td>-0.002603</td>\n",
       "      <td>0.017328</td>\n",
       "      <td>0.034836</td>\n",
       "      <td>-0.018579</td>\n",
       "      <td>-0.004476</td>\n",
       "      <td>0.006095</td>\n",
       "      <td>0.017368</td>\n",
       "    </tr>\n",
       "    <tr>\n",
       "      <th>75%</th>\n",
       "      <td>1.000000</td>\n",
       "      <td>0.638797</td>\n",
       "      <td>0.495437</td>\n",
       "      <td>0.716173</td>\n",
       "      <td>0.656435</td>\n",
       "      <td>0.742826</td>\n",
       "      <td>0.738715</td>\n",
       "      <td>0.679082</td>\n",
       "      <td>0.729077</td>\n",
       "      <td>0.727785</td>\n",
       "      <td>0.734095</td>\n",
       "      <td>0.694419</td>\n",
       "      <td>0.733685</td>\n",
       "    </tr>\n",
       "    <tr>\n",
       "      <th>max</th>\n",
       "      <td>1.000000</td>\n",
       "      <td>1.006502</td>\n",
       "      <td>1.938269</td>\n",
       "      <td>2.902259</td>\n",
       "      <td>2.335016</td>\n",
       "      <td>2.825817</td>\n",
       "      <td>2.882211</td>\n",
       "      <td>2.955397</td>\n",
       "      <td>2.727371</td>\n",
       "      <td>2.566141</td>\n",
       "      <td>2.778743</td>\n",
       "      <td>2.604146</td>\n",
       "      <td>2.746311</td>\n",
       "    </tr>\n",
       "  </tbody>\n",
       "</table>\n",
       "</div>"
      ]
     },
     "execution_count": 5,
     "metadata": {},
     "output_type": "execute_result"
    }
   ],
   "execution_count": 5
  },
  {
   "metadata": {
    "ExecuteTime": {
     "end_time": "2024-11-21T23:42:04.473229Z",
     "start_time": "2024-11-21T23:42:04.467968Z"
    }
   },
   "cell_type": "code",
   "source": [
    "# Rozdelenie na atributy a cielovu premennu\n",
    "X_train = train_data.drop(columns=['mwra'])\n",
    "y_train = train_data['mwra']\n",
    "\n",
    "X_test = test_data.drop(columns=['mwra'])\n",
    "y_test = test_data['mwra']\n",
    "\n",
    "# Kontrola rozmerov\n",
    "print(f\"X_train Shape: {X_train.shape}, y_train Shape: {y_train.shape}\")\n",
    "print(f\"X_test Shape: {X_test.shape}, y_test Shape: {y_test.shape}\")"
   ],
   "id": "bc9815ca0ff8e373",
   "outputs": [
    {
     "name": "stdout",
     "output_type": "stream",
     "text": [
      "X_train Shape: (11907, 12), y_train Shape: (11907,)\n",
      "X_test Shape: (2977, 12), y_test Shape: (2977,)\n"
     ]
    }
   ],
   "execution_count": 6
  },
  {
   "metadata": {
    "ExecuteTime": {
     "end_time": "2024-11-21T23:42:04.663699Z",
     "start_time": "2024-11-21T23:42:04.656617Z"
    }
   },
   "cell_type": "code",
   "source": [
    "# Kontrola distribucie tried\n",
    "print(\"Distribúcia v trénovacom datasete:\")\n",
    "print(y_train.value_counts(normalize=True))\n",
    "\n",
    "print(\"\\nDistribúcia v testovacom datasete:\")\n",
    "print(y_test.value_counts(normalize=True))"
   ],
   "id": "424380c9f29d60a0",
   "outputs": [
    {
     "name": "stdout",
     "output_type": "stream",
     "text": [
      "Distribúcia v trénovacom datasete:\n",
      "mwra\n",
      "1.0    0.626522\n",
      "0.0    0.373478\n",
      "Name: proportion, dtype: float64\n",
      "\n",
      "Distribúcia v testovacom datasete:\n",
      "mwra\n",
      "1.0    0.62647\n",
      "0.0    0.37353\n",
      "Name: proportion, dtype: float64\n"
     ]
    }
   ],
   "execution_count": 7
  },
  {
   "metadata": {},
   "cell_type": "markdown",
   "source": [
    "# 3.1 Jednoduchý klasikátor na základe závislosti v dátach\n",
    "\n",
    "## 3.1.A Implementácia ID3 klasifikátora"
   ],
   "id": "9b9deaf1bdc3b3c2"
  },
  {
   "cell_type": "code",
   "id": "initial_id",
   "metadata": {
    "collapsed": true,
    "ExecuteTime": {
     "end_time": "2024-11-21T23:49:14.592671Z",
     "start_time": "2024-11-21T23:42:04.815549Z"
    }
   },
   "source": [
    "# Rekurzivne rozdelenie dat do podmnozin na zaklade najlepsieho atributu\n",
    "class DecisionNode:\n",
    "    def __init__(self, feature=None, threshold=None, left=None, right=None, value=None):\n",
    "        self.feature = feature\n",
    "        self.threshold = threshold\n",
    "        self.left = left\n",
    "        self.right = right\n",
    "        self.value = value\n",
    "\n",
    "\n",
    "# Funkcia na vypocet entropie aktualnej datovej mnoziny\n",
    "def calculate_entropy(y):\n",
    "    counts = Counter(y)\n",
    "    total = len(y)\n",
    "    entropy = -sum((count / total) * np.log2(count / total) for count in counts.values())\n",
    "    return entropy\n",
    "\n",
    "\n",
    "# Funkcia na vypocet informacneho zisku pre numericke atributy\n",
    "def information_gain(X, y, feature):\n",
    "    parent_entropy = calculate_entropy(y)\n",
    "\n",
    "    # Pre numericke atributy potrebujeme vypocitat prahove hodnoty\n",
    "    thresholds = X[feature].sort_values().unique()\n",
    "    best_gain = 0\n",
    "    best_threshold = None\n",
    "\n",
    "    for threshold in thresholds:\n",
    "        left_y = y[X[feature] <= threshold]\n",
    "        right_y = y[X[feature] > threshold]\n",
    "\n",
    "        # Vypocitame vazenu entropiu pre dany prah\n",
    "        weighted_entropy = (\n",
    "                (len(left_y) / len(y)) * calculate_entropy(left_y)\n",
    "                + (len(right_y) / len(y)) * calculate_entropy(right_y)\n",
    "        )\n",
    "\n",
    "        gain = parent_entropy - weighted_entropy\n",
    "        if gain > best_gain:\n",
    "            best_gain = gain\n",
    "            best_threshold = threshold\n",
    "\n",
    "    return best_gain, best_threshold\n",
    "\n",
    "\n",
    "# Trieda ID3Classifier s podporou numerickych dat\n",
    "class ID3Classifier:\n",
    "    def __init__(self, max_depth=2):\n",
    "        self.max_depth = max_depth\n",
    "        self.tree = None\n",
    "\n",
    "    def fit(self, X, y, depth=0):\n",
    "        if len(set(y)) == 1:\n",
    "            return DecisionNode(value=y.iloc[0])\n",
    "\n",
    "        if depth == self.max_depth:\n",
    "            return DecisionNode(value=y.mode()[0])\n",
    "\n",
    "        # Najdeme najlepsi atribut a prah\n",
    "        best_feature = None\n",
    "        best_threshold = None\n",
    "        best_gain = -1\n",
    "\n",
    "        for feature in X.columns:\n",
    "            gain, threshold = information_gain(X, y, feature)\n",
    "            if gain > best_gain:\n",
    "                best_gain = gain\n",
    "                best_feature = feature\n",
    "                best_threshold = threshold\n",
    "\n",
    "        # Ak neexistuje ziadne delenie, vratime list\n",
    "        if best_feature is None:\n",
    "            return DecisionNode(value=y.mode()[0])\n",
    "\n",
    "        node = DecisionNode(feature=best_feature, threshold=best_threshold)\n",
    "        left_mask = X[best_feature] <= best_threshold\n",
    "        right_mask = X[best_feature] > best_threshold\n",
    "\n",
    "        node.left = self.fit(X[left_mask], y[left_mask], depth + 1)\n",
    "        node.right = self.fit(X[right_mask], y[right_mask], depth + 1)\n",
    "\n",
    "        return node\n",
    "\n",
    "    def predict_one(self, x, node):\n",
    "        if node.value is not None:\n",
    "            return node.value\n",
    "\n",
    "        if x[node.feature] <= node.threshold:\n",
    "            return self.predict_one(x, node.left)\n",
    "        else:\n",
    "            return self.predict_one(x, node.right)\n",
    "\n",
    "    def predict(self, X):\n",
    "        return X.apply(lambda x: self.predict_one(x, self.tree), axis=1)\n",
    "\n",
    "\n",
    "# Trenovanie ID3 modelu\n",
    "id3 = ID3Classifier(max_depth=3)\n",
    "id3.tree = id3.fit(X_train, y_train)\n",
    "\n",
    "# Predikcia na trenovacej a testovacej mnozine\n",
    "y_train_pred = id3.predict(X_train)\n",
    "y_test_pred = id3.predict(X_test)\n",
    "\n",
    "print(\"Train predikcie:\\n\", y_train_pred)\n",
    "print(\"Test predikcie:\\n\", y_test_pred)"
   ],
   "outputs": [
    {
     "name": "stdout",
     "output_type": "stream",
     "text": [
      "Train predikcie:\n",
      " 0        1.0\n",
      "1        1.0\n",
      "2        1.0\n",
      "3        0.0\n",
      "4        1.0\n",
      "        ... \n",
      "11902    0.0\n",
      "11903    0.0\n",
      "11904    1.0\n",
      "11905    1.0\n",
      "11906    0.0\n",
      "Length: 11907, dtype: float64\n",
      "Test predikcie:\n",
      " 0       0.0\n",
      "1       1.0\n",
      "2       1.0\n",
      "3       0.0\n",
      "4       1.0\n",
      "       ... \n",
      "2972    0.0\n",
      "2973    0.0\n",
      "2974    0.0\n",
      "2975    1.0\n",
      "2976    1.0\n",
      "Length: 2977, dtype: float64\n"
     ]
    }
   ],
   "execution_count": 8
  },
  {
   "metadata": {},
   "cell_type": "markdown",
   "source": "## 3.1.B Vyhodnotenie modelu",
   "id": "6161752d6e9244c6"
  },
  {
   "metadata": {
    "ExecuteTime": {
     "end_time": "2024-11-21T23:49:14.706692Z",
     "start_time": "2024-11-21T23:49:14.667716Z"
    }
   },
   "cell_type": "code",
   "source": [
    "print(\"Výsledky pre trénovaciu množinu:\")\n",
    "print(f\"Accuracy: {accuracy_score(y_train, y_train_pred):.4f}\")\n",
    "print(f\"Precision: {precision_score(y_train, y_train_pred, average='binary'):.4f}\")\n",
    "print(f\"Recall: {recall_score(y_train, y_train_pred, average='binary'):.4f}\")\n",
    "print(\"\\nPodrobný report:\")\n",
    "print(classification_report(y_train, y_train_pred))\n",
    "\n",
    "print(\"\\nVýsledky pre testovaciu množinu:\")\n",
    "print(f\"Accuracy: {accuracy_score(y_test, y_test_pred):.4f}\")\n",
    "print(f\"Precision: {precision_score(y_test, y_test_pred, average='binary'):.4f}\")\n",
    "print(f\"Recall: {recall_score(y_test, y_test_pred, average='binary'):.4f}\")\n",
    "print(\"\\nPodrobný report:\")\n",
    "print(classification_report(y_test, y_test_pred))"
   ],
   "id": "ddff181c917916ab",
   "outputs": [
    {
     "name": "stdout",
     "output_type": "stream",
     "text": [
      "Výsledky pre trénovaciu množinu:\n",
      "Accuracy: 0.8653\n",
      "Precision: 0.8759\n",
      "Recall: 0.9146\n",
      "\n",
      "Podrobný report:\n",
      "              precision    recall  f1-score   support\n",
      "\n",
      "         0.0       0.85      0.78      0.81      4447\n",
      "         1.0       0.88      0.91      0.89      7460\n",
      "\n",
      "    accuracy                           0.87     11907\n",
      "   macro avg       0.86      0.85      0.85     11907\n",
      "weighted avg       0.86      0.87      0.86     11907\n",
      "\n",
      "\n",
      "Výsledky pre testovaciu množinu:\n",
      "Accuracy: 0.8707\n",
      "Precision: 0.8826\n",
      "Recall: 0.9153\n",
      "\n",
      "Podrobný report:\n",
      "              precision    recall  f1-score   support\n",
      "\n",
      "         0.0       0.85      0.80      0.82      1112\n",
      "         1.0       0.88      0.92      0.90      1865\n",
      "\n",
      "    accuracy                           0.87      2977\n",
      "   macro avg       0.87      0.86      0.86      2977\n",
      "weighted avg       0.87      0.87      0.87      2977\n",
      "\n"
     ]
    }
   ],
   "execution_count": 9
  },
  {
   "metadata": {},
   "cell_type": "markdown",
   "source": [
    "### Interpretácia výsledkov pre max depth 3:\n",
    "1. Presnosť (Accuracy):\n",
    "    - Trénovacia presnosť: 86.53 %\n",
    "    - Testovacia presnosť: 87.07 %\n",
    "    - Obidve sú veľmi dobré a pomerne stabilné medzi trénovacím a testovacím datasetom, čo naznačuje, že model dobre generalizuje.\n",
    "\n",
    "2. Presnosť (Precision):\n",
    "    - Trénovacia presnosť: 87.59 %\n",
    "    - Testovacia presnosť: 88.26 %\n",
    "    - Vysoká presnosť na oboch množinách znamená, že model minimalizuje počet falošných pozitív (t.j. nesprávne klasifikované pozitívne prípady).\n",
    "\n",
    "3. Recall (Revokovanie):\n",
    "    - Trénovacia revokácia: 91.46 %\n",
    "    - Testovacia revokácia: 91.53 %\n",
    "    - Model má veľmi vysokú recall hodnotu, čo znamená, že zachytáva väčšinu skutočných pozitívnych prípadov, čo je dôležité pre odhaľovanie malvéru.\n",
    "\n",
    "4. F1-Score:\n",
    "    - F1-Score (pre triedu 1.0): 0.89 (trénovacia) a 0.90 (testovacia)\n",
    "    - F1-Score je veľmi dobrá metrika pre nevyvážené dáta, ako je náš prípad, kde jedna trieda (1.0) je viac zastúpená. Tento výsledok ukazuje, že model má veľmi dobrý kompromis medzi presnosťou a recallom.\n",
    "\n",
    "5. Macro a weighted average:\n",
    "    - Macro avg (priemer medzi triedami):\n",
    "        - Trénovanie: Precision 0.86, Recall 0.85\n",
    "        - Testovanie: Precision 0.87, Recall 0.86\n",
    "    - Weighted avg (vážený priemer podľa počtu príkladov v každej triede):\n",
    "        - Trénovanie: Precision 0.86, Recall 0.87\n",
    "        - Testovanie: Precision 0.87, Recall 0.87\n",
    "    - Tieto hodnoty tiež naznačujú, že model je vyvážený medzi oboma triedami, bez výrazných sklonov."
   ],
   "id": "b3a83a3b53c1c026"
  },
  {
   "metadata": {},
   "cell_type": "markdown",
   "source": "## 3.1.C Overenie overfittingu",
   "id": "76d342cd290dc4e4"
  },
  {
   "metadata": {
    "ExecuteTime": {
     "end_time": "2024-11-21T23:49:14.942339Z",
     "start_time": "2024-11-21T23:49:14.728258Z"
    }
   },
   "cell_type": "code",
   "source": [
    "# Metriky pre trenovaciu a testovaciu mnozinu\n",
    "train_metrics = [accuracy_score(y_train, y_train_pred), precision_score(y_train, y_train_pred), recall_score(y_train, y_train_pred)]\n",
    "test_metrics = [accuracy_score(y_test, y_test_pred), precision_score(y_test, y_test_pred), recall_score(y_test, y_test_pred)]\n",
    "\n",
    "metrics = ['Accuracy', 'Precision', 'Recall']\n",
    "\n",
    "x = np.arange(len(metrics))\n",
    "width = 0.35\n",
    "\n",
    "fig, ax = plt.subplots(figsize=(8, 6))\n",
    "\n",
    "# Stlpce pre trenovaciu a testovaciu mnozinu\n",
    "rects1 = ax.bar(x - width/2, train_metrics, width, label='Train', color='b')\n",
    "rects2 = ax.bar(x + width/2, test_metrics, width, label='Test', color='g')\n",
    "\n",
    "# Pridanie popisov, titulkov a zobrazenie\n",
    "ax.set_ylabel('Scores')\n",
    "ax.set_title('Comparison of metrics between Train and Test data')\n",
    "ax.set_xticks(x)\n",
    "ax.set_xticklabels(metrics)\n",
    "ax.legend()\n",
    "\n",
    "plt.tight_layout()\n",
    "plt.show()"
   ],
   "id": "2146eda6d071f1a0",
   "outputs": [
    {
     "data": {
      "text/plain": [
       "<Figure size 800x600 with 1 Axes>"
      ],
      "image/png": "[encoded data removed]"
     },
     "metadata": {},
     "output_type": "display_data"
    }
   ],
   "execution_count": 10
  },
  {
   "metadata": {},
   "cell_type": "markdown",
   "source": "#### Naše výsledky sú veľmi dobré! Máme vysokú presnosť, recall aj F1-skóre, ktoré naznačujú, že model funguje veľmi dobre na detekciu mwra aktivity. Z interpretácie výsledkov a z grafu vidíme, že metriky sú vyvážené a pre testovaciu množinu sú o niečo lepšie, preto náš model nie je preučený.",
   "id": "97515e930d1ca915"
  },
  {
   "metadata": {},
   "cell_type": "markdown",
   "source": [
    "# 3.2 Trénovanie a vyhodnotenie klasikátorov strojového učenia\n",
    "\n",
    "## 3.2.A"
   ],
   "id": "734228173c535a5a"
  },
  {
   "metadata": {
    "ExecuteTime": {
     "end_time": "2024-11-21T23:49:14.968477Z",
     "start_time": "2024-11-21T23:49:14.965343Z"
    }
   },
   "cell_type": "code",
   "source": "",
   "id": "bd44cfb7f8692950",
   "outputs": [],
   "execution_count": null
  },
  {
   "metadata": {},
   "cell_type": "markdown",
   "source": "## 3.2.B",
   "id": "e3c17ed7c7093724"
  },
  {
   "metadata": {
    "ExecuteTime": {
     "end_time": "2024-11-21T23:49:14.989806Z",
     "start_time": "2024-11-21T23:49:14.987020Z"
    }
   },
   "cell_type": "code",
   "source": "",
   "id": "6ef3677d9c4d5776",
   "outputs": [],
   "execution_count": null
  },
  {
   "metadata": {},
   "cell_type": "markdown",
   "source": "## 3.2.C",
   "id": "a070363aff9c8edf"
  },
  {
   "metadata": {
    "ExecuteTime": {
     "end_time": "2024-11-21T23:49:15.023679Z",
     "start_time": "2024-11-21T23:49:15.021141Z"
    }
   },
   "cell_type": "code",
   "source": "",
   "id": "827ce17ae41a4b5e",
   "outputs": [],
   "execution_count": null
  },
  {
   "metadata": {},
   "cell_type": "markdown",
   "source": "## 3.2.D",
   "id": "c57f5688f32febbb"
  },
  {
   "metadata": {
    "ExecuteTime": {
     "end_time": "2024-11-21T23:49:15.053242Z",
     "start_time": "2024-11-21T23:49:15.050893Z"
    }
   },
   "cell_type": "code",
   "source": "",
   "id": "34a955a880c43546",
   "outputs": [],
   "execution_count": null
  },
  {
   "metadata": {},
   "cell_type": "markdown",
   "source": "## 3.2.E",
   "id": "8b8da62e76058398"
  },
  {
   "metadata": {
    "ExecuteTime": {
     "end_time": "2024-11-21T23:49:15.094237Z",
     "start_time": "2024-11-21T23:49:15.090711Z"
    }
   },
   "cell_type": "code",
   "source": "",
   "id": "32c7b55427ad9d65",
   "outputs": [],
   "execution_count": null
  },
  {
   "metadata": {},
   "cell_type": "markdown",
   "source": [
    "# 3.3 Optimalizácia alias hyperparameter tuning\n",
    "\n",
    "## 3.3.A"
   ],
   "id": "1e30f154d122f8c9"
  },
  {
   "metadata": {
    "ExecuteTime": {
     "end_time": "2024-11-21T23:49:15.118094Z",
     "start_time": "2024-11-21T23:49:15.114447Z"
    }
   },
   "cell_type": "code",
   "source": "",
   "id": "23a7276e380c5b4e",
   "outputs": [],
   "execution_count": null
  },
  {
   "metadata": {},
   "cell_type": "markdown",
   "source": "## 3.3.B",
   "id": "d567916c6ecd61b0"
  },
  {
   "metadata": {
    "ExecuteTime": {
     "end_time": "2024-11-21T23:49:15.139009Z",
     "start_time": "2024-11-21T23:49:15.136793Z"
    }
   },
   "cell_type": "code",
   "source": "",
   "id": "696d74a0dfab1e40",
   "outputs": [],
   "execution_count": null
  },
  {
   "metadata": {},
   "cell_type": "markdown",
   "source": "## 3.3.C",
   "id": "64e05cb44cf69c80"
  },
  {
   "metadata": {
    "ExecuteTime": {
     "end_time": "2024-11-21T23:49:15.166416Z",
     "start_time": "2024-11-21T23:49:15.163526Z"
    }
   },
   "cell_type": "code",
   "source": "",
   "id": "a162d4ca91911553",
   "outputs": [],
   "execution_count": null
  },
  {
   "metadata": {},
   "cell_type": "markdown",
   "source": "## 3.3.D",
   "id": "57839d6f07a0d5d7"
  },
  {
   "metadata": {
    "ExecuteTime": {
     "end_time": "2024-11-21T23:49:15.195156Z",
     "start_time": "2024-11-21T23:49:15.192480Z"
    }
   },
   "cell_type": "code",
   "source": "",
   "id": "5c07f03d2e8fa4a8",
   "outputs": [],
   "execution_count": null
  },
  {
   "metadata": {},
   "cell_type": "markdown",
   "source": [
    "# 3.4 Vyhodnotenie vplyvu zvolenej stratégie riešenia na klasikáciu\n",
    "\n",
    "## 3.4.A"
   ],
   "id": "1673ab0fb8c1dbde"
  },
  {
   "metadata": {
    "ExecuteTime": {
     "end_time": "2024-11-21T23:49:15.218839Z",
     "start_time": "2024-11-21T23:49:15.214287Z"
    }
   },
   "cell_type": "code",
   "source": "",
   "id": "9d12d9a5bf831907",
   "outputs": [],
   "execution_count": null
  },
  {
   "metadata": {},
   "cell_type": "markdown",
   "source": "## 3.4.B",
   "id": "351de9be05e78b04"
  },
  {
   "metadata": {
    "ExecuteTime": {
     "end_time": "2024-11-21T23:49:15.248800Z",
     "start_time": "2024-11-21T23:49:15.245685Z"
    }
   },
   "cell_type": "code",
   "source": "",
   "id": "dfba5b090d257a18",
   "outputs": [],
   "execution_count": null
  },
  {
   "metadata": {},
   "cell_type": "markdown",
   "source": "## 3.4.C",
   "id": "3328ab2e73477b4c"
  },
  {
   "metadata": {
    "ExecuteTime": {
     "end_time": "2024-11-21T23:49:15.280278Z",
     "start_time": "2024-11-21T23:49:15.277236Z"
    }
   },
   "cell_type": "code",
   "source": "",
   "id": "ddceacef4544e740",
   "outputs": [],
   "execution_count": null
  },
  {
   "metadata": {},
   "cell_type": "markdown",
   "source": "## 3.4.D",
   "id": "1bcf16ba57289490"
  },
  {
   "metadata": {
    "ExecuteTime": {
     "end_time": "2024-11-21T23:49:15.306744Z",
     "start_time": "2024-11-21T23:49:15.304063Z"
    }
   },
   "cell_type": "code",
   "source": "",
   "id": "df6188776eb62263",
   "outputs": [],
   "execution_count": null
  },
  {
   "metadata": {},
   "cell_type": "markdown",
   "source": "## 3.4.E",
   "id": "e271a489d9acb7eb"
  },
  {
   "metadata": {
    "ExecuteTime": {
     "end_time": "2024-11-21T23:49:15.333377Z",
     "start_time": "2024-11-21T23:49:15.331079Z"
    }
   },
   "cell_type": "code",
   "source": "",
   "id": "4be33d64e14798f6",
   "outputs": [],
   "execution_count": null
  }
 ],
 "metadata": {
  "kernelspec": {
   "display_name": "Python 3",
   "language": "python",
   "name": "python3"
  },
  "language_info": {
   "codemirror_mode": {
    "name": "ipython",
    "version": 2
   },
   "file_extension": ".py",
   "mimetype": "text/x-python",
   "name": "python",
   "nbconvert_exporter": "python",
   "pygments_lexer": "ipython2",
   "version": "2.7.6"
  }
 },
 "nbformat": 4,
 "nbformat_minor": 5
}
