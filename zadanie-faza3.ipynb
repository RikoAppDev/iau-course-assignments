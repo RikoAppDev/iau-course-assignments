{
 "cells": [
  {
   "metadata": {},
   "cell_type": "markdown",
   "source": [
    "#   IAU Zadanie - III. fáza\n",
    "\n",
    "### Autori: Peter Brandajsky - 50%, Frederik Duvač - 50%"
   ],
   "id": "ef5d663fafadc6d4"
  },
  {
   "metadata": {},
   "cell_type": "markdown",
   "source": "# Načítanie údajov z datasetu\n",
   "id": "e7ba7180c3282794"
  },
  {
   "metadata": {},
   "cell_type": "code",
   "outputs": [],
   "execution_count": null,
   "source": "",
   "id": "7f3611945c94e8aa"
  },
  {
   "metadata": {},
   "cell_type": "markdown",
   "source": [
    "# 3.1 Jednoduchý klasikátor na základe závislosti v dátach\n",
    "\n",
    "## 3.1.A"
   ],
   "id": "9b9deaf1bdc3b3c2"
  },
  {
   "cell_type": "code",
   "execution_count": null,
   "id": "initial_id",
   "metadata": {
    "collapsed": true
   },
   "outputs": [],
   "source": [
    ""
   ]
  },
  {
   "metadata": {},
   "cell_type": "markdown",
   "source": "## 3.1.B",
   "id": "6161752d6e9244c6"
  },
  {
   "metadata": {},
   "cell_type": "code",
   "outputs": [],
   "execution_count": null,
   "source": "",
   "id": "ddff181c917916ab"
  },
  {
   "metadata": {},
   "cell_type": "markdown",
   "source": "## 3.1.C",
   "id": "76d342cd290dc4e4"
  },
  {
   "metadata": {},
   "cell_type": "code",
   "outputs": [],
   "execution_count": null,
   "source": "",
   "id": "261e2f47a13cd826"
  },
  {
   "metadata": {},
   "cell_type": "markdown",
   "source": [
    "# 3.2 Trénovanie a vyhodnotenie klasikátorov strojového učenia\n",
    "\n",
    "## 3.2.A"
   ],
   "id": "734228173c535a5a"
  },
  {
   "metadata": {},
   "cell_type": "code",
   "outputs": [],
   "execution_count": null,
   "source": "",
   "id": "bd44cfb7f8692950"
  },
  {
   "metadata": {},
   "cell_type": "markdown",
   "source": "## 3.2.B",
   "id": "e3c17ed7c7093724"
  },
  {
   "metadata": {},
   "cell_type": "code",
   "outputs": [],
   "execution_count": null,
   "source": "",
   "id": "6ef3677d9c4d5776"
  },
  {
   "metadata": {},
   "cell_type": "markdown",
   "source": "## 3.2.C",
   "id": "a070363aff9c8edf"
  },
  {
   "metadata": {},
   "cell_type": "code",
   "outputs": [],
   "execution_count": null,
   "source": "",
   "id": "827ce17ae41a4b5e"
  },
  {
   "metadata": {},
   "cell_type": "markdown",
   "source": "## 3.2.D",
   "id": "c57f5688f32febbb"
  },
  {
   "metadata": {},
   "cell_type": "code",
   "outputs": [],
   "execution_count": null,
   "source": "",
   "id": "34a955a880c43546"
  },
  {
   "metadata": {},
   "cell_type": "markdown",
   "source": "## 3.2.E",
   "id": "8b8da62e76058398"
  },
  {
   "metadata": {},
   "cell_type": "code",
   "outputs": [],
   "execution_count": null,
   "source": "",
   "id": "32c7b55427ad9d65"
  },
  {
   "metadata": {},
   "cell_type": "markdown",
   "source": [
    "# 3.3 Optimalizácia alias hyperparameter tuning\n",
    "\n",
    "## 3.3.A"
   ],
   "id": "1e30f154d122f8c9"
  },
  {
   "metadata": {},
   "cell_type": "code",
   "outputs": [],
   "execution_count": null,
   "source": "",
   "id": "23a7276e380c5b4e"
  },
  {
   "metadata": {},
   "cell_type": "markdown",
   "source": "## 3.3.B",
   "id": "d567916c6ecd61b0"
  },
  {
   "metadata": {},
   "cell_type": "code",
   "outputs": [],
   "execution_count": null,
   "source": "",
   "id": "696d74a0dfab1e40"
  },
  {
   "metadata": {},
   "cell_type": "markdown",
   "source": "## 3.3.C",
   "id": "64e05cb44cf69c80"
  },
  {
   "metadata": {},
   "cell_type": "code",
   "outputs": [],
   "execution_count": null,
   "source": "",
   "id": "a162d4ca91911553"
  },
  {
   "metadata": {},
   "cell_type": "markdown",
   "source": "## 3.3.D",
   "id": "57839d6f07a0d5d7"
  },
  {
   "metadata": {},
   "cell_type": "code",
   "outputs": [],
   "execution_count": null,
   "source": "",
   "id": "5c07f03d2e8fa4a8"
  },
  {
   "metadata": {},
   "cell_type": "markdown",
   "source": [
    "# 3.4 Vyhodnotenie vplyvu zvolenej stratégie riešenia na klasikáciu\n",
    "\n",
    "## 3.4.A"
   ],
   "id": "1673ab0fb8c1dbde"
  },
  {
   "metadata": {},
   "cell_type": "code",
   "outputs": [],
   "execution_count": null,
   "source": "",
   "id": "9d12d9a5bf831907"
  },
  {
   "metadata": {},
   "cell_type": "markdown",
   "source": "## 3.4.B",
   "id": "351de9be05e78b04"
  },
  {
   "metadata": {},
   "cell_type": "code",
   "outputs": [],
   "execution_count": null,
   "source": "",
   "id": "dfba5b090d257a18"
  },
  {
   "metadata": {},
   "cell_type": "markdown",
   "source": "## 3.4.C",
   "id": "3328ab2e73477b4c"
  },
  {
   "metadata": {},
   "cell_type": "code",
   "outputs": [],
   "execution_count": null,
   "source": "",
   "id": "ddceacef4544e740"
  },
  {
   "metadata": {},
   "cell_type": "markdown",
   "source": "## 3.4.D",
   "id": "1bcf16ba57289490"
  },
  {
   "metadata": {},
   "cell_type": "code",
   "outputs": [],
   "execution_count": null,
   "source": "",
   "id": "df6188776eb62263"
  },
  {
   "metadata": {},
   "cell_type": "markdown",
   "source": "## 3.4.E",
   "id": "e271a489d9acb7eb"
  },
  {
   "metadata": {},
   "cell_type": "code",
   "outputs": [],
   "execution_count": null,
   "source": "",
   "id": "4be33d64e14798f6"
  }
 ],
 "metadata": {
  "kernelspec": {
   "display_name": "Python 3",
   "language": "python",
   "name": "python3"
  },
  "language_info": {
   "codemirror_mode": {
    "name": "ipython",
    "version": 2
   },
   "file_extension": ".py",
   "mimetype": "text/x-python",
   "name": "python",
   "nbconvert_exporter": "python",
   "pygments_lexer": "ipython2",
   "version": "2.7.6"
  }
 },
 "nbformat": 4,
 "nbformat_minor": 5
}
